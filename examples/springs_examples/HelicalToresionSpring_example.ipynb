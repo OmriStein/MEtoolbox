{
 "cells": [
  {
   "cell_type": "code",
   "execution_count": null,
   "id": "52df8f04-37c0-4f9b-b7a7-fc36832dc5f2",
   "metadata": {},
   "outputs": [],
   "source": [
    "import os\n",
    "os.getcwd()\n",
    "os.chdir(\"../..\")\n",
    "os.getcwd()"
   ]
  },
  {
   "cell_type": "markdown",
   "id": "a7d5aa28",
   "metadata": {},
   "source": [
    "# Helical Torsion Spring\n",
    "\n",
    "<table><tr>\n",
    "<td>\n",
    "<img src=\"./img/Helical_Torsion_Spring/Torsion_Spring.png\" width=330\"/> </td>\n",
    "<td>\n",
    "<img src=\"./img/Helical_Torsion_Spring/Torsion_Spring_-_End_Types.png\" width=200\"/> </td>\n",
    "</tr></table>"
   ]
  },
  {
   "cell_type": "markdown",
   "id": "39e3fc9c",
   "metadata": {},
   "source": [
    "Importing the relevant Classes"
   ]
  },
  {
   "cell_type": "code",
   "execution_count": null,
   "id": "e72fde44",
   "metadata": {},
   "outputs": [],
   "source": [
    "from me_toolbox.springs import HelicalTorsionSpring, Spring\n",
    "from me_toolbox.tools import Nmm_per_rad_to_Nmm_per_deg"
   ]
  },
  {
   "cell_type": "markdown",
   "id": "2fed06dc",
   "metadata": {},
   "source": [
    "## Geometric properties"
   ]
  },
  {
   "cell_type": "markdown",
   "id": "410aa0f9",
   "metadata": {},
   "source": [
    "d - Wire diameter<br>\n",
    "D - Spring mean diameter<br>\n",
    "l1 - First leg<br>\n",
    "l2 - second leg"
   ]
  },
  {
   "cell_type": "code",
   "execution_count": null,
   "id": "7bc7753c",
   "metadata": {},
   "outputs": [],
   "source": [
    "d = 1.829  # [mm]\n",
    "OD = 15.081  # [mm]\n",
    "D = OD - d  \n",
    "print(f\"{D = :.2f}\")\n",
    "pin = 10.16  # [mm]\n",
    "l1 = 25.4  # [mm]\n",
    "l2 = l1  # [mm]"
   ]
  },
  {
   "cell_type": "markdown",
   "id": "55b09455",
   "metadata": {},
   "source": [
    "## Material properties"
   ]
  },
  {
   "cell_type": "markdown",
   "id": "fb33518d",
   "metadata": {},
   "source": [
    "Table 10-4 from Shigley:\n",
    "<table><tr>\n",
    "<td>\n",
    "<img src=\"./img/Helical_Compression_Spring/Tensile_strength_estimation.png\" width=360\"/> </td>\n",
    "<td>\n",
    "<img src=\"./img/Helical_Extension_Spring/Mechanical_properties_of_some_spring_wires_-_table_10-5.png\" width=300\"/> </td>\n",
    "</tr></table>\n",
    "\n",
    "Material options for use in Spring.material_prop method are:<br>\n",
    "  * music wire<br>\n",
    "  * oq&t wire<br>\n",
    "  * hard-drawn wire<br>\n",
    "  * chrome-vanadium wire<br>\n",
    "  * chrome-silicon wire<br>\n",
    "  * 302 stainless wire<br>\n",
    "  * phosphore-bronze wire<br>"
   ]
  },
  {
   "cell_type": "markdown",
   "id": "d8c20ec5",
   "metadata": {},
   "source": [
    "G - Shear modulus<br>\n",
    "E - Elastic modulus<br>\n",
    "Sut - Ultimate tensile strength"
   ]
  },
  {
   "cell_type": "code",
   "execution_count": null,
   "id": "0e429910",
   "metadata": {},
   "outputs": [],
   "source": [
    "# music wire\n",
    "G = 81e3  # [MPa]\n",
    "E = 196.5e3  # [MPa]\n",
    "Sut = Spring.material_prop('music wire', d, metric=True, verbose=False)\n",
    "Sut = 2025.69 # for testing needs to be removed in final version\n",
    "print(f\"Sut = {Sut:.2f}\")"
   ]
  },
  {
   "cell_type": "markdown",
   "id": "6cc387e2",
   "metadata": {},
   "source": [
    "Table 10-6 from Shigley:\n",
    "<table><tr>\n",
    "<td> <img src=\"./img/Helical_Compression_Spring/present_of_tensile_strength.png\" width=600\"/> </td>\n",
    "</tr>\n",
    "</table>\n",
    "\n",
    "><b>Note: </b>For Torsion springs we only use the values from the first column devided by <b>0.577</b>\n"
   ]
  },
  {
   "cell_type": "code",
   "execution_count": null,
   "id": "6ce06bc3",
   "metadata": {},
   "outputs": [],
   "source": [
    "yield_percent = 0.45 / 0.577\n",
    "print(f\"yield_percent = {yield_percent:.2}\")"
   ]
  },
  {
   "cell_type": "markdown",
   "id": "2f215a7a",
   "metadata": {},
   "source": [
    "## Forces and spring rate"
   ]
  },
  {
   "cell_type": "markdown",
   "id": "ca045740",
   "metadata": {},
   "source": [
    "k - Spring rate<br>\n",
    "Tmax - Maximum Torque<br>\n",
    "Tmin - Minimum Torque"
   ]
  },
  {
   "cell_type": "code",
   "execution_count": null,
   "id": "fa19116c",
   "metadata": {},
   "outputs": [],
   "source": [
    "k = 525.11  # [Nmm/rad]\n",
    "Tmax = 851.27"
   ]
  },
  {
   "cell_type": "markdown",
   "id": "8603735b",
   "metadata": {},
   "source": [
    "><b>Note:</b> For torsion spring the spring rate is $\\Large\\frac{N \\cdot mm}{rad}$\n",
    "and that is what our class uses but some times $\\Large\\frac{N \\cdot mm}{deg}$ is used\n",
    "so I added a conversion function"
   ]
  },
  {
   "cell_type": "code",
   "execution_count": null,
   "id": "c01d5236",
   "metadata": {},
   "outputs": [],
   "source": [
    "print(f\"k={Nmm_per_rad_to_Nmm_per_deg(k):.4f} [Nmm/deg]\")"
   ]
  },
  {
   "cell_type": "markdown",
   "id": "45ceb7ed",
   "metadata": {},
   "source": [
    "## Defining the spring\n",
    "\n",
    "Required parameters:\n",
    "  * max_moment - The maximum torque in $[Nmm]$\n",
    "  * wire_diameter - The wire diameter in $[mm]$\n",
    "  * spring_diameter - The spring diameter in $[mm]$\n",
    "  * leg1 - Effective length of the first spring's legs $[mm]$\n",
    "  * leg2 - Effective length of the second spring's legs $[mm]$\n",
    "  * ultimate_tensile_strength - The ultimate tensile strength in $[MPa]$\n",
    "  * yield_precent - the precentage of the shear yield strength(Ssy) from the ultimate tensile strength (Sut)\n",
    "  * shear_modulus - The material shear modulus in $[MPa]$\n",
    "  * elastic_modulus - The material elastic modulus in $[MPa]$\n",
    "  * end_type - The shape of the ends of the spring (used to calculate number of coils)\n",
    "  * spring_rate - The spring rate in $[Nmm/rad]$\n",
    "\n",
    "Optional parameters: <br>\n",
    "(the bold parameters are the defaults)\n",
    "\n",
    "  * arbor_diameter=**None** - The arbor size (Torsion springs usually used with a rod for support) $[mm]$\n",
    "  * shot_peened=**False** - If the spring underwent shot peening\n",
    "  * density=**None** - The Material density in $[kg/mm^3]$"
   ]
  },
  {
   "cell_type": "code",
   "execution_count": null,
   "id": "af03fb40",
   "metadata": {},
   "outputs": [],
   "source": [
    "spring = HelicalTorsionSpring(max_moment=Tmax,\n",
    "                              wire_diameter=d,\n",
    "                              spring_diameter=D,\n",
    "                              leg1=l1,\n",
    "                              leg2=l2,\n",
    "                              ultimate_tensile_strength=Sut,\n",
    "                              yield_percent=yield_percent,\n",
    "                              shear_modulus=G,\n",
    "                              elastic_modulus=E,\n",
    "                              spring_rate=k,\n",
    "                              arbor_diameter=pin,\n",
    "                              shot_peened=False,\n",
    "                              density=7800)"
   ]
  },
  {
   "cell_type": "markdown",
   "id": "79527198",
   "metadata": {},
   "source": [
    "### Calculated geometric properties"
   ]
  },
  {
   "cell_type": "code",
   "execution_count": null,
   "id": "1fc90abe",
   "metadata": {},
   "outputs": [],
   "source": [
    "print(f\"Free Length (L) = {spring.length:.2f}\\n\"\n",
    "      f\"Active Coils (Na) = {spring.active_coils:.2f}\\n\"\n",
    "      f\"Total Coils (Nb) = {spring.body_coils:.2f}\")"
   ]
  },
  {
   "cell_type": "markdown",
   "id": "3dd34e51",
   "metadata": {},
   "source": [
    "### Calculated material properties"
   ]
  },
  {
   "cell_type": "code",
   "execution_count": null,
   "id": "f305ee7a",
   "metadata": {},
   "outputs": [],
   "source": [
    "print(f\"Shear yield strength (Sy) = {spring.yield_strength:.2f}\")"
   ]
  },
  {
   "cell_type": "markdown",
   "id": "5296bfda",
   "metadata": {},
   "source": [
    "## Static analysis"
   ]
  },
  {
   "cell_type": "code",
   "execution_count": null,
   "id": "3038e39e",
   "metadata": {},
   "outputs": [],
   "source": [
    "print(f\"static safety factor = {spring.static_safety_factor():.2f}\")"
   ]
  },
  {
   "cell_type": "markdown",
   "id": "c7943a54",
   "metadata": {},
   "source": [
    "## Fatigue analysis\n",
    "<table><tr>\n",
    "<td> <img src=\"./img/Helical_Torsion_Spring/Table_10-10_-_ maximum_allowable_stresses_in_cyclic_applications.png\" width=600\"/> </td>\n",
    "</tr>\n",
    "</table>\n",
    "\n",
    "> Note: The verbose option can be used to print more information"
   ]
  },
  {
   "cell_type": "code",
   "execution_count": null,
   "id": "1944d82e",
   "metadata": {},
   "outputs": [],
   "source": [
    "Tmax = 564.896\n",
    "Tmin = 112.979\n",
    "nf, ns = spring.fatigue_analysis(max_moment=Tmax, min_moment=Tmin, fatigue_percent=53, criterion='gerber', reliability=50, verbose=False)\n",
    "print(f\"Fatigue safety factor (nf) = {nf:.2f}\\n\"\n",
    "      f\"Static safety factor (ns) = {ns:.2f}\")\n",
    "\n"
   ]
  },
  {
   "cell_type": "markdown",
   "id": "a3fd8e27",
   "metadata": {},
   "source": [
    "\n",
    "\n",
    "## Frequency analysis"
   ]
  },
  {
   "cell_type": "markdown",
   "id": "1fe9376b",
   "metadata": {},
   "source": [
    "TBD"
   ]
  }
 ],
 "metadata": {
  "kernelspec": {
   "display_name": "Python 3 (ipykernel)",
   "language": "python",
   "name": "python3"
  },
  "language_info": {
   "codemirror_mode": {
    "name": "ipython",
    "version": 3
   },
   "file_extension": ".py",
   "mimetype": "text/x-python",
   "name": "python",
   "nbconvert_exporter": "python",
   "pygments_lexer": "ipython3",
   "version": "3.9.1"
  }
 },
 "nbformat": 4,
 "nbformat_minor": 5
}
