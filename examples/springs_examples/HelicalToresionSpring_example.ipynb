{
 "cells": [
  {
   "cell_type": "markdown",
   "metadata": {},
   "source": [
    "# Helical Torsion Spring\n",
    "\n",
    "<table><tr>\n",
    "<td>\n",
    "<img src=\"./img/Helical_Torsion_Spring/Torsion_Spring.png\" width=330\"/> </td>\n",
    "<td>\n",
    "<img src=\"./img/Helical_Torsion_Spring/Torsion_Spring_-_End_Types.png\" width=200\"/> </td>\n",
    "</tr></table>"
   ]
  },
  {
   "cell_type": "markdown",
   "metadata": {},
   "source": [
    "Importing the relevant Classes"
   ]
  },
  {
   "cell_type": "code",
   "execution_count": 1,
   "metadata": {},
   "outputs": [],
   "source": [
    "from me_toolbox.springs import HelicalTorsionSpring, Spring\n",
    "from me_toolbox.tools import Nmm_per_rad_to_Nmm_per_deg"
   ]
  },
  {
   "cell_type": "markdown",
   "metadata": {},
   "source": [
    "## Geometric properties"
   ]
  },
  {
   "cell_type": "markdown",
   "metadata": {},
   "source": [
    "d - Wire diameter<br>\n",
    "D - Spring mean diameter<br>\n",
    "l1 - First leg<br>\n",
    "l2 - second leg"
   ]
  },
  {
   "cell_type": "code",
   "execution_count": 2,
   "metadata": {},
   "outputs": [],
   "source": [
    "d = 6  # [mm]\n",
    "D = 50  # [mm]\n",
    "l1 = 20  # [mm]\n",
    "l2 = 20  # [mm]"
   ]
  },
  {
   "cell_type": "markdown",
   "metadata": {},
   "source": [
    "## Material properties"
   ]
  },
  {
   "cell_type": "markdown",
   "metadata": {},
   "source": [
    "Table 10-4 from Shigley:\n",
    "<table><tr>\n",
    "<td>\n",
    "<img src=\"./img/Helical_Compression_Spring/Tensile_strength_estimation.png\" width=360\"/> </td>\n",
    "<td>\n",
    "<img src=\"./img/Helical_Extension_Spring/Mechanical_properties_of_some_spring_wires_-_table_10-5.png\" width=300\"/> </td>\n",
    "</tr></table>\n",
    "\n",
    "Material options for use in Spring.material_prop method are:<br>\n",
    "  * music wire<br>\n",
    "  * oq&t wire<br>\n",
    "  * hard-drawn wire<br>\n",
    "  * chrome-vanadium wire<br>\n",
    "  * chrome-silicon wire<br>\n",
    "  * 302 stainless wire<br>\n",
    "  * phosphore-bronze wire<br>"
   ]
  },
  {
   "cell_type": "markdown",
   "metadata": {},
   "source": [
    "G - Shear modulus<br>\n",
    "E - Elastic modulus<br>\n",
    "Sut - Ultimate tensile strength"
   ]
  },
  {
   "cell_type": "code",
   "execution_count": 3,
   "metadata": {},
   "outputs": [
    {
     "name": "stdout",
     "output_type": "stream",
     "text": [
      "Sut = 1705.13\n"
     ]
    }
   ],
   "source": [
    "# music wire\n",
    "G = 75e3  # [MPa]\n",
    "E = 205e3  # [MPa]\n",
    "Sut = Spring.material_prop('music wire', d, metric=True, verbose=False)\n",
    "print(f\"Sut = {Sut:.2f}\")"
   ]
  },
  {
   "cell_type": "markdown",
   "metadata": {},
   "source": [
    "Table 10-6 from Shigley:\n",
    "<table><tr>\n",
    "<td> <img src=\"./img/Helical_Compression_Spring/present_of_tensile_strength.png\" width=600\"/> </td>\n",
    "</tr>\n",
    "</table>\n",
    "\n",
    "><b>Note: </b>For Torsion springs we only use the values from the first column devided by <b>0.577</b>\n"
   ]
  },
  {
   "cell_type": "code",
   "execution_count": 4,
   "metadata": {},
   "outputs": [
    {
     "name": "stdout",
     "output_type": "stream",
     "text": [
      "yield_percent = 0.78\n"
     ]
    }
   ],
   "source": [
    "yield_percent = 0.45 / 0.577\n",
    "print(f\"yield_percent = {yield_percent:.2}\")"
   ]
  },
  {
   "cell_type": "markdown",
   "metadata": {},
   "source": [
    "## Forces and spring rate"
   ]
  },
  {
   "cell_type": "markdown",
   "metadata": {},
   "source": [
    "k - Spring rate<br>\n",
    "Tmax - Maximum Torque<br>\n",
    "Tmin - Minimum Torque"
   ]
  },
  {
   "cell_type": "code",
   "execution_count": 5,
   "metadata": {},
   "outputs": [],
   "source": [
    "k = 6  # [Nmm/rad]\n",
    "Tmax = 500  # [Nm]\n",
    "Tmin = 100  # [Nm]"
   ]
  },
  {
   "cell_type": "markdown",
   "metadata": {},
   "source": [
    "><b>Note:</b> For torsion spring the spring rate is $\\Large\\frac{N \\cdot mm}{rad}$\n",
    "and that is what our class uses but some times the industry uses $\\Large\\frac{N \\cdot mm}{deg}$\n",
    "so I added a conversion function"
   ]
  },
  {
   "cell_type": "code",
   "execution_count": 6,
   "metadata": {},
   "outputs": [
    {
     "name": "stdout",
     "output_type": "stream",
     "text": [
      "k=0.1047 [Nmm/deg]\n"
     ]
    }
   ],
   "source": [
    "print(f\"k={Nmm_per_rad_to_Nmm_per_deg(k):.4f} [Nmm/deg]\")"
   ]
  },
  {
   "cell_type": "markdown",
   "metadata": {},
   "source": [
    "## Defining the spring\n",
    "\n",
    "Required parameters:\n",
    "  * max_moment - The maximum torque in $[Nmm]$\n",
    "  * wire_diameter - The wire diameter in $[mm]$\n",
    "  * spring_diameter - The spring diameter in $[mm]$\n",
    "  * leg1 - On of the spring's legs $[mm]$\n",
    "  * leg2 - The second spring's legs $[mm]$\n",
    "  * ultimate_tensile_strength - The ultimate tensile strength in $[MPa]$\n",
    "  * yield_precent - the precentage of the shear yield strength(Ssy) from the ultimate tensile strength (Sut)\n",
    "  * shear_modulus - The material shear modulus in $[MPa]$\n",
    "  * elastic_modulus - The material elastic modulus in $[MPa]$\n",
    "  * end_type - The shape of the ends of the spring (used to calculate number of coils)\n",
    "  * spring_rate - The spring rate in $[Nmm/rad]$\n",
    "\n",
    "Optional parameters: <br>\n",
    "(the bold parameters are the defaults)\n",
    "\n",
    "  * radius=**None** - The distance from the center to the applied force $[mm]$\n",
    "  * arbor_diameter=**None** - The arbor size (Torsion springs usually used with a rod for support) $[mm]$\n",
    "  * shot_peened=**False** - If the spring underwent shot peening\n",
    "  * density=**None** - The Material density in $[kg/mm^3]$"
   ]
  },
  {
   "cell_type": "code",
   "execution_count": 7,
   "metadata": {},
   "outputs": [],
   "source": [
    "spring = HelicalTorsionSpring(max_moment=Tmax,\n",
    "                              wire_diameter=d,\n",
    "                              spring_diameter=D,\n",
    "                              leg1=l1,\n",
    "                              leg2=l2,\n",
    "                              ultimate_tensile_strength=Sut,\n",
    "                              yield_percent=yield_percent,\n",
    "                              shear_modulus=G,\n",
    "                              elastic_modulus=E,\n",
    "                              spring_rate=k,\n",
    "                              radius=None,\n",
    "                              arbor_diameter=None,\n",
    "                              shot_peened=True,\n",
    "                              density=None)"
   ]
  },
  {
   "cell_type": "markdown",
   "metadata": {},
   "source": [
    "### Calculated geometric properties"
   ]
  },
  {
   "cell_type": "code",
   "execution_count": 8,
   "metadata": {},
   "outputs": [
    {
     "name": "stdout",
     "output_type": "stream",
     "text": [
      "Free Length (L) = 78303.72\n",
      "Active Coils (Na) = 13050.71\n",
      "Total Coils (Nb) = 13050.62\n"
     ]
    }
   ],
   "source": [
    "print(f\"Free Length (L) = {spring.length:.2f}\\n\"\n",
    "      f\"Active Coils (Na) = {spring.active_coils:.2f}\\n\"\n",
    "      f\"Total Coils (Nb) = {spring.body_coils:.2f}\")"
   ]
  },
  {
   "cell_type": "markdown",
   "metadata": {},
   "source": [
    "### Calculated material properties"
   ]
  },
  {
   "cell_type": "code",
   "execution_count": 9,
   "metadata": {},
   "outputs": [
    {
     "name": "stdout",
     "output_type": "stream",
     "text": [
      "Shear yield strength (Sy) = 1329.82\n"
     ]
    }
   ],
   "source": [
    "print(f\"Shear yield strength (Sy) = {spring.yield_strength:.2f}\")"
   ]
  },
  {
   "cell_type": "markdown",
   "metadata": {},
   "source": [
    "## Static analysis"
   ]
  },
  {
   "cell_type": "code",
   "execution_count": 10,
   "metadata": {},
   "outputs": [
    {
     "name": "stdout",
     "output_type": "stream",
     "text": [
      "static safety factor = 51.36\n"
     ]
    }
   ],
   "source": [
    "print(f\"static safety factor = {spring.static_safety_factor():.2f}\")"
   ]
  },
  {
   "cell_type": "markdown",
   "metadata": {},
   "source": [
    "## Fatigue analysis"
   ]
  },
  {
   "cell_type": "code",
   "execution_count": 11,
   "metadata": {},
   "outputs": [
    {
     "name": "stdout",
     "output_type": "stream",
     "text": [
      "Alternating moment = 200.0, Mean moment = 300.0\n",
      "Alternating stress = 10.35739643124631, Mean stress = 15.536094646869463\n",
      "Sse = 335.60661655625483, Se= 581.6405832864036\n",
      "Fatigue safety factor (nf) = 46.20\n",
      "Static safety factor (ns) = 51.36\n"
     ]
    }
   ],
   "source": [
    "nf, ns = spring.fatigue_analysis(max_moment=Tmax, min_moment=Tmin, reliability=99.999, verbose=True)\n",
    "print(f\"Fatigue safety factor (nf) = {nf:.2f}\\n\"\n",
    "      f\"Static safety factor (ns) = {ns:.2f}\")"
   ]
  },
  {
   "cell_type": "markdown",
   "metadata": {},
   "source": [
    "## Frequency analysis"
   ]
  },
  {
   "cell_type": "markdown",
   "metadata": {},
   "source": [
    "TBD"
   ]
  }
 ],
 "metadata": {
  "kernelspec": {
   "display_name": "Python 3",
   "language": "python",
   "name": "python3"
  },
  "language_info": {
   "codemirror_mode": {
    "name": "ipython",
    "version": 3
   },
   "file_extension": ".py",
   "mimetype": "text/x-python",
   "name": "python",
   "nbconvert_exporter": "python",
   "pygments_lexer": "ipython3",
   "version": "3.9.1"
  }
 },
 "nbformat": 4,
 "nbformat_minor": 5
}
