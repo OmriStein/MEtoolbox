{
 "cells": [
  {
   "attachments": {},
   "cell_type": "markdown",
   "id": "c182eadb-c5c2-4bda-bc30-d652b9b2070a",
   "metadata": {},
   "source": [
    "# Helical Torsion Spring\n",
    "\n",
    "<table><tr>\n",
    "<td>\n",
    "<img src=\"./img/Helical_Torsion_Spring/Torsion_Spring.png\" width=330\"/> </td>\n",
    "<td>\n",
    "<img src=\"./img/Helical_Torsion_Spring/Torsion_Spring_-_End_Types.png\" width=200\"/> </td>\n",
    "</tr></table>"
   ]
  },
  {
   "cell_type": "markdown",
   "id": "42addf76-4934-4b5f-837f-2b3fb78d09c6",
   "metadata": {},
   "source": [
    "Importing the relevant Classes"
   ]
  },
  {
   "cell_type": "code",
   "execution_count": 1,
   "id": "ef78ccb0-cdb7-456e-a758-7b44290f899e",
   "metadata": {},
   "outputs": [],
   "source": [
    "from me_toolbox.springs import HelicalTorsionSpring, Spring\n",
    "from me_toolbox.tools import Nmm_per_rad_to_Nmm_per_deg"
   ]
  },
  {
   "cell_type": "markdown",
   "id": "8e43c485-d307-4ac6-9ac1-8501fce7ce8f",
   "metadata": {},
   "source": [
    "## Geometric properties"
   ]
  },
  {
   "cell_type": "markdown",
   "id": "a308b3be-bc8b-4a2a-a3e4-cea9c3dcc53f",
   "metadata": {},
   "source": [
    "d - Wire diameter<br>\n",
    "D - Spring mean diameter<br>\n",
    "l1 - First leg<br>\n",
    "l2 - second leg"
   ]
  },
  {
   "cell_type": "code",
   "execution_count": 2,
   "id": "7324d472-ff37-4588-94db-dfdf56a01c79",
   "metadata": {},
   "outputs": [],
   "source": [
    "d = 6  # [mm]\n",
    "D = 50  # [mm]\n",
    "l1 = 20  # [mm]\n",
    "l2 = 20  # [mm]"
   ]
  },
  {
   "cell_type": "markdown",
   "id": "2201dd74-14ea-4615-9f3a-b0bcec6c22fb",
   "metadata": {},
   "source": [
    "## Material properties"
   ]
  },
  {
   "attachments": {},
   "cell_type": "markdown",
   "id": "298cd42d-644a-40bb-bd9b-490c5f65ab74",
   "metadata": {},
   "source": [
    "Table 10-4 from Shigley:\n",
    "<table><tr>\n",
    "<td>\n",
    "<img src=\"./img/Helical_Compression_Spring/Tensile_strength_estimation.png\" width=600\"/> </td>\n",
    "</tr></table>\n",
    "\n",
    "Material options for use in Spring.material_prop method are:<br>\n",
    "  * music wire<br>\n",
    "  * oq&t wire<br>\n",
    "  * hard-drawn wire<br>\n",
    "  * chrome-vanadium wire<br>\n",
    "  * chrome-silicon wire<br>\n",
    "  * 302 stainless wire<br>\n",
    "  * phosphore-bronze wire<br>"
   ]
  },
  {
   "cell_type": "markdown",
   "id": "635a3ab3-865a-4e84-86d5-42b921852659",
   "metadata": {},
   "source": [
    "G - Shear modulus<br>\n",
    "E - Elastic modulus<br>\n",
    "Sut - Ultimate tensile strength"
   ]
  },
  {
   "cell_type": "code",
   "execution_count": 3,
   "id": "033d41b2-9fca-4aae-b6a4-065002fbd56f",
   "metadata": {},
   "outputs": [
    {
     "name": "stdout",
     "output_type": "stream",
     "text": [
      "Sut = 1705.13\n"
     ]
    }
   ],
   "source": [
    "# music wire\n",
    "G = 75e3  # [MPa]\n",
    "E = 205e3  # [MPa]\n",
    "Sut = Spring.material_prop('music wire', d, metric=True, verbose=False)\n",
    "print(f\"Sut = {Sut:.2f}\")"
   ]
  },
  {
   "attachments": {},
   "cell_type": "markdown",
   "id": "392b47f5-b583-498b-bca1-61e4cfe0786f",
   "metadata": {},
   "source": [
    "Table 10-6 from Shigley:\n",
    "<table><tr>\n",
    "<td> <img src=\"./img/Helical_Compression_Spring/present_of_tensile_strength.png\" width=600\"/> </td>\n",
    "</tr>\n",
    "</table>\n",
    "\n",
    "><b>Note: </b>For Torsion springs we only use the values from the first column devided by <b>0.577</b>\n"
   ]
  },
  {
   "cell_type": "code",
   "execution_count": 4,
   "id": "b7c35b8e-6812-41f4-8dc9-d0b1ba49556a",
   "metadata": {},
   "outputs": [
    {
     "name": "stdout",
     "output_type": "stream",
     "text": [
      "yield_percent = 0.78\n"
     ]
    }
   ],
   "source": [
    "yield_percent = 0.45 / 0.577\n",
    "print(f\"yield_percent = {yield_percent:.2}\")"
   ]
  },
  {
   "cell_type": "markdown",
   "id": "3147a12a-145c-471f-a1fd-dd9e243d3f51",
   "metadata": {},
   "source": [
    "## Forces and spring rate"
   ]
  },
  {
   "cell_type": "markdown",
   "id": "49e92d88-4733-48b5-8457-6e79b1e98cd2",
   "metadata": {},
   "source": [
    "k - Spring rate<br>\n",
    "Tmax - Maximum Torque<br>\n",
    "Tmin - Minimum Torque"
   ]
  },
  {
   "cell_type": "code",
   "execution_count": 5,
   "id": "c70b5dbd-4403-43dd-9cc3-e42f66d25953",
   "metadata": {},
   "outputs": [],
   "source": [
    "k = 6  # [Nmm/rad]\n",
    "Tmax = 500  # [Nm]\n",
    "Tmin = 100  # [Nm]"
   ]
  },
  {
   "cell_type": "markdown",
   "id": "5fce0b2b-babf-4937-9473-ca4db462033b",
   "metadata": {},
   "source": [
    "><b>Note:</b> For torsion spring the spring rate is $\\Large\\frac{N \\cdot mm}{rad}$\n",
    "and that is what our class uses but some times the industry uses $\\Large\\frac{N \\cdot mm}{deg}$\n",
    "so I added a conversion function"
   ]
  },
  {
   "cell_type": "code",
   "execution_count": 6,
   "id": "9335da5b-8a2f-4822-befb-c69df8947b2d",
   "metadata": {},
   "outputs": [
    {
     "name": "stdout",
     "output_type": "stream",
     "text": [
      "k=0.1047 [Nmm/deg]\n"
     ]
    }
   ],
   "source": [
    "print(f\"k={Nmm_per_rad_to_Nmm_per_deg(k):.4f} [Nmm/deg]\")"
   ]
  },
  {
   "cell_type": "markdown",
   "id": "d200d8ca-3d7e-469f-8237-dceb6578e64f",
   "metadata": {},
   "source": [
    "## Defining the spring\n",
    "\n",
    "Required parameters:\n",
    "  * max_moment - The maximum torque in $[Nmm]$\n",
    "  * wire_diameter - The wire diameter in $[mm]$\n",
    "  * spring_diameter - The spring diameter in $[mm]$\n",
    "  * leg1 - On of the spring's legs $[mm]$\n",
    "  * leg2 - The second spring's legs $[mm]$\n",
    "  * ultimate_tensile_strength - The ultimate tensile strength in $[MPa]$\n",
    "  * yield_precent - the precentage of the shear yield strength(Ssy) from the ultimate tensile strength (Sut)\n",
    "  * shear_modulus - The material shear modulus in $[MPa]$\n",
    "  * elastic_modulus - The material elastic modulus in $[MPa]$\n",
    "  * end_type - The shape of the ends of the spring (used to calculate number of coils)\n",
    "  * spring_rate - The spring rate in $[Nmm/rad]$\n",
    "\n",
    "Optional parameters: <br>\n",
    "(the bold parameters are the defaults)\n",
    "\n",
    "  * radius=**None** - The distance from the center to the applied force $[mm]$\n",
    "  * arbor_diameter=**None** - The arbor size (Torsion springs usually used with a rod for support) $[mm]$\n",
    "  * shot_peened=**False** - If the spring underwent shot peening\n",
    "  * density=**None** - The Material density in $[kg/mm^3]$\n",
    "  * working_frequency=**None** - The working frequency of the spring in $[Hz]$\n"
   ]
  },
  {
   "cell_type": "code",
   "execution_count": 7,
   "id": "4ac31588-ac17-4cd7-990e-9b2c57d94bd5",
   "metadata": {},
   "outputs": [],
   "source": [
    "spring = HelicalTorsionSpring(max_moment=Tmax,\n",
    "                              wire_diameter=d,\n",
    "                              spring_diameter=D,\n",
    "                              leg1=l1,\n",
    "                              leg2=l2,\n",
    "                              ultimate_tensile_strength=Sut,\n",
    "                              yield_percent=yield_percent,\n",
    "                              shear_modulus=G,\n",
    "                              elastic_modulus=E,\n",
    "                              spring_rate=k,\n",
    "                              radius=None,\n",
    "                              arbor_diameter=None,\n",
    "                              shot_peened=True,\n",
    "                              density=None,\n",
    "                              working_frequency=None)"
   ]
  },
  {
   "cell_type": "markdown",
   "id": "3060eaaa-cfbe-4665-86b3-7f79429b0108",
   "metadata": {},
   "source": [
    "### Calculated geometric properties"
   ]
  },
  {
   "cell_type": "code",
   "execution_count": 8,
   "id": "f1991e49-1e67-47ad-9514-941925bf3e19",
   "metadata": {},
   "outputs": [
    {
     "name": "stdout",
     "output_type": "stream",
     "text": [
      "Free Length (L) = 78303.72\n",
      "Active Coils (Na) = 13050.71\n",
      "Total Coils (Nb) = 13050.62\n"
     ]
    }
   ],
   "source": [
    "print(f\"Free Length (L) = {spring.length:.2f}\\n\"\n",
    "      f\"Active Coils (Na) = {spring.active_coils:.2f}\\n\"\n",
    "      f\"Total Coils (Nb) = {spring.body_coils:.2f}\")"
   ]
  },
  {
   "cell_type": "markdown",
   "id": "1153481f-509f-40a8-8a0b-6c6466361e6f",
   "metadata": {},
   "source": [
    "### Calculated material properties"
   ]
  },
  {
   "cell_type": "code",
   "execution_count": 9,
   "id": "c73bc067-5f87-4944-aa46-ff995d20c14e",
   "metadata": {},
   "outputs": [
    {
     "name": "stdout",
     "output_type": "stream",
     "text": [
      "Shear yield strength (Sy) = 1329.82\n"
     ]
    }
   ],
   "source": [
    "print(f\"Shear yield strength (Sy) = {spring.yield_strength:.2f}\")"
   ]
  },
  {
   "cell_type": "markdown",
   "id": "228a1b7e-21e8-4759-9576-3cfff33106e5",
   "metadata": {},
   "source": [
    "## Static analysis"
   ]
  },
  {
   "cell_type": "code",
   "execution_count": 10,
   "id": "adfe74dd-42d5-455b-b0f7-d2712f6ee281",
   "metadata": {},
   "outputs": [
    {
     "name": "stdout",
     "output_type": "stream",
     "text": [
      "static safety factor = 51.35738519015272\n"
     ]
    }
   ],
   "source": [
    "print(f\"static safety factor = {spring.static_safety_factor}\")"
   ]
  },
  {
   "cell_type": "markdown",
   "id": "d2f3480f-1c8f-4033-986b-9daec33164c9",
   "metadata": {},
   "source": [
    "## Fatigue analysis"
   ]
  },
  {
   "cell_type": "code",
   "execution_count": 11,
   "id": "a4eb431e-e2ce-4ff0-a890-e789a5db9302",
   "metadata": {},
   "outputs": [
    {
     "name": "stdout",
     "output_type": "stream",
     "text": [
      "Alternating moment = 200.0, Mean moment = 300.0\n",
      "Alternating stress = 10.35739643124631, Mean stress = 15.536094646869463\n",
      "Sse = 335.60661655625483, Se= 581.6405832864036\n",
      "Fatigue safety factor (nf) = 46.20\n",
      "Static safety factor (ns) = 51.36\n"
     ]
    }
   ],
   "source": [
    "nf, ns = spring.fatigue_analysis(max_moment=Tmax, min_moment=Tmin, reliability=99.999, verbose=True)\n",
    "print(f\"Fatigue safety factor (nf) = {nf:.2f}\\n\"\n",
    "      f\"Static safety factor (ns) = {ns:.2f}\")"
   ]
  },
  {
   "cell_type": "markdown",
   "id": "e695a753-e37c-4280-9337-d62e5eb16c1d",
   "metadata": {},
   "source": [
    "## Frequency analysis"
   ]
  },
  {
   "cell_type": "code",
   "execution_count": 12,
   "id": "14e21fa6-dd20-49eb-822f-66e867fdb5d8",
   "metadata": {},
   "outputs": [],
   "source": [
    "spring.density = 7850  # [kg/m^3]\n",
    "spring.working_frequency = 0.5  # [Hz]"
   ]
  },
  {
   "cell_type": "markdown",
   "id": "a620d386-a4a4-4f5b-849f-bade4bfafe41",
   "metadata": {},
   "source": [
    "The natural frequency must be greater than 20 times the working frequency<br>\n",
    "$(f_{natural} > 20 \\cdot f_{working})$"
   ]
  },
  {
   "cell_type": "code",
   "execution_count": 13,
   "id": "c4e0859f-aa23-4c79-a569-d4d6113225b0",
   "metadata": {},
   "outputs": [
    {
     "name": "stdout",
     "output_type": "stream",
     "text": [
      "Natural frequency = 0.11372942511928255\n",
      "20*Working frequency = 10.00\n"
     ]
    }
   ],
   "source": [
    "print(f\"Natural frequency = {spring.natural_frequency}\\n\"\n",
    "      f\"20*Working frequency = {20*spring.working_frequency:.2f}\")"
   ]
  }
 ],
 "metadata": {
  "kernelspec": {
   "display_name": "Python 3 (ipykernel)",
   "language": "python",
   "name": "python3"
  },
  "language_info": {
   "codemirror_mode": {
    "name": "ipython",
    "version": 3
   },
   "file_extension": ".py",
   "mimetype": "text/x-python",
   "name": "python",
   "nbconvert_exporter": "python",
   "pygments_lexer": "ipython3",
   "version": "3.12.2"
  }
 },
 "nbformat": 4,
 "nbformat_minor": 5
}
