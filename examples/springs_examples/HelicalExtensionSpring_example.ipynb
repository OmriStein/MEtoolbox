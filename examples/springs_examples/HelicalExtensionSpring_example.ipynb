{
 "cells": [
  {
   "cell_type": "markdown",
   "id": "7c37c9ac",
   "metadata": {},
   "source": [
    "# Helical Extension Spring\n",
    "\n",
    "<table><tr>\n",
    "<td>\n",
    "<img src=\"./img/Helical_Extension_Spring/Extension_Spring_-_Figure_10-6.png\" width=300\"/> </td>\n",
    "<td>\n",
    "<img src=\"./img/Helical_Extension_Spring//Extension_Spring_-_Figure_10-7.png\" width=550\"/> </td>\n",
    "</tr></table>"
   ]
  },
  {
   "cell_type": "markdown",
   "id": "cf0d71fa",
   "metadata": {},
   "source": [
    "Importing the relevant Classes"
   ]
  },
  {
   "cell_type": "code",
   "execution_count": 2,
   "id": "d2744528",
   "metadata": {},
   "outputs": [],
   "source": [
    "from me_toolbox.springs import ExtensionSpring, Spring\n",
    "from me_toolbox.tools import inch_to_millimetre as im\n",
    "from me_toolbox.tools import millimetre_to_inch as mi\n",
    "from me_toolbox.tools import lbs_to_newtons as pn\n",
    "from me_toolbox.tools import lbs_per_in_to_newtons_per_mm as pinmm"
   ]
  },
  {
   "cell_type": "markdown",
   "id": "71d4943d",
   "metadata": {},
   "source": [
    "## Geometric properties"
   ]
  },
  {
   "cell_type": "markdown",
   "id": "ebe797ba",
   "metadata": {},
   "source": [
    "d - Wire diameter<br>\n",
    "OD - Spring outside diameter<br>\n",
    "D - Spring mean diameter<br>\n",
    "r1 - Hook's main radius<br>\n",
    "r2 - Hook's secondary radius"
   ]
  },
  {
   "cell_type": "code",
   "execution_count": 3,
   "id": "3922c0d2",
   "metadata": {},
   "outputs": [],
   "source": [
    "d = 0.88\n",
    "D = 5.41\n",
    "r1 = 2.69\n",
    "r2 = 2.672"
   ]
  },
  {
   "cell_type": "markdown",
   "id": "a8aef1b1",
   "metadata": {},
   "source": [
    "## Material properties"
   ]
  },
  {
   "cell_type": "markdown",
   "id": "c2f3785f",
   "metadata": {},
   "source": [
    "Table 10-4 from Shigley:\n",
    "<table><tr>\n",
    "<td>\n",
    "<img src=\"./img/Helical_Compression_Spring/Tensile_strength_estimation.png\" width=360\"/> </td>\n",
    "<td>\n",
    "<img src=\"./img/Helical_Extension_Spring/Mechanical_properties_of_some_spring_wires_-_table_10-5.png\" width=300\"/> </td>\n",
    "</tr></table>\n",
    "\n",
    "Material options for use in Spring.material_prop method are:<br>\n",
    "  * music wire<br>\n",
    "  * oq&t wire<br>\n",
    "  * hard-drawn wire<br>\n",
    "  * chrome-vanadium wire<br>\n",
    "  * chrome-silicon wire<br>\n",
    "  * 302 stainless wire<br>\n",
    "  * phosphore-bronze wire<br>"
   ]
  },
  {
   "cell_type": "markdown",
   "id": "2ec7cd01",
   "metadata": {},
   "source": [
    "G - Shear modulus<br>\n",
    "E - Elastic modulus<br>\n",
    "Sut - Ultimate tensile strength"
   ]
  },
  {
   "cell_type": "code",
   "execution_count": 4,
   "id": "273999df",
   "metadata": {},
   "outputs": [
    {
     "name": "stdout",
     "output_type": "stream",
     "text": [
      "Sut = 1823.30\n"
     ]
    }
   ],
   "source": [
    "# music wire\n",
    "G = 80e3  # [MPa]\n",
    "E = 197.9e3  # [MPa]\n",
    "Sut = Spring.material_prop('hard-drawn wire', d, metric=True, verbose=False)\n",
    "Sut = 1823.3\n",
    "print(f\"Sut = {Sut:.2f}\")"
   ]
  },
  {
   "cell_type": "markdown",
   "id": "9c0bb18d",
   "metadata": {},
   "source": [
    "Table 10-6 from Shigley:\n",
    "<table><tr>\n",
    "<td> <img src=\"./img/Helical_Extension_Spring/Present_of_tensile_strength_-_Table_10-7.png\" width=600\"/> </td>\n",
    "</tr></table>\n"
   ]
  },
  {
   "cell_type": "code",
   "execution_count": 5,
   "id": "f79dc604",
   "metadata": {},
   "outputs": [],
   "source": [
    "body_torsion_yield_percent = 0.45\n",
    "end_torsion_yield_percent = 0.4\n",
    "end_bending_yield_percent = 0.75"
   ]
  },
  {
   "cell_type": "markdown",
   "id": "06d93c29",
   "metadata": {},
   "source": [
    "## Forces and spring rate"
   ]
  },
  {
   "cell_type": "markdown",
   "id": "a054a8e8",
   "metadata": {},
   "source": [
    "k - Spring rate<br>\n",
    "Fmax - Maximum force<br>\n",
    "Fi - Initial force (force at free state from manufacturing process)"
   ]
  },
  {
   "cell_type": "code",
   "execution_count": 6,
   "id": "c99de5cc",
   "metadata": {},
   "outputs": [],
   "source": [
    "k = 3.13  # [N/mm]\n",
    "Fmax = 22.24  # [N]\n",
    "Fi = 5.29  # [N]"
   ]
  },
  {
   "cell_type": "markdown",
   "id": "dcdaa0f9",
   "metadata": {},
   "source": [
    "## Optional parameters\n",
    "\n",
    "Shot peening - a cold working process in which the surface of the spring is impacted with a small spherical mediacalled shot in order to increase the fatigue resistance.<br>\n",
    "rho - Material density"
   ]
  },
  {
   "cell_type": "code",
   "execution_count": 7,
   "id": "25ed4dce",
   "metadata": {},
   "outputs": [],
   "source": [
    "peened=False\n",
    "rho = 7800  # [kg/m^3]"
   ]
  },
  {
   "cell_type": "markdown",
   "id": "b8a62d29",
   "metadata": {},
   "source": [
    "## Defining the spring\n",
    "\n",
    "Required parameters:\n",
    "  * max_force - The maximum force in $[N]$\n",
    "  * initial_tension - The initial tension in $[N]$\n",
    "  * wire_diameter - The wire diameter in $[mm]$\n",
    "  * spring_diameter - The spring diameter in $[mm]$\n",
    "  * hook_r1 - The spring's hook big radius in $[mm]$\n",
    "  * hook_r2 - The spring's hook small radius in $[mm]$\n",
    "  * ultimate_tensile_strength - The ultimate tensile strength in $[MPa]$\n",
    "  * body_shear_yield_precent - the precentage of the shear yield strength(Ssy) from the ultimate tensile strength (Sut)\n",
    "  * hook_normal_yield_percent - the precentage of the normal yield strength(Sy) from the ultimate tensile strength (Sut)\n",
    "  * hook_shear_yield_percent - the precentage of the shear yield strength(Ssy) from the ultimate tensile strength (Sut)\n",
    "  * shear_modulus - The material shear modulus in $[MPa]$\n",
    "  * elastic_modulus - The material elastic modulus in $[MPa]$\n",
    "  * spring_rate - The spring rate in $[N/mm]$\n",
    "\n",
    "Optional parameters: <br>\n",
    "(the bold parameters are the defaults)\n",
    "  * shot_peened=**False** - If the spring underwent shot peening\n",
    "  * density=**None** - The Material density in $[kg/mm^3]$"
   ]
  },
  {
   "cell_type": "code",
   "execution_count": 8,
   "id": "874199b3",
   "metadata": {},
   "outputs": [],
   "source": [
    "spring = ExtensionSpring(max_force=Fmax, \n",
    "                         initial_tension=Fi,\n",
    "                         wire_diameter=d, \n",
    "                         spring_diameter=D, \n",
    "                         hook_r1=r1, hook_r2=r2,\n",
    "                         ultimate_tensile_strength=Sut, \n",
    "                         body_shear_yield_percent=body_torsion_yield_percent, \n",
    "                         hook_normal_yield_percent=end_bending_yield_percent, \n",
    "                         hook_shear_yield_percent=end_torsion_yield_percent,\n",
    "                         shear_modulus=G, elastic_modulus=E,\n",
    "                         spring_rate=k, \n",
    "                         shot_peened=peened, \n",
    "                         density=rho)"
   ]
  },
  {
   "cell_type": "markdown",
   "id": "07192b45",
   "metadata": {},
   "source": [
    "### Calculated geometric properties"
   ]
  },
  {
   "cell_type": "code",
   "execution_count": 9,
   "id": "c2a6db87",
   "metadata": {},
   "outputs": [
    {
     "name": "stdout",
     "output_type": "stream",
     "text": [
      "Free Length (L0) = 20.09\n",
      "Active Coils (Na) = 11.94\n",
      "Body Coils (Nb) = 11.54\n"
     ]
    }
   ],
   "source": [
    "print(f\"Free Length (L0) = {spring.free_length:.2f}\\n\"\n",
    "      f\"Active Coils (Na) = {spring.active_coils:.2f}\\n\"\n",
    "      f\"Body Coils (Nb) = {spring.body_coils:.2f}\")"
   ]
  },
  {
   "cell_type": "markdown",
   "id": "72ce6c3c",
   "metadata": {},
   "source": [
    "### Calculated material properties"
   ]
  },
  {
   "cell_type": "code",
   "execution_count": 10,
   "id": "be264017",
   "metadata": {},
   "outputs": [
    {
     "name": "stdout",
     "output_type": "stream",
     "text": [
      "Shear yield strength (Ssy) = 820.49\n",
      "Shear ultimate strength (Ssu) = 1221.61\n",
      "\n"
     ]
    }
   ],
   "source": [
    "print(f\"Shear yield strength (Ssy) = {spring.shear_yield_strength:.2f}\\n\"\n",
    "      f\"Shear ultimate strength (Ssu) = {spring.shear_ultimate_strength:.2f}\\n\")"
   ]
  },
  {
   "cell_type": "markdown",
   "id": "61301aef",
   "metadata": {},
   "source": [
    "## Static analysis\n",
    "\n",
    "> Note: The verbose option can be used to print more information"
   ]
  },
  {
   "cell_type": "code",
   "execution_count": 11,
   "id": "218dda8e",
   "metadata": {},
   "outputs": [
    {
     "name": "stdout",
     "output_type": "stream",
     "text": [
      "body safety factors: 1.46\n",
      "hook normal safety factors: 1.29\n",
      "hook shear safety factors: 1.41\n"
     ]
    }
   ],
   "source": [
    "ns = spring.static_analysis(verbose=False)\n",
    "print(f\"body safety factors: {ns['n_body']:.2f}\\n\"\n",
    "      f\"hook normal safety factors: {ns['n_hook_normal']:.2f}\\n\"\n",
    "      f\"hook shear safety factors: {ns['n_hook_shear']:.2f}\")"
   ]
  },
  {
   "cell_type": "markdown",
   "id": "3d94f179",
   "metadata": {},
   "source": [
    "## Fatigue analysis\n",
    "> Note: The verbose option can be used to print more information"
   ]
  },
  {
   "cell_type": "code",
   "execution_count": 12,
   "id": "23dabe43",
   "metadata": {},
   "outputs": [],
   "source": [
    "F_max = 22.24  # [N]\n",
    "F_min = 6.67\n",
    "n = spring.fatigue_analysis(max_force=F_max, min_force=F_min, criterion='gerber', reliability=50, verbose=False)"
   ]
  },
  {
   "cell_type": "markdown",
   "id": "068d837f",
   "metadata": {},
   "source": [
    "### Body safety factors"
   ]
  },
  {
   "cell_type": "code",
   "execution_count": 13,
   "id": "01a80818",
   "metadata": {},
   "outputs": [
    {
     "name": "stdout",
     "output_type": "stream",
     "text": [
      "Body:\n",
      "Fatigue safety factor (nf) = 1.19\n",
      "Static safety factor (ns) = 1.61\n",
      "Number of cycles untill failure (N) = 778907.11\n",
      "Stress at failure (Sf) = 279.272637581185\n",
      "\n",
      "\n"
     ]
    }
   ],
   "source": [
    "print(f\"Body:\\n\"\n",
    "      f\"Fatigue safety factor (nf) = {n['body']['nf']:.2f}\\n\"\n",
    "      f\"Static safety factor (ns) = {n['body']['ns']:.2f}\\n\"\n",
    "      f\"Number of cycles untill failure (N) = {n['body']['N']:.2f}\\n\"\n",
    "      f\"Stress at failure (Sf) = {n['body']['Sf']}\\n\\n\")"
   ]
  },
  {
   "cell_type": "markdown",
   "id": "429d0264-91a8-4502-ae41-6a9468667bfc",
   "metadata": {},
   "source": [
    "### Hook normal safety factors"
   ]
  },
  {
   "cell_type": "code",
   "execution_count": 14,
   "id": "f6d29051-396e-47df-8e2a-c56eacb948f4",
   "metadata": {},
   "outputs": [
    {
     "name": "stdout",
     "output_type": "stream",
     "text": [
      "Hook normal stress\n",
      "Fatigue safety factor (nf) = 1.05\n",
      "Static safety factor (ns) = 1.29\n",
      "Number of cycles untill failure (N) = 196286.09\n",
      "Stress at failure (Sf) = 596.8154208328335\n",
      "\n",
      "\n"
     ]
    }
   ],
   "source": [
    "print(f\"Hook normal stress\\n\"\n",
    "      f\"Fatigue safety factor (nf) = {n['hook_normal']['nf']:.2f}\\n\"\n",
    "      f\"Static safety factor (ns) = {n['hook_normal']['ns']:.2f}\\n\"\n",
    "      f\"Number of cycles untill failure (N) = {n['hook_normal']['N']:.2f}\\n\"\n",
    "      f\"Stress at failure (Sf) = {n['hook_normal']['Sf']}\\n\\n\")"
   ]
  },
  {
   "cell_type": "markdown",
   "id": "6a8f9908-849d-4333-a9b9-8099a17c3e29",
   "metadata": {},
   "source": [
    "### Hook shear safety factors"
   ]
  },
  {
   "cell_type": "code",
   "execution_count": 15,
   "id": "ba3b6889-d0c5-4612-a1d2-593eecda013b",
   "metadata": {},
   "outputs": [
    {
     "name": "stdout",
     "output_type": "stream",
     "text": [
      "Hook shear stress\n",
      "Fatigue safety factor (nf) = 1.29\n",
      "Static safety factor (ns) = 1.41\n",
      "Number of cycles untill failure (N) = inf\n",
      "Stress at failure (Sf) = None\n"
     ]
    }
   ],
   "source": [
    "print(f\"Hook shear stress\\n\"\n",
    "      f\"Fatigue safety factor (nf) = {n['hook_shear']['nf']:.2f}\\n\"\n",
    "      f\"Static safety factor (ns) = {n['hook_shear']['ns']:.2f}\\n\"\n",
    "      f\"Number of cycles untill failure (N) = {n['hook_shear']['N']:.2f}\\n\"\n",
    "      f\"Stress at failure (Sf) = {n['hook_shear']['Sf']}\")"
   ]
  },
  {
   "cell_type": "markdown",
   "id": "9c0022c2",
   "metadata": {},
   "source": [
    "## Frequency analysis"
   ]
  },
  {
   "cell_type": "markdown",
   "id": "00cef735",
   "metadata": {},
   "source": [
    "The natural frequency must be greater than 20 times the working frequency<br>\n",
    "$(f_{natural} > 20 \\cdot f_{working})$\n",
    "> Note:\n",
    "> - The verbose option can be used to print more information<br>\n",
    "> - The methode returns a dictionary but the output is suppressed"
   ]
  },
  {
   "cell_type": "code",
   "execution_count": 16,
   "id": "c0bde913",
   "metadata": {},
   "outputs": [
    {
     "name": "stdout",
     "output_type": "stream",
     "text": [
      "Note: the natural frequency=0.91 for fixed ends is not larger than 20*working frequency=10.00 \n",
      "which means the spring can resonance\n",
      "\n",
      "Note: the natural frequency=0.45 for one fixed and one free ends is not larger than 20*working frequency=10.00 \n",
      "which means the spring can resonance\n",
      "\n"
     ]
    }
   ],
   "source": [
    "spring.natural_frequency(density=rho, working_frequency=0.5, verbose=True);"
   ]
  }
 ],
 "metadata": {
  "kernelspec": {
   "display_name": "Python 3 (ipykernel)",
   "language": "python",
   "name": "python3"
  },
  "language_info": {
   "codemirror_mode": {
    "name": "ipython",
    "version": 3
   },
   "file_extension": ".py",
   "mimetype": "text/x-python",
   "name": "python",
   "nbconvert_exporter": "python",
   "pygments_lexer": "ipython3",
   "version": "3.9.1"
  }
 },
 "nbformat": 4,
 "nbformat_minor": 5
}
