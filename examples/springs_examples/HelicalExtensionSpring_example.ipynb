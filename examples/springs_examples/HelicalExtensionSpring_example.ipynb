{
 "cells": [
  {
   "cell_type": "markdown",
   "metadata": {},
   "source": [
    "# Helical Extension Spring\n",
    "\n",
    "<table><tr>\n",
    "<td>\n",
    "<img src=\"./img/Helical_Extension_Spring/Extension_Spring_-_Figure_10-6.png\" width=300\"/> </td>\n",
    "<td>\n",
    "<img src=\"./img/Helical_Extension_Spring//Extension_Spring_-_Figure_10-7.png\" width=550\"/> </td>\n",
    "</tr></table>"
   ]
  },
  {
   "cell_type": "markdown",
   "metadata": {},
   "source": [
    "Importing the relevant Classes"
   ]
  },
  {
   "cell_type": "code",
   "execution_count": 1,
   "metadata": {},
   "outputs": [],
   "source": [
    "from me_toolbox.springs import ExtensionSpring, Spring\n",
    "from me_toolbox.tools import inch_to_millimetre as im\n",
    "from me_toolbox.tools import millimetre_to_inch as mi\n",
    "from me_toolbox.tools import lbs_to_newtons as pn\n",
    "from me_toolbox.tools import lbs_per_in_to_newtons_per_mm as pinmm"
   ]
  },
  {
   "cell_type": "markdown",
   "metadata": {},
   "source": [
    "## Geometric properties"
   ]
  },
  {
   "cell_type": "markdown",
   "metadata": {},
   "source": [
    "d - Wire diameter<br>\n",
    "OD - Spring outside diameter<br>\n",
    "D - Spring mean diameter<br>\n",
    "r1 - Hook's main radius<br>\n",
    "r2 - Hook's secondary radius"
   ]
  },
  {
   "cell_type": "code",
   "execution_count": 2,
   "metadata": {},
   "outputs": [
    {
     "name": "stdout",
     "output_type": "stream",
     "text": [
      "d = 0.89mm\n",
      "OD = 6.30mm\n",
      "D = 5.41mm\n",
      "r1 = 2.69mm\n",
      "r2 = 2.26mm\n",
      "\n"
     ]
    }
   ],
   "source": [
    "d = im(0.035)\n",
    "OD = im(0.248)\n",
    "D = OD - d\n",
    "r1 = im(0.106)\n",
    "r2 = im(0.089)\n",
    "print(f\"{d = :.2f}mm\\n\"\n",
    "      f\"{OD = :.2f}mm\\n\"\n",
    "      f\"{D = :.2f}mm\\n\"\n",
    "      f\"{r1 = :.2f}mm\\n\"\n",
    "      f\"{r2 = :.2f}mm\\n\")"
   ]
  },
  {
   "cell_type": "markdown",
   "metadata": {},
   "source": [
    "## Material properties"
   ]
  },
  {
   "cell_type": "markdown",
   "metadata": {},
   "source": [
    "Table 10-4 from Shigley:\n",
    "<table><tr>\n",
    "<td>\n",
    "<img src=\"./img/Helical_Compression_Spring/Tensile_strength_estimation.png\" width=360\"/> </td>\n",
    "<td>\n",
    "<img src=\"./img/Helical_Extension_Spring/Mechanical_properties_of_some_spring_wires_-_table_10-5.png\" width=300\"/> </td>\n",
    "</tr></table>\n",
    "\n",
    "Material options for use in Spring.material_prop method are:<br>\n",
    "  * music wire<br>\n",
    "  * oq&t wire<br>\n",
    "  * hard-drawn wire<br>\n",
    "  * chrome-vanadium wire<br>\n",
    "  * chrome-silicon wire<br>\n",
    "  * 302 stainless wire<br>\n",
    "  * phosphore-bronze wire<br>"
   ]
  },
  {
   "cell_type": "markdown",
   "metadata": {},
   "source": [
    "G - Shear modulus<br>\n",
    "E - Elastic modulus<br>\n",
    "Sut - Ultimate tensile strength"
   ]
  },
  {
   "cell_type": "code",
   "execution_count": 3,
   "metadata": {},
   "outputs": [
    {
     "name": "stdout",
     "output_type": "stream",
     "text": [
      "Sut = 1823.31\n"
     ]
    }
   ],
   "source": [
    "# music wire\n",
    "G = 80e3  # [MPa]\n",
    "E = 197.9e3  # [MPa]\n",
    "Sut = Spring.material_prop('hard-drawn wire', d, metric=True, verbose=False)\n",
    "print(f\"Sut = {Sut:.2f}\")"
   ]
  },
  {
   "cell_type": "markdown",
   "metadata": {},
   "source": [
    "Table 10-6 from Shigley:\n",
    "<table><tr>\n",
    "<td> <img src=\"./img/Helical_Extension_Spring/Present_of_tensile_strength_-_Table_10-7.png\" width=600\"/> </td>\n",
    "</tr></table>\n"
   ]
  },
  {
   "cell_type": "code",
   "execution_count": 4,
   "metadata": {},
   "outputs": [],
   "source": [
    "body_torsion_yield_percent = 0.45\n",
    "end_bending_yield_percent = 0.75\n",
    "end_torsion_yield_percent = 0.4"
   ]
  },
  {
   "cell_type": "markdown",
   "metadata": {},
   "source": [
    "## Forces and spring rate"
   ]
  },
  {
   "cell_type": "markdown",
   "metadata": {},
   "source": [
    "k - Spring rate<br>\n",
    "Fmax - Maximum force<br>\n",
    "Fi - Initial force (force at free state from manufacturing process)"
   ]
  },
  {
   "cell_type": "code",
   "execution_count": 5,
   "metadata": {},
   "outputs": [
    {
     "name": "stdout",
     "output_type": "stream",
     "text": [
      "k = 3.13\n",
      "Fmax = 23.35\n",
      "Fi = 5.29\n",
      "\n"
     ]
    }
   ],
   "source": [
    "k = pinmm(17.912907845)  # [N/mm]\n",
    "Fmax = pn(5.25)  # [N]\n",
    "Fi = pn(1.19)  # [N]\n",
    "print(f\"{k = :.2f}\\n\"\n",
    "      f\"{Fmax = :.2f}\\n\"\n",
    "      f\"{Fi = :.2f}\\n\")"
   ]
  },
  {
   "cell_type": "markdown",
   "metadata": {},
   "source": [
    "## Optional parameters\n",
    "\n",
    "Shot peening - a cold working process in which the surface of the spring is impacted with a small spherical mediacalled shot in order to increase the fatigue resistance.<br>\n",
    "rho - Material density"
   ]
  },
  {
   "cell_type": "code",
   "execution_count": 6,
   "metadata": {},
   "outputs": [],
   "source": [
    "peened=True\n",
    "rho = 7800  # [kg/m^3]"
   ]
  },
  {
   "cell_type": "markdown",
   "metadata": {},
   "source": [
    "## Defining the spring\n",
    "\n",
    "Required parameters:\n",
    "  * max_force - The maximum force in $[N]$\n",
    "  * initial_tension - The initial tension in $[N]$\n",
    "  * wire_diameter - The wire diameter in $[mm]$\n",
    "  * spring_diameter - The spring diameter in $[mm]$\n",
    "  * hook_r1 - The spring's hook big radius in $[mm]$\n",
    "  * hook_r2 - The spring's hook small radius in $[mm]$\n",
    "  * ultimate_tensile_strength - The ultimate tensile strength in $[MPa]$\n",
    "  * body_shear_yield_precent - the precentage of the shear yield strength(Ssy) from the ultimate tensile strength (Sut)\n",
    "  * hook_normal_yield_percent - the precentage of the normal yield strength(Sy) from the ultimate tensile strength (Sut)\n",
    "  * hook_shear_yield_percent - the precentage of the shear yield strength(Ssy) from the ultimate tensile strength (Sut)\n",
    "  * shear_modulus - The material shear modulus in $[MPa]$\n",
    "  * elastic_modulus - The material elastic modulus in $[MPa]$\n",
    "  * spring_rate - The spring rate in $[N/mm]$\n",
    "\n",
    "Optional parameters: <br>\n",
    "(the bold parameters are the defaults)\n",
    "  * shot_peened=**False** - If the spring underwent shot peening\n",
    "  * density=**None** - The Material density in $[kg/mm^3]$"
   ]
  },
  {
   "cell_type": "code",
   "execution_count": 7,
   "metadata": {},
   "outputs": [],
   "source": [
    "spring = ExtensionSpring(max_force=Fmax, \n",
    "                         initial_tension=Fi,\n",
    "                         wire_diameter=d, \n",
    "                         spring_diameter=D, \n",
    "                         hook_r1=r2, hook_r2=r2,\n",
    "                         ultimate_tensile_strength=Sut, \n",
    "                         body_shear_yield_percent=body_torsion_yield_percent, \n",
    "                         hook_normal_yield_percent=end_bending_yield_percent, \n",
    "                         hook_shear_yield_percent=end_torsion_yield_percent,\n",
    "                         shear_modulus=G, elastic_modulus=E,\n",
    "                         spring_rate=k, \n",
    "                         shot_peened=peened, \n",
    "                         density=rho)"
   ]
  },
  {
   "cell_type": "markdown",
   "metadata": {},
   "source": [
    "### Calculated geometric properties"
   ]
  },
  {
   "cell_type": "code",
   "execution_count": 8,
   "metadata": {},
   "outputs": [
    {
     "name": "stdout",
     "output_type": "stream",
     "text": [
      "Free Length (L0) = 20.76\n",
      "Active Coils (Na) = 12.58\n",
      "Body Coils (Nb) = 12.18\n"
     ]
    }
   ],
   "source": [
    "print(f\"Free Length (L0) = {spring.free_length:.2f}\\n\"\n",
    "      f\"Active Coils (Na) = {spring.active_coils:.2f}\\n\"\n",
    "      f\"Body Coils (Nb) = {spring.body_coils:.2f}\")"
   ]
  },
  {
   "cell_type": "markdown",
   "metadata": {},
   "source": [
    "### Calculated material properties"
   ]
  },
  {
   "cell_type": "code",
   "execution_count": 9,
   "metadata": {},
   "outputs": [
    {
     "name": "stdout",
     "output_type": "stream",
     "text": [
      "Shear yield strength (Ssy) = 820.49\n",
      "Shear ultimate strength (Ssu) = 1221.62\n",
      "\n"
     ]
    }
   ],
   "source": [
    "print(f\"Shear yield strength (Ssy) = {spring.shear_yield_strength:.2f}\\n\"\n",
    "      f\"Shear ultimate strength (Ssu) = {spring.shear_ultimate_strength:.2f}\\n\")"
   ]
  },
  {
   "cell_type": "markdown",
   "metadata": {},
   "source": [
    "## Static analysis"
   ]
  },
  {
   "cell_type": "code",
   "execution_count": 10,
   "metadata": {},
   "outputs": [
    {
     "name": "stdout",
     "output_type": "stream",
     "text": [
      "body safety factors: 1.44\n",
      "hook normal safety factors: 1.23\n",
      "hook shear safety factors: 1.35\n"
     ]
    }
   ],
   "source": [
    "ns = spring.static_safety_factor(verbose=False)\n",
    "print(f\"body safety factors: {ns['n_body']:.2f}\\n\"\n",
    "      f\"hook normal safety factors: {ns['n_hook_normal']:.2f}\\n\"\n",
    "      f\"hook shear safety factors: {ns['n_hook_shear']:.2f}\")"
   ]
  },
  {
   "cell_type": "markdown",
   "metadata": {},
   "source": [
    "## Fatigue analysis"
   ]
  },
  {
   "cell_type": "code",
   "execution_count": 11,
   "metadata": {},
   "outputs": [
    {
     "name": "stdout",
     "output_type": "stream",
     "text": [
      "Alternating force = 7.78, Mean force = 14.46\n",
      "\n",
      "Body's alternating body shear stress = 180.65, Body's mean body shear stress = 335.50\n",
      "\n",
      "Hook's alternating shear stress = 180.65, Hook's mean shear stress = 335.50\n",
      "\n",
      "Hook's alternating normal stress = 370.17, Hook's mean normal stress = 687.46\n",
      "\n",
      "Sut = 1823.31, Sse = 492.01, Se = 852.71, Ssu = 1221.62,\n",
      "Ssy_body = 820.49, Ssy_hook = 729.32, Sy_hook = 1367.48\n",
      "\n",
      "Body's fatigue safety factor (nf) = 1.95\n",
      "body's static safety factor (ns) = 1.59\n",
      "Hook's normal fatigue safety factor (ns) = 1.53\n",
      "Hook's normal Static safety factor (ns) = 1.29\n",
      "Hook's shear fatigue safety factor (ns) = 1.95\n",
      "Hook's shear Static safety factor (ns) = 1.41\n",
      "\n",
      "The minimal safety factor is: ns_hook_normal = 1.29\n"
     ]
    }
   ],
   "source": [
    "F_max = pn(5)  # [N]\n",
    "F_min = pn(1.5)\n",
    "n = spring.fatigue_analysis(max_force=F_max, min_force=F_min, reliability=50, verbose=True)\n",
    "print(f\"Body's fatigue safety factor (nf) = {n['nf_body']:.2f}\\n\"\n",
    "      f\"body's static safety factor (ns) = {n['ns_body']:.2f}\\n\"\n",
    "      f\"Hook's normal fatigue safety factor (ns) = {n['nf_hook_normal']:.2f}\\n\"\n",
    "      f\"Hook's normal Static safety factor (ns) = {n['ns_hook_normal']:.2f}\\n\"\n",
    "      f\"Hook's shear fatigue safety factor (ns) = {n['nf_hook_shear']:.2f}\\n\"\n",
    "      f\"Hook's shear Static safety factor (ns) = {n['ns_hook_shear']:.2f}\\n\")\n",
    "\n",
    "print(f\"The minimal safety factor is: {min(n, key=n.get)} = {n[min(n, key=n.get)]:.2f}\")\n"
   ]
  },
  {
   "cell_type": "markdown",
   "metadata": {},
   "source": [
    "## Frequency analysis"
   ]
  },
  {
   "cell_type": "markdown",
   "metadata": {},
   "source": [
    "The natural frequency must be greater than 20 times the working frequency<br>\n",
    "$(f_{natural} > 20 \\cdot f_{working})$"
   ]
  },
  {
   "cell_type": "code",
   "execution_count": 12,
   "metadata": {},
   "outputs": [
    {
     "name": "stdout",
     "output_type": "stream",
     "text": [
      "Note: the natural frequency=0.87 for fixed ends is not larger than 20*working frequency=10.00 \n",
      "which means the spring can resonance\n",
      "\n",
      "Note: the natural frequency=0.43 for one fixed and one free ends is not larger than 20*working frequency=10.00 \n",
      "which means the spring can resonance\n",
      "\n"
     ]
    },
    {
     "data": {
      "text/plain": [
       "{'fixed-fixed': 0.869991487847817, 'fixed-free': 0.434995743923909}"
      ]
     },
     "execution_count": 12,
     "metadata": {},
     "output_type": "execute_result"
    }
   ],
   "source": [
    "spring.natural_frequency(density=rho, working_frequency=0.5, verbose=True)"
   ]
  }
 ],
 "metadata": {
  "kernelspec": {
   "display_name": "Python 3",
   "language": "python",
   "name": "python3"
  },
  "language_info": {
   "codemirror_mode": {
    "name": "ipython",
    "version": 3
   },
   "file_extension": ".py",
   "mimetype": "text/x-python",
   "name": "python",
   "nbconvert_exporter": "python",
   "pygments_lexer": "ipython3",
   "version": "3.9.1"
  }
 },
 "nbformat": 4,
 "nbformat_minor": 5
}
