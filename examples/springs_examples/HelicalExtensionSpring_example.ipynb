{
 "cells": [
  {
   "cell_type": "code",
   "execution_count": 1,
   "id": "4204082f-f220-4c45-8541-77cc67a34c17",
   "metadata": {},
   "outputs": [
    {
     "data": {
      "text/plain": [
       "'C:\\\\Users\\\\omris\\\\OneDrive\\\\python\\\\me_toolbox'"
      ]
     },
     "execution_count": 1,
     "metadata": {},
     "output_type": "execute_result"
    }
   ],
   "source": [
    "import os\n",
    "os.getcwd()\n",
    "os.chdir(\"../..\")\n",
    "os.getcwd()"
   ]
  },
  {
   "attachments": {},
   "cell_type": "markdown",
   "id": "c182eadb-c5c2-4bda-bc30-d652b9b2070a",
   "metadata": {},
   "source": [
    "# Helical Extension Spring\n",
    "\n",
    "<table><tr>\n",
    "<td>\n",
    "<img src=\"./img/Helical_Extension_Spring/Extension Spring - Figure 10-6.png\" width=300\"/> </td>\n",
    "<td>\n",
    "<img src=\"./img/Helical_Extension_Spring//Extension Spring - Figure 10-7.png\" width=550\"/> </td>\n",
    "</tr></table>"
   ]
  },
  {
   "cell_type": "markdown",
   "id": "42addf76-4934-4b5f-837f-2b3fb78d09c6",
   "metadata": {},
   "source": [
    "Importing the relevant Classes"
   ]
  },
  {
   "cell_type": "code",
   "execution_count": 2,
   "id": "ef78ccb0-cdb7-456e-a758-7b44290f899e",
   "metadata": {},
   "outputs": [],
   "source": [
    "from me_toolbox.springs import ExtensionSpring, Spring\n",
    "from me_toolbox.tools import inch_to_millimetre as im\n",
    "from me_toolbox.tools import millimetre_to_inch as mi\n",
    "from me_toolbox.tools import lbs_to_newtons as pn\n",
    "from me_toolbox.tools import lbs_per_in_to_newtons_per_mm as pinmm"
   ]
  },
  {
   "cell_type": "markdown",
   "id": "8e43c485-d307-4ac6-9ac1-8501fce7ce8f",
   "metadata": {},
   "source": [
    "## Geometric properties"
   ]
  },
  {
   "cell_type": "markdown",
   "id": "275df790-7417-4b2d-835f-26969dde9bd1",
   "metadata": {},
   "source": [
    "d - Wire diameter<br>\n",
    "OD - Spring outside diameter<br>\n",
    "D - Spring mean diameter<br>\n",
    "r1 - Hook's main radius<br>\n",
    "r2 - Hook's secondary radius"
   ]
  },
  {
   "cell_type": "code",
   "execution_count": 3,
   "id": "7324d472-ff37-4588-94db-dfdf56a01c79",
   "metadata": {},
   "outputs": [
    {
     "name": "stdout",
     "output_type": "stream",
     "text": [
      "d = 0.89mm\n",
      "OD = 6.30mm\n",
      "D = 5.41mm\n",
      "r1 = 2.69mm\n",
      "r2 = 2.26mm\n",
      "\n"
     ]
    }
   ],
   "source": [
    "d = im(0.035)\n",
    "OD = im(0.248)\n",
    "D = OD - d\n",
    "r1 = im(0.106)\n",
    "r2 = im(0.089)\n",
    "print(f\"{d = :.2f}mm\\n\"\n",
    "      f\"{OD = :.2f}mm\\n\"\n",
    "      f\"{D = :.2f}mm\\n\"\n",
    "      f\"{r1 = :.2f}mm\\n\"\n",
    "      f\"{r2 = :.2f}mm\\n\")"
   ]
  },
  {
   "cell_type": "markdown",
   "id": "2201dd74-14ea-4615-9f3a-b0bcec6c22fb",
   "metadata": {},
   "source": [
    "## Material properties"
   ]
  },
  {
   "attachments": {},
   "cell_type": "markdown",
   "id": "298cd42d-644a-40bb-bd9b-490c5f65ab74",
   "metadata": {},
   "source": [
    "Table 10-4 from Shigley:\n",
    "<table><tr>\n",
    "<td>\n",
    "<img src=\"./img/Helical_Compression_Spring/Tensile_strength_estimation.png\" width=360\"/> </td>\n",
    "<td>\n",
    "<img src=\"./img/Helical_Extension_Spring/Mechanical properties of some spring wires - table 10-5.png\" width=300\"/> </td>\n",
    "</tr></table>\n",
    "\n",
    "Material options for use in Spring.material_prop method are:<br>\n",
    "  * music wire<br>\n",
    "  * oq&t wire<br>\n",
    "  * hard-drawn wire<br>\n",
    "  * chrome-vanadium wire<br>\n",
    "  * chrome-silicon wire<br>\n",
    "  * 302 stainless wire<br>\n",
    "  * phosphore-bronze wire<br>"
   ]
  },
  {
   "cell_type": "markdown",
   "id": "9c6a8982-5bff-4a63-bbf2-148dc6725a7e",
   "metadata": {},
   "source": [
    "G - Shear modulus<br>\n",
    "E - Elastic modulus<br>\n",
    "Sut - Ultimate tensile strength"
   ]
  },
  {
   "cell_type": "code",
   "execution_count": 4,
   "id": "033d41b2-9fca-4aae-b6a4-065002fbd56f",
   "metadata": {},
   "outputs": [
    {
     "name": "stdout",
     "output_type": "stream",
     "text": [
      "Sut = 1823.31\n"
     ]
    }
   ],
   "source": [
    "# music wire\n",
    "G = 80e3  # [MPa]\n",
    "E = 197.9e3  # [MPa]\n",
    "Sut = Spring.material_prop('hard-drawn wire', d, metric=True, verbose=False)\n",
    "print(f\"Sut = {Sut:.2f}\")"
   ]
  },
  {
   "attachments": {},
   "cell_type": "markdown",
   "id": "392b47f5-b583-498b-bca1-61e4cfe0786f",
   "metadata": {},
   "source": [
    "Table 10-6 from Shigley:\n",
    "<table><tr>\n",
    "<td> <img src=\"./img/Helical_Extension_Spring/Present of tensile strength - Table 10-7.png\" width=600\"/> </td>\n",
    "</tr></table>\n"
   ]
  },
  {
   "cell_type": "code",
   "execution_count": 5,
   "id": "b7c35b8e-6812-41f4-8dc9-d0b1ba49556a",
   "metadata": {},
   "outputs": [],
   "source": [
    "body_torsion_yield_percent = 0.45\n",
    "end_bending_yield_percent = 0.75\n",
    "end_torsion_yield_percent = 0.4"
   ]
  },
  {
   "cell_type": "markdown",
   "id": "3147a12a-145c-471f-a1fd-dd9e243d3f51",
   "metadata": {},
   "source": [
    "## Forces and spring rate"
   ]
  },
  {
   "cell_type": "markdown",
   "id": "c8f5b0f5-09c6-4b16-a6ac-d9f90908cef6",
   "metadata": {},
   "source": [
    "k - Spring rate<br>\n",
    "Fmax - Maximum force<br>\n",
    "Fi - Initial force (force at free state from manufacturing process)"
   ]
  },
  {
   "cell_type": "code",
   "execution_count": 6,
   "id": "c70b5dbd-4403-43dd-9cc3-e42f66d25953",
   "metadata": {},
   "outputs": [
    {
     "name": "stdout",
     "output_type": "stream",
     "text": [
      "k = 3.13\n",
      "Fmax = 23.35\n",
      "Fi = 5.29\n",
      "\n"
     ]
    }
   ],
   "source": [
    "k = pinmm(17.912907845)  # [N/mm]\n",
    "Fmax = pn(5.25)  # [N]\n",
    "Fi = pn(1.19)  # [N]\n",
    "print(f\"{k = :.2f}\\n\"\n",
    "      f\"{Fmax = :.2f}\\n\"\n",
    "      f\"{Fi = :.2f}\\n\")"
   ]
  },
  {
   "cell_type": "markdown",
   "id": "d200d8ca-3d7e-469f-8237-dceb6578e64f",
   "metadata": {},
   "source": [
    "## Defining the spring\n",
    "\n",
    "Required parameters:\n",
    "  * max_force - The maximum force in $[N]$\n",
    "  * initial_tension - The initial tension in $[N]$\n",
    "  * wire_diameter - The wire diameter in $[mm]$\n",
    "  * spring_diameter - The spring diameter in $[mm]$\n",
    "  * hook_r1 - The spring's hook big radius in $[mm]$\n",
    "  * hook_r2 - The spring's hook small radius in $[mm]$\n",
    "  * ultimate_tensile_strength - The ultimate tensile strength in $[MPa]$\n",
    "  * body_shear_yield_precent - the precentage of the shear yield strength(Ssy) from the ultimate tensile strength (Sut)\n",
    "  * hook_normal_yield_percent - the precentage of the normal yield strength(Sy) from the ultimate tensile strength (Sut)\n",
    "  * hook_shear_yield_percent - the precentage of the shear yield strength(Ssy) from the ultimate tensile strength (Sut)\n",
    "  * shear_modulus - The material shear modulus in $[MPa]$\n",
    "  * elastic_modulus - The material elastic modulus in $[MPa]$\n",
    "  * spring_rate - The spring rate in $[N/mm]$\n",
    "\n",
    "Optional parameters: <br>\n",
    "(the bold parameters are the defaults)\n",
    "  * shot_peened=**False** - If the spring underwent shot peening\n",
    "  * density=**None** - The Material density in $[kg/mm^3]$\n",
    "  * working_frequency=**None** - The working frequency of the spring in $[Hz]$\n",
    "  * anchors=**None** - The way the spring is held in both ends (used to check for buckling)"
   ]
  },
  {
   "cell_type": "code",
   "execution_count": 7,
   "id": "4ac31588-ac17-4cd7-990e-9b2c57d94bd5",
   "metadata": {},
   "outputs": [],
   "source": [
    "spring = ExtensionSpring(max_force=Fmax, \n",
    "                         initial_tension=Fi,\n",
    "                         wire_diameter=d, \n",
    "                         spring_diameter=D, \n",
    "                         hook_r1=r2, hook_r2=r2,\n",
    "                         ultimate_tensile_strength=Sut, \n",
    "                         body_shear_yield_percent=body_torsion_yield_percent, \n",
    "                         hook_normal_yield_percent=end_bending_yield_percent, \n",
    "                         hook_shear_yield_percent=end_torsion_yield_percent,\n",
    "                         shear_modulus=G, elastic_modulus=E,\n",
    "                         spring_rate=k, \n",
    "                         shot_peened=False, \n",
    "                         density=None, \n",
    "                         working_frequency=None)"
   ]
  },
  {
   "cell_type": "markdown",
   "id": "3060eaaa-cfbe-4665-86b3-7f79429b0108",
   "metadata": {},
   "source": [
    "### Calculated geometric properties"
   ]
  },
  {
   "cell_type": "code",
   "execution_count": 8,
   "id": "f1991e49-1e67-47ad-9514-941925bf3e19",
   "metadata": {},
   "outputs": [
    {
     "name": "stdout",
     "output_type": "stream",
     "text": [
      "Free Length (L0) = 20.76\n",
      "Active Coils (Na) = 12.58\n",
      "Body Coils (Nb) = 12.18\n"
     ]
    }
   ],
   "source": [
    "print(f\"Free Length (L0) = {spring.free_length:.2f}\\n\"\n",
    "      f\"Active Coils (Na) = {spring.active_coils:.2f}\\n\"\n",
    "      f\"Body Coils (Nb) = {spring.body_coils:.2f}\")"
   ]
  },
  {
   "cell_type": "markdown",
   "id": "1153481f-509f-40a8-8a0b-6c6466361e6f",
   "metadata": {},
   "source": [
    "### Calculated material properties"
   ]
  },
  {
   "cell_type": "code",
   "execution_count": 9,
   "id": "c73bc067-5f87-4944-aa46-ff995d20c14e",
   "metadata": {},
   "outputs": [
    {
     "name": "stdout",
     "output_type": "stream",
     "text": [
      "Shear yield strength (Ssy) = 820.49\n",
      "Shear ultimate strength (Ssu) = 1221.62\n",
      "\n"
     ]
    }
   ],
   "source": [
    "print(f\"Shear yield strength (Ssy) = {spring.shear_yield_strength:.2f}\\n\"\n",
    "      f\"Shear ultimate strength (Ssu) = {spring.shear_ultimate_strength:.2f}\\n\")"
   ]
  },
  {
   "cell_type": "markdown",
   "id": "228a1b7e-21e8-4759-9576-3cfff33106e5",
   "metadata": {},
   "source": [
    "## Static analysis"
   ]
  },
  {
   "cell_type": "code",
   "execution_count": 10,
   "id": "adfe74dd-42d5-455b-b0f7-d2712f6ee281",
   "metadata": {},
   "outputs": [
    {
     "name": "stdout",
     "output_type": "stream",
     "text": [
      "body safety factors: 1.44\n",
      "hook normal safety factors: 1.23\n",
      "hook shear safety factors: 1.35\n"
     ]
    }
   ],
   "source": [
    "ns = spring.static_safety_factor(verbose=False)\n",
    "print(f\"body safety factors: {ns[\"n_body\"]:.2f}\\n\"\n",
    "      f\"hook normal safety factors: {ns[\"n_hook_normal\"]:.2f}\\n\"\n",
    "      f\"hook shear safety factors: {ns[\"n_hook_shear\"]:.2f}\")"
   ]
  },
  {
   "cell_type": "markdown",
   "id": "d2f3480f-1c8f-4033-986b-9daec33164c9",
   "metadata": {},
   "source": [
    "## Fatigue analysis"
   ]
  },
  {
   "cell_type": "code",
   "execution_count": 11,
   "id": "a4eb431e-e2ce-4ff0-a890-e789a5db9302",
   "metadata": {},
   "outputs": [
    {
     "name": "stdout",
     "output_type": "stream",
     "text": [
      "Alternating force = 7.78, Mean force = 14.46\n",
      "\n",
      "Body's alternating body shear stress = 180.65, Body's mean body shear stress = 335.50\n",
      "\n",
      "Hook's alternating shear stress = 180.65, Hook's mean shear stress = 335.50\n",
      "\n",
      "Hook's alternating normal stress = 370.17, Hook's mean normal stress = 687.46\n",
      "\n",
      "Sut = 1823.31, Sse = 266.67, Se = 462.16, Ssu = 1221.62,\n",
      "Ssy_body = 820.49, Ssy_hook = 729.32, Sy_hook = 1367.48\n",
      "\n",
      "Body's fatigue safety factor (nf) = 1.29\n",
      "body's static safety factor (ns) = 1.59\n",
      "Hook's normal fatigue safety factor (ns) = 1.05\n",
      "Hook's normal Static safety factor (ns) = 1.29\n",
      "Hook's shear fatigue safety factor (ns) = 1.29\n",
      "Hook's shear Static safety factor (ns) = 1.41\n",
      "\n",
      "The minimal safety factor is: nf_hook_normal = 1.05\n"
     ]
    }
   ],
   "source": [
    "F_max = pn(5)  # [N]\n",
    "F_min = pn(1.5)\n",
    "n = spring.fatigue_analysis(max_force=F_max, min_force=F_min, reliability=50, verbose=True)\n",
    "print(f\"Body's fatigue safety factor (nf) = {n[\"nf_body\"]:.2f}\\n\"\n",
    "      f\"body's static safety factor (ns) = {n[\"ns_body\"]:.2f}\\n\"\n",
    "      f\"Hook's normal fatigue safety factor (ns) = {n[\"nf_hook_normal\"]:.2f}\\n\"\n",
    "      f\"Hook's normal Static safety factor (ns) = {n[\"ns_hook_normal\"]:.2f}\\n\"\n",
    "      f\"Hook's shear fatigue safety factor (ns) = {n[\"nf_hook_shear\"]:.2f}\\n\"\n",
    "      f\"Hook's shear Static safety factor (ns) = {n[\"ns_hook_shear\"]:.2f}\\n\")\n",
    "\n",
    "print(f\"The minimal safety factor is: {min(n, key=n.get)} = {n[min(n, key=n.get)]:.2f}\")\n"
   ]
  },
  {
   "cell_type": "markdown",
   "id": "e695a753-e37c-4280-9337-d62e5eb16c1d",
   "metadata": {},
   "source": [
    "## Frequency analysis"
   ]
  },
  {
   "cell_type": "code",
   "execution_count": 12,
   "id": "14e21fa6-dd20-49eb-822f-66e867fdb5d8",
   "metadata": {},
   "outputs": [],
   "source": [
    "spring.density = 7850  # [kg/m^3]\n",
    "spring.working_frequency = 0.5  # [Hz]"
   ]
  },
  {
   "cell_type": "markdown",
   "id": "a620d386-a4a4-4f5b-849f-bade4bfafe41",
   "metadata": {},
   "source": [
    "The natural frequency must be greater than 20 times the working frequency<br>\n",
    "$(f_{natural} > 20 \\cdot f_{working})$"
   ]
  },
  {
   "cell_type": "code",
   "execution_count": 13,
   "id": "c4e0859f-aa23-4c79-a569-d4d6113225b0",
   "metadata": {},
   "outputs": [
    {
     "name": "stdout",
     "output_type": "stream",
     "text": [
      "Natural frequency = {'fixed-fixed': 0.867216388312294, 'fixed-free': 0.433608194156147}\n",
      "20*Working frequency = 10.00\n"
     ]
    }
   ],
   "source": [
    "print(f\"Natural frequency = {spring.natural_frequency}\\n\"\n",
    "      f\"20*Working frequency = {20*spring.working_frequency:.2f}\")\n"
   ]
  }
 ],
 "metadata": {
  "kernelspec": {
   "display_name": "Python 3 (ipykernel)",
   "language": "python",
   "name": "python3"
  },
  "language_info": {
   "codemirror_mode": {
    "name": "ipython",
    "version": 3
   },
   "file_extension": ".py",
   "mimetype": "text/x-python",
   "name": "python",
   "nbconvert_exporter": "python",
   "pygments_lexer": "ipython3",
   "version": "3.12.2"
  }
 },
 "nbformat": 4,
 "nbformat_minor": 5
}
