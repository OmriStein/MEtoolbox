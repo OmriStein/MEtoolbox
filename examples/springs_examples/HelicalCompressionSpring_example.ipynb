{
 "cells": [
  {
   "cell_type": "markdown",
   "metadata": {},
   "source": [
    "# Helical Compression Spring\n",
    "\n",
    "<table><tr>\n",
    "<td>\n",
    "<img src=\"./img/Helical_Compression_Spring/Helical_Compression_Spring.png\" width=300\"/> </td>\n",
    "<td>\n",
    "<img src=\"./img/Helical_Compression_Spring/Helical_Compression_Spring_end_type.png\" width=400\"/> </td>\n",
    "</tr></table>"
   ]
  },
  {
   "cell_type": "markdown",
   "metadata": {},
   "source": [
    "Importing the relevant Classes"
   ]
  },
  {
   "cell_type": "code",
   "execution_count": 1,
   "metadata": {},
   "outputs": [],
   "source": [
    "from me_toolbox.springs import HelicalCompressionSpring, Spring"
   ]
  },
  {
   "cell_type": "markdown",
   "metadata": {},
   "source": [
    "## Geometric properties\n",
    "\n",
    "d - Wire diamter<br>\n",
    "D - Spring mean diameter<br>\n",
    "ends - How the spring's ends look"
   ]
  },
  {
   "cell_type": "code",
   "execution_count": 2,
   "metadata": {},
   "outputs": [],
   "source": [
    "d = 6   # [mm]\n",
    "D = 50  # [mm]\n",
    "ends = 'squared and ground'"
   ]
  },
  {
   "cell_type": "markdown",
   "metadata": {},
   "source": [
    "## Material properties"
   ]
  },
  {
   "cell_type": "markdown",
   "metadata": {},
   "source": [
    "Table 10-4 from Shigley:\n",
    "<table><tr>\n",
    "<td>\n",
    "<img src=\"./img/Helical_Compression_Spring/Tensile_strength_estimation.png\" width=360\"/> </td>\n",
    "<td>\n",
    "<img src=\"./img/Helical_Extension_Spring/Mechanical_properties_of_some_spring_wires_-_table_10-5.png\" width=300\"/> </td>\n",
    "</tr></table>\n",
    "\n",
    "Material options for use in Spring.material_prop method are:<br>\n",
    "  * music wire<br>\n",
    "  * oq&t wire<br>\n",
    "  * hard-drawn wire<br>\n",
    "  * chrome-vanadium wire<br>\n",
    "  * chrome-silicon wire<br>\n",
    "  * 302 stainless wire<br>\n",
    "  * phosphore-bronze wire<br>"
   ]
  },
  {
   "cell_type": "markdown",
   "metadata": {},
   "source": [
    "G - Shear modulus<br>\n",
    "E - Elastic modulus<br>\n",
    "Sut - Ultimate tensile strength<br>"
   ]
  },
  {
   "cell_type": "code",
   "execution_count": 3,
   "metadata": {},
   "outputs": [
    {
     "name": "stdout",
     "output_type": "stream",
     "text": [
      "Sut = 1705.13\n"
     ]
    }
   ],
   "source": [
    "# music wire\n",
    "G = 75e3  # [MPa]\n",
    "E = 205e3  # [MPa]\n",
    "Sut = Spring.material_prop('music wire', d, metric=True, verbose=False)\n",
    "print(f\"Sut = {Sut:.2f}\")"
   ]
  },
  {
   "cell_type": "markdown",
   "metadata": {},
   "source": [
    "Table 10-6 from Shigley:\n",
    "<table><tr>\n",
    "<td> <img src=\"./img/Helical_Compression_Spring/present_of_tensile_strength.png\" width=600\"/> </td>\n",
    "</tr></table>\n"
   ]
  },
  {
   "cell_type": "code",
   "execution_count": 4,
   "metadata": {},
   "outputs": [],
   "source": [
    "yield_percent = 0.45"
   ]
  },
  {
   "cell_type": "markdown",
   "metadata": {},
   "source": [
    "## Forces and spring rate"
   ]
  },
  {
   "cell_type": "markdown",
   "metadata": {},
   "source": [
    "k - Spring rate<br>\n",
    "Famx - Maximum Force<br>\n",
    "Fmin - Minimum Force<br>"
   ]
  },
  {
   "cell_type": "code",
   "execution_count": 5,
   "metadata": {},
   "outputs": [],
   "source": [
    "k = 6  # [N/mm]\n",
    "Fmax = 500  # [N]\n",
    "Fmin = 100  # [N]"
   ]
  },
  {
   "cell_type": "markdown",
   "metadata": {},
   "source": [
    "## Optional parameters\n",
    "\n",
    "Set removal - a process where the spring is pressed to its solid length - **not used when dynamic loading occurs**<br>\n",
    "Shot peening - a cold working process in which the surface of the spring is impacted with a small spherical media called shot in order to increase the fatigue resistance.<br>\n",
    "rho - Material density<br>\n",
    "zeta - overrun safety factor\n"
   ]
  },
  {
   "cell_type": "code",
   "execution_count": 6,
   "metadata": {},
   "outputs": [],
   "source": [
    "removed_set=False\n",
    "peened=True\n",
    "rho = 7800  # [kg/m^3]\n",
    "omega=None\n",
    "anchors='fixed-hinged'\n",
    "z=0.25"
   ]
  },
  {
   "cell_type": "markdown",
   "metadata": {},
   "source": [
    "## Defining the spring\n",
    "\n",
    "Required parameters:\n",
    "  * max_force - The maximum force in $[N]$\n",
    "  * wire_diameter - The wire diameter in $[mm]$\n",
    "  * spring_diameter - The spring diameter in $[mm]$\n",
    "  * ultimate_tensile_strength - The ultimate tensile strength in $[MPa]$\n",
    "  * shear_yield_precent - the precentage of the shear yield strength(Ssy) from the ultimate tensile strength (Sut)\n",
    "  * shear_modulus - The material shear modulus in $[MPa]$\n",
    "  * elastic_modulus - The material elastic modulus in $[MPa]$\n",
    "  * end_type - The shape of the ends of the spring (used to calculate number of coils)\n",
    "  * spring_rate - The spring rate in $[N/mm]$\n",
    "\n",
    "Optional parameters: <br>\n",
    "(the bold parameters are the defaults)\n",
    "\n",
    "  * set_removed=**False** - If the spring's set has been removed (brought to solid state)\n",
    "  * shot_peened=**False** - If the spring underwent shot peening\n",
    "  * density=**None** - The Material density in $[kg/mm^3]$\n",
    "  * zeta=**0.15** - The overrun safety factor $(F_{solid}=(1+\\zeta) \\cdot F_{max})$\n"
   ]
  },
  {
   "cell_type": "code",
   "execution_count": 7,
   "metadata": {},
   "outputs": [
    {
     "name": "stdout",
     "output_type": "stream",
     "text": [
      "Note: active_coils=16.20 is not in range [3,15],this can cause non linear behavior\n"
     ]
    }
   ],
   "source": [
    "spring = HelicalCompressionSpring(max_force=Fmax,\n",
    "                                  wire_diameter=d,\n",
    "                                  spring_diameter=D,\n",
    "                                  ultimate_tensile_strength=Sut,\n",
    "                                  shear_yield_percent=yield_percent,\n",
    "                                  shear_modulus=G,\n",
    "                                  elastic_modulus=E,\n",
    "                                  end_type=ends,\n",
    "                                  spring_rate=k,\n",
    "                                  set_removed=removed_set,\n",
    "                                  shot_peened=peened,\n",
    "                                  density=rho,\n",
    "                                  zeta=z)"
   ]
  },
  {
   "cell_type": "markdown",
   "metadata": {},
   "source": [
    "### Calculated geometric properties"
   ]
  },
  {
   "cell_type": "code",
   "execution_count": 8,
   "metadata": {},
   "outputs": [
    {
     "name": "stdout",
     "output_type": "stream",
     "text": [
      "Free Length (L0) = 213.37\n",
      "Active Coils (Na) = 16.20\n",
      "Total Coils (Nt) = 18.20\n"
     ]
    }
   ],
   "source": [
    "print(f\"Free Length (L0) = {spring.free_length:.2f}\\n\"\n",
    "      f\"Active Coils (Na) = {spring.active_coils:.2f}\\n\"\n",
    "      f\"Total Coils (Nt) = {spring.total_coils:.2f}\")"
   ]
  },
  {
   "cell_type": "markdown",
   "metadata": {},
   "source": [
    "### Calculated material properties"
   ]
  },
  {
   "cell_type": "code",
   "execution_count": 9,
   "metadata": {},
   "outputs": [
    {
     "name": "stdout",
     "output_type": "stream",
     "text": [
      "Shear yield strength (Ssy) = 767.31\n",
      "Shear ultimate strength (Ssu) = 1142.44\n",
      "\n"
     ]
    }
   ],
   "source": [
    "print(f\"Shear yield strength (Ssy) = {spring.shear_yield_strength:.2f}\\n\"\n",
    "      f\"Shear ultimate strength (Ssu) = {spring.shear_ultimate_strength:.2f}\\n\")"
   ]
  },
  {
   "cell_type": "markdown",
   "metadata": {},
   "source": [
    "## Static analysis"
   ]
  },
  {
   "cell_type": "code",
   "execution_count": 10,
   "metadata": {},
   "outputs": [
    {
     "name": "stdout",
     "output_type": "stream",
     "text": [
      "static safety factor = 2.21\n",
      "solid safety factor = 1.77\n"
     ]
    }
   ],
   "source": [
    "print(f\"static safety factor = {spring.static_safety_factor():.2f}\")\n",
    "print(f\"solid safety factor = {spring.static_safety_factor(solid=True):.2f}\")"
   ]
  },
  {
   "cell_type": "markdown",
   "metadata": {},
   "source": [
    "## Fatigue analysis"
   ]
  },
  {
   "cell_type": "code",
   "execution_count": 11,
   "metadata": {},
   "outputs": [
    {
     "name": "stdout",
     "output_type": "stream",
     "text": [
      "Alternating force = 200.00, Mean force = 300.00\n",
      "Alternating shear stress = 138.65, Mean shear stress = 207.98\n",
      "Sse = 335.61\n",
      "Fatigue safety factor (nf) = 1.68\n",
      "Static safety factor (ns) = 2.21\n"
     ]
    }
   ],
   "source": [
    "nf, ns = spring.fatigue_analysis(max_force=Fmax, min_force=Fmin, reliability=99.999, verbose=True)\n",
    "print(f\"Fatigue safety factor (nf) = {nf:.2f}\\n\"\n",
    "      f\"Static safety factor (ns) = {ns:.2f}\")"
   ]
  },
  {
   "cell_type": "markdown",
   "metadata": {},
   "source": [
    "## Buckling analysis"
   ]
  },
  {
   "cell_type": "markdown",
   "metadata": {},
   "source": [
    "Buckling test, Table 10-2 from Shigley:\n",
    "<table><tr>\n",
    "<td> <img src=\"./img/Helical_Compression_Spring/Buckling_modes.png\" width=400\"/> </td>\n",
    "<td> <img src=\"./img/Helical_Compression_Spring/Buckling_modes_table.png\" width=500\"/> </td>\n",
    "</tr></table>\n"
   ]
  },
  {
   "cell_type": "code",
   "execution_count": 12,
   "metadata": {},
   "outputs": [
    {
     "name": "stdout",
     "output_type": "stream",
     "text": [
      "Buckling is accruing, the max safe length = 190.14,  but the free_length = 213.37\n"
     ]
    }
   ],
   "source": [
    "spring.buckling('fixed-hinged', verbose=True);"
   ]
  },
  {
   "cell_type": "markdown",
   "metadata": {},
   "source": [
    "## Frequency analysis"
   ]
  },
  {
   "cell_type": "markdown",
   "metadata": {},
   "source": [
    "density - Spring's material density in $\\frac{kg}{m^3}$<br>\n",
    "working_frequency - The expacted frequency in wich the spring expexcted to operate in $Hz$"
   ]
  },
  {
   "cell_type": "code",
   "execution_count": 13,
   "metadata": {},
   "outputs": [],
   "source": [
    "density = rho  # [kg/m^3]\n",
    "working_frequency = 0.0005  # [Hz]"
   ]
  },
  {
   "cell_type": "markdown",
   "metadata": {},
   "source": [
    "The natural frequency must be greater than 20 times the working frequency<br>\n",
    "$(f_{natural} > 20 \\cdot f_{working})$"
   ]
  },
  {
   "cell_type": "code",
   "execution_count": 14,
   "metadata": {},
   "outputs": [
    {
     "name": "stdout",
     "output_type": "stream",
     "text": [
      "The spring's natural frequency for fixed ends is much grater than the working frequency \n",
      "which is good\n",
      "\n",
      "The spring's natural frequency for one fixed and one free ends is muchgrater than the working frequency \n",
      "which is good\n",
      "\n"
     ]
    },
    {
     "data": {
      "text/plain": [
       "{'fixed-fixed': 0.0516993033892965, 'fixed-free': 0.0258496516946483}"
      ]
     },
     "execution_count": 14,
     "metadata": {},
     "output_type": "execute_result"
    }
   ],
   "source": [
    "spring.natural_frequency(density, working_frequency, verbose=True)"
   ]
  }
 ],
 "metadata": {
  "kernelspec": {
   "display_name": "Python 3",
   "language": "python",
   "name": "python3"
  },
  "language_info": {
   "codemirror_mode": {
    "name": "ipython",
    "version": 3
   },
   "file_extension": ".py",
   "mimetype": "text/x-python",
   "name": "python",
   "nbconvert_exporter": "python",
   "pygments_lexer": "ipython3",
   "version": "3.9.1"
  }
 },
 "nbformat": 4,
 "nbformat_minor": 5
}
