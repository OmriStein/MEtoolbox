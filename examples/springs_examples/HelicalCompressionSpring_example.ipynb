{
 "cells": [
  {
   "cell_type": "markdown",
   "id": "12612646",
   "metadata": {},
   "source": [
    "# Helical Compression Spring\n",
    "\n",
    "<table><tr>\n",
    "<td>\n",
    "<img src=\"./img/Helical_Compression_Spring/Helical_Compression_Spring.png\" width=300\"/> </td>\n",
    "<td>\n",
    "<img src=\"./img/Helical_Compression_Spring/Helical_Compression_Spring_end_type.png\" width=400\"/> </td>\n",
    "</tr></table>"
   ]
  },
  {
   "cell_type": "markdown",
   "id": "7994e030",
   "metadata": {},
   "source": [
    "Importing the relevant Classes"
   ]
  },
  {
   "cell_type": "code",
   "execution_count": 1,
   "id": "fa1c29a3",
   "metadata": {},
   "outputs": [],
   "source": [
    "from me_toolbox.springs import HelicalCompressionSpring, Spring"
   ]
  },
  {
   "cell_type": "markdown",
   "id": "3c0e2fda",
   "metadata": {},
   "source": [
    "## Geometric properties\n",
    "\n",
    "d - Wire diamter<br>\n",
    "D - Spring mean diameter<br>\n",
    "ends - How the spring's ends look"
   ]
  },
  {
   "cell_type": "code",
   "execution_count": 2,
   "id": "eb5c7b3d",
   "metadata": {},
   "outputs": [],
   "source": [
    "d = 6   # [mm]\n",
    "D = 50  # [mm]\n",
    "ends = 'squared and ground'"
   ]
  },
  {
   "cell_type": "markdown",
   "id": "2b4c6783",
   "metadata": {},
   "source": [
    "## Material properties"
   ]
  },
  {
   "cell_type": "markdown",
   "id": "05708fc9",
   "metadata": {},
   "source": [
    "Table 10-4 from Shigley:\n",
    "<table><tr>\n",
    "<td>\n",
    "<img src=\"./img/Helical_Compression_Spring/Tensile_strength_estimation.png\" width=360\"/> </td>\n",
    "<td>\n",
    "<img src=\"./img/Helical_Extension_Spring/Mechanical_properties_of_some_spring_wires_-_table_10-5.png\" width=300\"/> </td>\n",
    "</tr></table>\n",
    "\n",
    "Material options for use in Spring.material_prop method are:<br>\n",
    "  * music wire<br>\n",
    "  * oq&t wire<br>\n",
    "  * hard-drawn wire<br>\n",
    "  * chrome-vanadium wire<br>\n",
    "  * chrome-silicon wire<br>\n",
    "  * 302 stainless wire<br>\n",
    "  * phosphore-bronze wire<br>"
   ]
  },
  {
   "cell_type": "markdown",
   "id": "2714f9bd",
   "metadata": {},
   "source": [
    "G - Shear modulus<br>\n",
    "E - Elastic modulus<br>\n",
    "Sut - Ultimate tensile strength<br>"
   ]
  },
  {
   "cell_type": "code",
   "execution_count": 3,
   "id": "c9272ee5",
   "metadata": {},
   "outputs": [
    {
     "name": "stdout",
     "output_type": "stream",
     "text": [
      "Sut = 1705.13\n"
     ]
    }
   ],
   "source": [
    "# music wire\n",
    "G = 75e3  # [MPa]\n",
    "E = 205e3  # [MPa]\n",
    "Sut = Spring.material_prop('music wire', d, metric=True, verbose=False)\n",
    "print(f\"Sut = {Sut:.2f}\")"
   ]
  },
  {
   "cell_type": "markdown",
   "id": "d5c0c018",
   "metadata": {},
   "source": [
    "Table 10-6 from Shigley:\n",
    "<table><tr>\n",
    "<td> <img src=\"./img/Helical_Compression_Spring/present_of_tensile_strength.png\" width=600\"/> </td>\n",
    "</tr></table>\n"
   ]
  },
  {
   "cell_type": "code",
   "execution_count": 4,
   "id": "b7135a64",
   "metadata": {},
   "outputs": [],
   "source": [
    "yield_percent = 0.45"
   ]
  },
  {
   "cell_type": "markdown",
   "id": "562ba80b",
   "metadata": {},
   "source": [
    "## Forces and spring rate"
   ]
  },
  {
   "cell_type": "markdown",
   "id": "9c164568",
   "metadata": {},
   "source": [
    "k - Spring rate<br>\n",
    "Famx - Maximum Force<br>\n",
    "Fmin - Minimum Force<br>"
   ]
  },
  {
   "cell_type": "code",
   "execution_count": 5,
   "id": "4df19964",
   "metadata": {},
   "outputs": [],
   "source": [
    "k = 6  # [N/mm]\n",
    "Fmax = 500  # [N]\n",
    "Fmin = 100  # [N]"
   ]
  },
  {
   "cell_type": "markdown",
   "id": "8c96dac9",
   "metadata": {},
   "source": [
    "## Optional parameters\n",
    "\n",
    "Set removal - a process where the spring is pressed to its solid length - **not used when dynamic loading occurs**<br>\n",
    "Shot peening - a cold working process in which the surface of the spring is impacted with a small spherical media called shot in order to increase the fatigue resistance.<br>\n",
    "rho - Material density<br>\n",
    "zeta - overrun safety factor\n"
   ]
  },
  {
   "cell_type": "code",
   "execution_count": 6,
   "id": "c8c9cddf",
   "metadata": {},
   "outputs": [],
   "source": [
    "removed_set=False\n",
    "peened=True\n",
    "rho = 7800  # [kg/m^3]\n",
    "omega=None\n",
    "anchors='fixed-hinged'\n",
    "z=0.25"
   ]
  },
  {
   "cell_type": "markdown",
   "id": "9c72ee40",
   "metadata": {},
   "source": [
    "## Defining the spring\n",
    "\n",
    "Required parameters:\n",
    "  * max_force - The maximum force in $[N]$\n",
    "  * wire_diameter - The wire diameter in $[mm]$\n",
    "  * spring_diameter - The spring diameter in $[mm]$\n",
    "  * ultimate_tensile_strength - The ultimate tensile strength in $[MPa]$\n",
    "  * shear_yield_precent - the precentage of the shear yield strength(Ssy) from the ultimate tensile strength (Sut)\n",
    "  * shear_modulus - The material shear modulus in $[MPa]$\n",
    "  * elastic_modulus - The material elastic modulus in $[MPa]$\n",
    "  * end_type - The shape of the ends of the spring (used to calculate number of coils)\n",
    "  * spring_rate - The spring rate in $[N/mm]$\n",
    "\n",
    "Optional parameters: <br>\n",
    "(the bold parameters are the defaults)\n",
    "\n",
    "  * set_removed=**False** - If the spring's set has been removed (brought to solid state)\n",
    "  * shot_peened=**False** - If the spring underwent shot peening\n",
    "  * density=**None** - The Material density in $[kg/mm^3]$\n",
    "  * zeta=**0.15** - The overrun safety factor $(F_{solid}=(1+\\zeta) \\cdot F_{max})$\n"
   ]
  },
  {
   "cell_type": "code",
   "execution_count": 7,
   "id": "bfbeb1f6",
   "metadata": {},
   "outputs": [],
   "source": [
    "spring = HelicalCompressionSpring(max_force=Fmax,\n",
    "                                  wire_diameter=d,\n",
    "                                  spring_diameter=D,\n",
    "                                  ultimate_tensile_strength=Sut,\n",
    "                                  shear_yield_percent=yield_percent,\n",
    "                                  shear_modulus=G,\n",
    "                                  elastic_modulus=E,\n",
    "                                  end_type=ends,\n",
    "                                  spring_rate=k,\n",
    "                                  set_removed=removed_set,\n",
    "                                  shot_peened=peened,\n",
    "                                  density=rho,\n",
    "                                  zeta=z)"
   ]
  },
  {
   "cell_type": "code",
   "execution_count": 8,
   "id": "2795fb2a-f650-4fc0-9a26-b2cbac33d4bc",
   "metadata": {},
   "outputs": [
    {
     "name": "stdout",
     "output_type": "stream",
     "text": [
      "Note: active_coils=16.08 is not in range [3,15],this can cause non linear behavior\n"
     ]
    }
   ],
   "source": [
    "spring.check_design();"
   ]
  },
  {
   "cell_type": "markdown",
   "id": "2627308b",
   "metadata": {},
   "source": [
    "### Calculated geometric properties"
   ]
  },
  {
   "cell_type": "code",
   "execution_count": 9,
   "id": "7d1121fc",
   "metadata": {},
   "outputs": [
    {
     "name": "stdout",
     "output_type": "stream",
     "text": [
      "Free Length (L0) = 212.67\n",
      "Solid Length (Ls) = 108.51\n",
      "Active Coils (Na) = 16.08\n",
      "Total Coils (Nt) = 18.08\n",
      "End Coils (Ne) = 2.00\n",
      "Pitch (p) = 12.48\n",
      "Max Diflaction = 83.33\n"
     ]
    }
   ],
   "source": [
    "print(f\"Free Length (L0) = {spring.free_length:.2f}\\n\"\n",
    "      f\"Solid Length (Ls) = {spring.solid_length:.2f}\\n\"\n",
    "      f\"Active Coils (Na) = {spring.active_coils:.2f}\\n\"\n",
    "      f\"Total Coils (Nt) = {spring.total_coils:.2f}\\n\"\n",
    "      f\"End Coils (Ne) = {spring.end_coils:.2f}\\n\"\n",
    "      f\"Pitch (p) = {spring.pitch:.2f}\\n\"\n",
    "      f\"Max Diflaction = {spring.max_deflection:.2f}\")"
   ]
  },
  {
   "cell_type": "code",
   "execution_count": 10,
   "id": "8ec7f010-6c2a-49ea-b723-66471224aa88",
   "metadata": {},
   "outputs": [
    {
     "name": "stdout",
     "output_type": "stream",
     "text": [
      "Force at solid length (Fsolid) = 625.00\n",
      "Max Shear Stress = 346.63\n"
     ]
    }
   ],
   "source": [
    "print(f\"Force at solid length (Fsolid) = {spring.Fsolid:.2f}\\n\"\n",
    "      f\"Max Shear Stress = {spring.max_shear_stress:.2f}\")"
   ]
  },
  {
   "cell_type": "markdown",
   "id": "8eb57e86",
   "metadata": {},
   "source": [
    "### Calculated material properties"
   ]
  },
  {
   "cell_type": "code",
   "execution_count": 11,
   "id": "7ba3cded",
   "metadata": {},
   "outputs": [
    {
     "name": "stdout",
     "output_type": "stream",
     "text": [
      "Shear yield strength (Ssy) = 767.31\n",
      "Shear ultimate strength (Ssu) = 1142.44\n",
      "\n"
     ]
    }
   ],
   "source": [
    "print(f\"Shear yield strength (Ssy) = {spring.shear_yield_strength:.2f}\\n\"\n",
    "      f\"Shear ultimate strength (Ssu) = {spring.shear_ultimate_strength:.2f}\\n\")"
   ]
  },
  {
   "cell_type": "markdown",
   "id": "66df21e4",
   "metadata": {},
   "source": [
    "## Static analysis"
   ]
  },
  {
   "cell_type": "code",
   "execution_count": 12,
   "id": "294bc33b",
   "metadata": {},
   "outputs": [
    {
     "name": "stdout",
     "output_type": "stream",
     "text": [
      "static safety factor = 2.21\n",
      "solid safety factor = 1.77\n"
     ]
    }
   ],
   "source": [
    "print(f\"static safety factor = {spring.static_safety_factor():.2f}\")\n",
    "print(f\"solid safety factor = {spring.static_safety_factor(solid=True):.2f}\")"
   ]
  },
  {
   "cell_type": "markdown",
   "id": "7e04ed16",
   "metadata": {},
   "source": [
    "## Fatigue analysis\n",
    "\n",
    "> Note: The verbose option can be used to print more information"
   ]
  },
  {
   "cell_type": "code",
   "execution_count": 13,
   "id": "c73f1be4",
   "metadata": {},
   "outputs": [
    {
     "name": "stdout",
     "output_type": "stream",
     "text": [
      "Fatigue safety factor (nf) = 1.6801675569311425\n",
      "Static safety factor (ns) = 2.2136490752395956\n",
      "Number of cycles untill failure (N) = inf\n",
      "Stress at failure (Sf) = None\n"
     ]
    }
   ],
   "source": [
    "nf, ns, N, Sf= spring.fatigue_analysis(max_force=Fmax, min_force=Fmin, reliability=99.999, verbose=False)\n",
    "print(f\"Fatigue safety factor (nf) = {nf:}\\n\"\n",
    "      f\"Static safety factor (ns) = {ns:}\\n\"\n",
    "      f\"Number of cycles untill failure (N) = {N:.2f}\\n\"\n",
    "      f\"Stress at failure (Sf) = {Sf}\")"
   ]
  },
  {
   "cell_type": "markdown",
   "id": "1f7a8fb8-75ae-4f4b-8eeb-cd425182576a",
   "metadata": {},
   "source": [
    "#### Increasing the maximum force\n",
    "After increasing the max force the fatigue safety factor is below 1 so the number of <br>\n",
    "cycles is not infinite any more and can be calculated as well as the stress at failure<br>\n",
    "\n",
    "**As shown:**"
   ]
  },
  {
   "cell_type": "code",
   "execution_count": 14,
   "id": "d63d958d-3abf-4701-9571-2046dd330326",
   "metadata": {},
   "outputs": [
    {
     "name": "stdout",
     "output_type": "stream",
     "text": [
      "Fatigue safety factor (nf) = 0.7915777277160205\n",
      "Static safety factor (ns) = 1.1068245376197978\n",
      "Number of cycles untill failure (N) = 97221.28061023176\n",
      "Stress at failure (Sf) = 468.23730587509914\n"
     ]
    }
   ],
   "source": [
    "Fmax = 1000\n",
    "nf, ns, N, Sf= spring.fatigue_analysis(max_force=Fmax, min_force=Fmin, reliability=99.999, verbose=False)\n",
    "print(f\"Fatigue safety factor (nf) = {nf}\\n\"\n",
    "      f\"Static safety factor (ns) = {ns}\\n\"\n",
    "      f\"Number of cycles untill failure (N) = {N}\\n\"\n",
    "      f\"Stress at failure (Sf) = {Sf}\")"
   ]
  },
  {
   "cell_type": "markdown",
   "id": "2daf04bd",
   "metadata": {},
   "source": [
    "## Buckling analysis"
   ]
  },
  {
   "cell_type": "markdown",
   "id": "2e66031c",
   "metadata": {},
   "source": [
    "Buckling test, Table 10-2 from Shigley:\n",
    "<table><tr>\n",
    "<td> <img src=\"./img/Helical_Compression_Spring/Buckling_modes.png\" width=400\"/> </td>\n",
    "<td> <img src=\"./img/Helical_Compression_Spring/Buckling_modes_table.png\" width=500\"/> </td>\n",
    "</tr></table>\n"
   ]
  },
  {
   "cell_type": "markdown",
   "id": "1dbb25ac",
   "metadata": {},
   "source": [
    "> Note: The verbose option can be used to print more information"
   ]
  },
  {
   "cell_type": "code",
   "execution_count": 15,
   "id": "ec07c05d",
   "metadata": {},
   "outputs": [
    {
     "name": "stdout",
     "output_type": "stream",
     "text": [
      "Buckling is accruing, the max safe length = 190.14,  but the free_length = 212.67\n"
     ]
    }
   ],
   "source": [
    "spring.buckling('fixed-hinged', verbose=True);"
   ]
  },
  {
   "cell_type": "markdown",
   "id": "7e68a3a1",
   "metadata": {},
   "source": [
    "## Frequency analysis"
   ]
  },
  {
   "cell_type": "markdown",
   "id": "ddfe696b",
   "metadata": {},
   "source": [
    "density - Spring's material density in $\\frac{kg}{m^3}$<br>\n",
    "working_frequency - The expacted frequency in wich the spring expexcted to operate in $Hz$"
   ]
  },
  {
   "cell_type": "code",
   "execution_count": 16,
   "id": "d8e56377",
   "metadata": {},
   "outputs": [],
   "source": [
    "density = rho  # [kg/m^3]\n",
    "working_frequency = 0.0005  # [Hz]"
   ]
  },
  {
   "cell_type": "markdown",
   "id": "9f825ef8",
   "metadata": {},
   "source": [
    "The natural frequency must be greater than 20 times the working frequency<br>\n",
    "$(f_{natural} > 20 \\cdot f_{working})$\n",
    "> Note: The verbose option can be used to print more information"
   ]
  },
  {
   "cell_type": "code",
   "execution_count": 17,
   "id": "9ee703b4",
   "metadata": {},
   "outputs": [
    {
     "name": "stdout",
     "output_type": "stream",
     "text": [
      "The spring's natural frequency for fixed ends is much grater than the working frequency \n",
      "which is good\n",
      "\n",
      "The spring's natural frequency for one fixed and one free ends is muchgrater than the working frequency \n",
      "which is good\n",
      "\n"
     ]
    },
    {
     "data": {
      "text/plain": [
       "{'fixed-fixed': 0.0520715383736995, 'fixed-free': 0.0260357691868497}"
      ]
     },
     "execution_count": 17,
     "metadata": {},
     "output_type": "execute_result"
    }
   ],
   "source": [
    "spring.natural_frequency(density, working_frequency, verbose=True)"
   ]
  },
  {
   "cell_type": "markdown",
   "id": "57000d84-7557-4074-a670-bf4a64e722c4",
   "metadata": {},
   "source": [
    "## Spring Rate From Geometry"
   ]
  },
  {
   "cell_type": "code",
   "execution_count": 18,
   "id": "84fc87d1-3408-41ce-8ce3-dd005a00b9b3",
   "metadata": {},
   "outputs": [
    {
     "name": "stdout",
     "output_type": "stream",
     "text": [
      "Spring Rate = 6.03\n"
     ]
    }
   ],
   "source": [
    "k = spring.calc_spring_rate(wire_diameter = 6 , \n",
    "                            spring_diameter = 50, \n",
    "                            total_coils = 18, \n",
    "                            end_type = 'squared and ground', \n",
    "                            shear_modulus = 75e3)\n",
    "print(f\"Spring Rate = {k:.2f}\")"
   ]
  }
 ],
 "metadata": {
  "kernelspec": {
   "display_name": "Python 3 (ipykernel)",
   "language": "python",
   "name": "python3"
  },
  "language_info": {
   "codemirror_mode": {
    "name": "ipython",
    "version": 3
   },
   "file_extension": ".py",
   "mimetype": "text/x-python",
   "name": "python",
   "nbconvert_exporter": "python",
   "pygments_lexer": "ipython3",
   "version": "3.9.1"
  }
 },
 "nbformat": 4,
 "nbformat_minor": 5
}
