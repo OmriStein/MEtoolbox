{
 "cells": [
  {
   "cell_type": "code",
   "execution_count": 1,
   "id": "4204082f-f220-4c45-8541-77cc67a34c17",
   "metadata": {},
   "outputs": [
    {
     "data": {
      "text/plain": [
       "'C:\\\\Users\\\\omris\\\\OneDrive\\\\python\\\\me_toolbox'"
      ]
     },
     "execution_count": 1,
     "metadata": {},
     "output_type": "execute_result"
    }
   ],
   "source": [
    "import os\n",
    "os.getcwd()\n",
    "os.chdir(\"../..\")\n",
    "os.getcwd()"
   ]
  },
  {
   "attachments": {},
   "cell_type": "markdown",
   "id": "c182eadb-c5c2-4bda-bc30-d652b9b2070a",
   "metadata": {},
   "source": [
    "# Helical Compression \n",
    "\n",
    "<table><tr>\n",
    "<td>\n",
    "<img src=\"./img/Helical_Compression_Spring/Helical_Compression_Spring.png\" width=300\"/> </td>\n",
    "<td>\n",
    "<img src=\"./img/Helical_Compression_Spring/Helical_Compression_Spring_end_type.png\" width=400\"/> </td>\n",
    "</tr></table>"
   ]
  },
  {
   "cell_type": "markdown",
   "id": "42addf76-4934-4b5f-837f-2b3fb78d09c6",
   "metadata": {},
   "source": [
    "Importing the relevant Classes"
   ]
  },
  {
   "cell_type": "code",
   "execution_count": 2,
   "id": "ef78ccb0-cdb7-456e-a758-7b44290f899e",
   "metadata": {},
   "outputs": [],
   "source": [
    "from me_toolbox.springs import HelicalCompressionSpring, Spring"
   ]
  },
  {
   "cell_type": "markdown",
   "id": "8e43c485-d307-4ac6-9ac1-8501fce7ce8f",
   "metadata": {},
   "source": [
    "## Geometric properties"
   ]
  },
  {
   "cell_type": "code",
   "execution_count": 3,
   "id": "7324d472-ff37-4588-94db-dfdf56a01c79",
   "metadata": {},
   "outputs": [],
   "source": [
    "d = 6\n",
    "D = 50"
   ]
  },
  {
   "cell_type": "markdown",
   "id": "2201dd74-14ea-4615-9f3a-b0bcec6c22fb",
   "metadata": {},
   "source": [
    "## Material properties"
   ]
  },
  {
   "attachments": {},
   "cell_type": "markdown",
   "id": "298cd42d-644a-40bb-bd9b-490c5f65ab74",
   "metadata": {},
   "source": [
    "Table 10-4 from Shigley:\n",
    "<table><tr>\n",
    "<td>\n",
    "<img src=\"./img/Helical_Compression_Spring/Tensile_strength_estimation.png\" width=600\"/> </td>\n",
    "</tr></table>\n",
    "\n",
    "Material options for use in Spring.material_prop method are:<br>\n",
    "  * music wire<br>\n",
    "  * oq&t wire<br>\n",
    "  * hard-drawn wire<br>\n",
    "  * chrome-vanadium wire<br>\n",
    "  * chrome-silicon wire<br>\n",
    "  * 302 stainless wire<br>\n",
    "  * phosphore-bronze wire<br>"
   ]
  },
  {
   "cell_type": "code",
   "execution_count": 4,
   "id": "033d41b2-9fca-4aae-b6a4-065002fbd56f",
   "metadata": {},
   "outputs": [
    {
     "name": "stdout",
     "output_type": "stream",
     "text": [
      "Sut = 1705.13\n"
     ]
    }
   ],
   "source": [
    "# music wire\n",
    "G = 75e3  # [MPa]\n",
    "E = 205e3  # [MPa]\n",
    "Sut = Spring.material_prop('music wire', d, metric=True, verbose=False)\n",
    "print(f\"Sut = {Sut:.2f}\")"
   ]
  },
  {
   "attachments": {},
   "cell_type": "markdown",
   "id": "392b47f5-b583-498b-bca1-61e4cfe0786f",
   "metadata": {},
   "source": [
    "Table 10-6 from Shigley:\n",
    "<table><tr>\n",
    "<td> <img src=\"./img/Helical_Compression_Spring/present_of_tensile_strength.png\" width=600\"/> </td>\n",
    "</tr></table>\n"
   ]
  },
  {
   "cell_type": "code",
   "execution_count": 5,
   "id": "b7c35b8e-6812-41f4-8dc9-d0b1ba49556a",
   "metadata": {},
   "outputs": [],
   "source": [
    "yield_percent = 0.45"
   ]
  },
  {
   "cell_type": "markdown",
   "id": "3147a12a-145c-471f-a1fd-dd9e243d3f51",
   "metadata": {},
   "source": [
    "## Forces and spring rate"
   ]
  },
  {
   "cell_type": "code",
   "execution_count": 6,
   "id": "c70b5dbd-4403-43dd-9cc3-e42f66d25953",
   "metadata": {},
   "outputs": [],
   "source": [
    "k = 6  # [N/mm]\n",
    "Fmax = 500  # [N]\n",
    "Fmin = 100  # [N]"
   ]
  },
  {
   "cell_type": "markdown",
   "id": "d200d8ca-3d7e-469f-8237-dceb6578e64f",
   "metadata": {},
   "source": [
    "## Defining the spring\n",
    "\n",
    "Required parameters:\n",
    "  * max_force - The maximum force in $[N]$\n",
    "  * wire_diameter - The wire diameter in $[mm]$\n",
    "  * spring_diameter - The spring diameter in $[mm]$\n",
    "  * ultimate_tensile_strength - The ultimate tensile strength in $[MPa]$\n",
    "  * shear_yield_precent - the precentage of the shear yield strength(Ssy) from the ultimate tensile strength (Sut)\n",
    "  * shear_modulus - The material shear modulus in $[MPa]$\n",
    "  * elastic_modulus - The material elastic modulus in $[MPa]$\n",
    "  * end_type - The shape of the ends of the spring (used to calculate number of coils)\n",
    "  * spring_rate - The spring rate in $[N/mm]$\n",
    "\n",
    "Optional parameters: <br>\n",
    "(the bold parameters are the defaults)\n",
    "\n",
    "  * set_removed=**False** - If the spring's set has been removed (brought to solid state)\n",
    "  * shot_peened=**False** - If the spring underwent shot peening\n",
    "  * density=**None** - The Material density in $[kg/mm^3]$\n",
    "  * working_frequency=**None** - The working frequency of the spring in $[Hz]$\n",
    "  * anchors=**None** - The way the spring is held in both ends (used to check for buckling)\n",
    "  * zeta=**0.15** - The overrun safety factor $(F_{solid}=(1+\\zeta) \\cdot F_{max})$\n"
   ]
  },
  {
   "cell_type": "code",
   "execution_count": 7,
   "id": "4ac31588-ac17-4cd7-990e-9b2c57d94bd5",
   "metadata": {},
   "outputs": [
    {
     "name": "stdout",
     "output_type": "stream",
     "text": [
      "Note: active_coils=16.08 is not in range [3,15],this can cause non linear behavior\n",
      "Note: buckling is accruing, max free length(free_length)= 190.14, free_length= 212.67\n"
     ]
    }
   ],
   "source": [
    "spring = HelicalCompressionSpring(max_force=Fmax,\n",
    "                                  wire_diameter=d,\n",
    "                                  spring_diameter=D,\n",
    "                                  ultimate_tensile_strength=Sut,\n",
    "                                  shear_yield_percent=yield_percent,\n",
    "                                  shear_modulus=G,\n",
    "                                  elastic_modulus=E,\n",
    "                                  end_type='squared and ground',\n",
    "                                  spring_rate=k,\n",
    "                                  set_removed=False,\n",
    "                                  shot_peened=True,\n",
    "                                  density=None,\n",
    "                                  working_frequency=None,\n",
    "                                  anchors='fixed-hinged',\n",
    "                                  zeta=0.25)"
   ]
  },
  {
   "cell_type": "code",
   "execution_count": 8,
   "id": "ad0d5872-05d3-464d-b593-77c521d710da",
   "metadata": {},
   "outputs": [
    {
     "data": {
      "text/plain": [
       "108.50516282764099"
      ]
     },
     "execution_count": 8,
     "metadata": {},
     "output_type": "execute_result"
    }
   ],
   "source": [
    "spring.solid_length"
   ]
  },
  {
   "cell_type": "markdown",
   "id": "3060eaaa-cfbe-4665-86b3-7f79429b0108",
   "metadata": {
    "jp-MarkdownHeadingCollapsed": true
   },
   "source": [
    "### Calculated geometric properties"
   ]
  },
  {
   "cell_type": "code",
   "execution_count": 9,
   "id": "f1991e49-1e67-47ad-9514-941925bf3e19",
   "metadata": {},
   "outputs": [
    {
     "name": "stdout",
     "output_type": "stream",
     "text": [
      "Free Length (L0) = 212.67\n",
      "Active Coils (Na) = 16.08\n",
      "Total Coils (Nt) = 18.08\n"
     ]
    }
   ],
   "source": [
    "print(f\"Free Length (L0) = {spring.free_length:.2f}\\n\"\n",
    "      f\"Active Coils (Na) = {spring.active_coils:.2f}\\n\"\n",
    "      f\"Total Coils (Nt) = {spring.total_coils:.2f}\")"
   ]
  },
  {
   "cell_type": "markdown",
   "id": "1153481f-509f-40a8-8a0b-6c6466361e6f",
   "metadata": {},
   "source": [
    "### Calculated material properties"
   ]
  },
  {
   "cell_type": "code",
   "execution_count": 10,
   "id": "c73bc067-5f87-4944-aa46-ff995d20c14e",
   "metadata": {},
   "outputs": [
    {
     "name": "stdout",
     "output_type": "stream",
     "text": [
      "Shear yield strength (Ssy) = 767.31\n",
      "Shear ultimate strength (Ssu) = 1142.44\n",
      "\n"
     ]
    }
   ],
   "source": [
    "print(f\"Shear yield strength (Ssy) = {spring.shear_yield_strength:.2f}\\n\"\n",
    "      f\"Shear ultimate strength (Ssu) = {spring.shear_ultimate_strength:.2f}\\n\")"
   ]
  },
  {
   "cell_type": "markdown",
   "id": "228a1b7e-21e8-4759-9576-3cfff33106e5",
   "metadata": {},
   "source": [
    "## Static analysis"
   ]
  },
  {
   "cell_type": "code",
   "execution_count": 11,
   "id": "adfe74dd-42d5-455b-b0f7-d2712f6ee281",
   "metadata": {},
   "outputs": [
    {
     "name": "stdout",
     "output_type": "stream",
     "text": [
      "static safety factor = 2.21\n",
      "solid safety factor = 1.77\n"
     ]
    }
   ],
   "source": [
    "print(f\"static safety factor = {spring.static_safety_factor():.2f}\")\n",
    "print(f\"solid safety factor = {spring.static_safety_factor(solid=True):.2f}\")"
   ]
  },
  {
   "cell_type": "markdown",
   "id": "d2f3480f-1c8f-4033-986b-9daec33164c9",
   "metadata": {},
   "source": [
    "## Fatigue analysis"
   ]
  },
  {
   "cell_type": "code",
   "execution_count": 12,
   "id": "a4eb431e-e2ce-4ff0-a890-e789a5db9302",
   "metadata": {},
   "outputs": [
    {
     "name": "stdout",
     "output_type": "stream",
     "text": [
      "Alternating force = 200.00, Mean force = 300.00\n",
      "Alternating shear stress = 138.65, Mean shear stress = 207.98\n",
      "Sse = 335.61\n",
      "Fatigue safety factor (nf) = 1.68\n",
      "Static safety factor (ns) = 2.21\n"
     ]
    }
   ],
   "source": [
    "nf, ns = spring.fatigue_analysis(Fmax, Fmin, 99.999, verbose=True)\n",
    "print(f\"Fatigue safety factor (nf) = {nf:.2f}\\n\"\n",
    "      f\"Static safety factor (ns) = {ns:.2f}\")\n"
   ]
  },
  {
   "cell_type": "markdown",
   "id": "113ed5df-dc68-456f-8c0c-a07631615855",
   "metadata": {},
   "source": [
    "## Buckling analysis"
   ]
  },
  {
   "attachments": {},
   "cell_type": "markdown",
   "id": "9eb4dd05-03f2-4aa1-bcbd-3861db774c01",
   "metadata": {},
   "source": [
    "Buckling test, Table 10-2 from Shigley:\n",
    "<table><tr>\n",
    "<td> <img src=\"./img/Helical_Compression_Spring/Buckling_modes.png\" width=400\"/> </td>\n",
    "<td> <img src=\"./img/Helical_Compression_Spring/Buckling_modes_table.png\" width=500\"/> </td>\n",
    "</tr></table>\n"
   ]
  },
  {
   "cell_type": "code",
   "execution_count": 13,
   "id": "7cdd34d0-1e0e-4c40-a4cd-4ed27f7d7364",
   "metadata": {},
   "outputs": [
    {
     "name": "stdout",
     "output_type": "stream",
     "text": [
      "Buckling is accruing, the max safe length = 190.14,  but the free_length = 212.67\n"
     ]
    }
   ],
   "source": [
    "spring.buckling('fixed-hinged', verbose=True);"
   ]
  },
  {
   "cell_type": "markdown",
   "id": "e695a753-e37c-4280-9337-d62e5eb16c1d",
   "metadata": {},
   "source": [
    "## Frequency analysis"
   ]
  },
  {
   "cell_type": "code",
   "execution_count": 14,
   "id": "14e21fa6-dd20-49eb-822f-66e867fdb5d8",
   "metadata": {},
   "outputs": [],
   "source": [
    "spring.density = 7850  # [kg/m^3]\n",
    "spring.working_frequency = 0.5  # [Hz]"
   ]
  },
  {
   "cell_type": "markdown",
   "id": "a620d386-a4a4-4f5b-849f-bade4bfafe41",
   "metadata": {},
   "source": [
    "The natural frequency must be greater than 20 times the working frequency<br>\n",
    "$(f_{natural} = 20 \\cdot f_{working})$"
   ]
  },
  {
   "cell_type": "code",
   "execution_count": 15,
   "id": "c4e0859f-aa23-4c79-a569-d4d6113225b0",
   "metadata": {},
   "outputs": [
    {
     "name": "stdout",
     "output_type": "stream",
     "text": [
      "Natural frequency = 2.60\n",
      "20*Working frequency = 10.00\n"
     ]
    }
   ],
   "source": [
    "print(f\"Natural frequency = {spring.natural_frequency:.2f}\\n\"\n",
    "      f\"20*Working frequency = {20*spring.working_frequency:.2f}\")\n"
   ]
  }
 ],
 "metadata": {
  "kernelspec": {
   "display_name": "Python 3 (ipykernel)",
   "language": "python",
   "name": "python3"
  },
  "language_info": {
   "codemirror_mode": {
    "name": "ipython",
    "version": 3
   },
   "file_extension": ".py",
   "mimetype": "text/x-python",
   "name": "python",
   "nbconvert_exporter": "python",
   "pygments_lexer": "ipython3",
   "version": "3.12.2"
  }
 },
 "nbformat": 4,
 "nbformat_minor": 5
}
