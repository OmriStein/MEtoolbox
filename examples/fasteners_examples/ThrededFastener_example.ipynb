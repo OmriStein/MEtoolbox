{
 "cells": [
  {
   "cell_type": "markdown",
   "metadata": {},
   "source": [
    "# Single threaded fastner strength calculations\n",
    "\n",
    "<table><tr>\n",
    "<td> <img src=\"./img/one_threaded_Fastener.jpg\" width=200\"/> </td>\n",
    "</tr></table>\n",
    "\n",
    "An external force of 10000$[N]$ is applied to the fastener.\n",
    "\n",
    "The first substrate is made from caste iron with an elastic modulus of 153$[GPa]$<br>\n",
    "The second substrate is made from copper with an elastic modulus of 128$[GPa]$<br> \n",
    "The third substrate is made from steel with an elastic modulus of 207$[GPa]$ \n",
    "\n",
    "The bolt is an M12x1.75 grade 9.8 and made of steel with an elastic modulus of 207$[GPa]$\n",
    "\n"
   ]
  },
  {
   "cell_type": "markdown",
   "metadata": {},
   "source": [
    "Importing the relevant Classes"
   ]
  },
  {
   "cell_type": "code",
   "execution_count": 2,
   "metadata": {},
   "outputs": [],
   "source": [
    "from me_toolbox.fasteners import ThreadedFastener\n",
    "from me_toolbox.fasteners import Bolt"
   ]
  },
  {
   "cell_type": "markdown",
   "metadata": {},
   "source": [
    "Bolt properties"
   ]
  },
  {
   "cell_type": "code",
   "execution_count": 3,
   "metadata": {},
   "outputs": [],
   "source": [
    "diameter = 12 # [mm]\n",
    "pitch = 1.75 # [mm]\n",
    "length = 55 # [mm]\n",
    "threaded_length = 30 # [mm]\n",
    "grade = '9.8'\n",
    "E = 207e3 # [MPa]"
   ]
  },
  {
   "cell_type": "markdown",
   "metadata": {},
   "source": [
    "Using Bolt's built-in method to get the strength properties (in MPa) out of the grade and diameter"
   ]
  },
  {
   "cell_type": "code",
   "execution_count": 4,
   "metadata": {},
   "outputs": [
    {
     "name": "stdout",
     "output_type": "stream",
     "text": [
      "Proof Strength - Sp = 650 [MPa]\n",
      "Ultimate Tensile Strength - Sut = 900 [MPa]\n",
      "Yield Strength - Sy = 720 [MPa]\n"
     ]
    }
   ],
   "source": [
    "Sy, Sut, Sp = Bolt.get_strength_prop(diameter, grade)\n",
    "\n",
    "print(f\"Proof Strength - Sp = {Sp} [MPa]\\n\"\n",
    "    f\"Ultimate Tensile Strength - Sut = {Sut} [MPa]\\n\"\n",
    "    f\"Yield Strength - Sy = {Sy} [MPa]\")\n"
   ]
  },
  {
   "cell_type": "markdown",
   "metadata": {},
   "source": [
    "Defining a bolt object"
   ]
  },
  {
   "cell_type": "code",
   "execution_count": 5,
   "metadata": {},
   "outputs": [],
   "source": [
    "M12 = Bolt(diameter, pitch, length, threaded_length, Sy, Sut, Sp, E)"
   ]
  },
  {
   "cell_type": "markdown",
   "metadata": {},
   "source": [
    "List of substrates thicknesses (in mm)"
   ]
  },
  {
   "cell_type": "code",
   "execution_count": 6,
   "metadata": {},
   "outputs": [],
   "source": [
    "thickness = [25, 7, 25]"
   ]
  },
  {
   "cell_type": "markdown",
   "metadata": {},
   "source": [
    "List of substrates elasticity (in Mpa)"
   ]
  },
  {
   "cell_type": "code",
   "execution_count": 7,
   "metadata": {},
   "outputs": [],
   "source": [
    "elastic = [153e3, 128e3, 207e3]"
   ]
  },
  {
   "cell_type": "markdown",
   "metadata": {},
   "source": [
    "Making a list made of the substrate thickness and elasticity pairs <br>\n",
    "$[[mm,MPa],[mm,MPa],[mm,MPa]]$"
   ]
  },
  {
   "cell_type": "code",
   "execution_count": 8,
   "metadata": {},
   "outputs": [
    {
     "name": "stdout",
     "output_type": "stream",
     "text": [
      "1st layer: 25mm , 153000.0 MPa\n",
      "2nd layer: 7mm , 128000.0 MPa\n",
      "3rd layer: 25mm , 207000.0 MPa\n"
     ]
    }
   ],
   "source": [
    "layers = [[t, E] for t, E in zip(thickness, elastic)]  # [[25,153e3], [7,128e3], [25,207e3]]\n",
    "\n",
    "import inflect\n",
    "p = inflect.engine()\n",
    "\n",
    "for i, layer in enumerate(layers):\n",
    "    print(f\"{p.ordinal(i+1)} layer: {layer[0]}mm , {layer[1]} MPa\")"
   ]
  },
  {
   "cell_type": "markdown",
   "metadata": {},
   "source": [
    "If the preload is not given we can estimate it by using the bolt's estimate_preload methode.<br>\n",
    "The logic behind the method is as follow:<br>\n",
    "If the fastener is ment to be taken appart and reused than the preload shuold be 75% of the proof load.<br>\n",
    "If the fastener is ment to be permanent than the preload should be 90% of the proof load.  "
   ]
  },
  {
   "cell_type": "code",
   "execution_count": 9,
   "metadata": {},
   "outputs": [
    {
     "name": "stdout",
     "output_type": "stream",
     "text": [
      "Preload = 41079.94[N]\n"
     ]
    }
   ],
   "source": [
    "preload = M12.estimate_preload(reused=True)\n",
    "print(f\"Preload = {preload:.2f}[N]\")"
   ]
  },
  {
   "cell_type": "markdown",
   "metadata": {},
   "source": [
    "Defining threaded fastener object"
   ]
  },
  {
   "cell_type": "code",
   "execution_count": 10,
   "metadata": {},
   "outputs": [],
   "source": [
    "fastener = ThreadedFastener(M12, layers, nut=False, preload=preload)"
   ]
  },
  {
   "cell_type": "code",
   "execution_count": 11,
   "metadata": {},
   "outputs": [
    {
     "name": "stdout",
     "output_type": "stream",
     "text": [
      "Member Stiffness - Km = 1762.89 [kN/mm]\n",
      "Bolt Stiffness - kb = 551.53 [kN/mm]\n",
      "Fastener Stiffness - C = 0.24 [kN/mm]\n"
     ]
    }
   ],
   "source": [
    "km = fastener.member_stiffness\n",
    "kb = fastener.bolt_stiffness\n",
    "C = fastener.fastener_stiffness\n",
    "\n",
    "print(f\"Member Stiffness - Km = {km*1e-3:.2f} [kN/mm]\\n\"\n",
    "    f\"Bolt Stiffness - kb = {kb*1e-3:.2f} [kN/mm]\\n\"\n",
    "    f\"Fastener Stiffness - C = {C:.2f} [kN/mm]\")\n"
   ]
  },
  {
   "cell_type": "code",
   "execution_count": 12,
   "metadata": {},
   "outputs": [
    {
     "name": "stdout",
     "output_type": "stream",
     "text": [
      "Proof Strength - Sp = 650 [kN/mm]\n",
      "Stress Area - At = 84.27 [kN/mm]\n",
      "Proof Load - Fp = 54773.25 [kN/mm]\n"
     ]
    }
   ],
   "source": [
    "print(f\"Proof Strength - Sp = {M12.proof_strength} [kN/mm]\\n\"\n",
    "    f\"Stress Area - At = {M12.stress_area:.2f} [kN/mm]\\n\"\n",
    "    f\"Proof Load - Fp = {M12.proof_load:.2f} [kN/mm]\")\n"
   ]
  },
  {
   "cell_type": "markdown",
   "metadata": {},
   "source": [
    "## Finding safty factors"
   ]
  },
  {
   "cell_type": "markdown",
   "metadata": {},
   "source": [
    "Setting the external force (in $[N]$) operating on the fastener"
   ]
  },
  {
   "cell_type": "code",
   "execution_count": 19,
   "metadata": {},
   "outputs": [],
   "source": [
    "external_force = 10000  # [N]"
   ]
  },
  {
   "cell_type": "code",
   "execution_count": 20,
   "metadata": {},
   "outputs": [],
   "source": [
    "n0, nL, np = fastener.safety_factors(external_force).values()"
   ]
  },
  {
   "cell_type": "markdown",
   "metadata": {},
   "source": [
    "Seperation Safety Factor - $n_{0}$<br>\n",
    "Is the non-separation safety factor between the substrates,<br>\n",
    "which is a necessary condition for the fastener to function."
   ]
  },
  {
   "cell_type": "code",
   "execution_count": 21,
   "metadata": {},
   "outputs": [
    {
     "name": "stdout",
     "output_type": "stream",
     "text": [
      "Separation Safety Factor - n0 = 5.39\n"
     ]
    }
   ],
   "source": [
    "print(f\"Separation Safety Factor - n0 = {n0:.2f}\")"
   ]
  },
  {
   "cell_type": "markdown",
   "metadata": {},
   "source": [
    "Load Safety Factor - <br>\n",
    "Means how many times the external load (P) can be multiply until reaching<br>\n",
    "the proof strength (Sp) of the bolt."
   ]
  },
  {
   "cell_type": "code",
   "execution_count": 22,
   "metadata": {},
   "outputs": [
    {
     "name": "stdout",
     "output_type": "stream",
     "text": [
      "Load Safety Factor - nL = 5.75\n"
     ]
    }
   ],
   "source": [
    "print(f\"Load Safety Factor - nL = {nL:.2f}\")"
   ]
  },
  {
   "cell_type": "markdown",
   "metadata": {},
   "source": [
    "Proof Safety Factor - <br>\n",
    "Means how many times the Bolt load ($F_{b}$) can be multiply until reaching<br>\n",
    "the proof strength (Sp) of the bolt."
   ]
  },
  {
   "cell_type": "code",
   "execution_count": 23,
   "metadata": {},
   "outputs": [
    {
     "name": "stdout",
     "output_type": "stream",
     "text": [
      "Proof Safety Factor - np = 0.01\n"
     ]
    }
   ],
   "source": [
    "print(f\"Proof Safety Factor - np = {np:.2f}\")"
   ]
  }
 ],
 "metadata": {
  "kernelspec": {
   "display_name": "Python 3",
   "language": "python",
   "name": "python3"
  },
  "language_info": {
   "codemirror_mode": {
    "name": "ipython",
    "version": 3
   },
   "file_extension": ".py",
   "mimetype": "text/x-python",
   "name": "python",
   "nbconvert_exporter": "python",
   "pygments_lexer": "ipython3",
   "version": "3.9.1"
  }
 },
 "nbformat": 4,
 "nbformat_minor": 5
}
