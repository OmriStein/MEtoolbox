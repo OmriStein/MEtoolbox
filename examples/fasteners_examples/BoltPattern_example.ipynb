{
 "cells": [
  {
   "cell_type": "markdown",
   "metadata": {},
   "source": [
    "# Multipul Bolts strength calculations"
   ]
  },
  {
   "cell_type": "markdown",
   "metadata": {},
   "source": [
    "<table><tr>\n",
    "<td> <img src=\"./img/example-1-a.jpg\" width=200\"/> </td>\n",
    "<td> <img src=\"./img/example-1-b.jpg\" width=165\"/> </td>\n",
    "<td> <img src=\"./img/example-1-c.jpg\" width=200\"/> </td>\n",
    "</tr></table>\n",
    "<td>\n",
    "\n",
    "A force of 8500$[N]$ is applied on the braket as shown in the images above,\n",
    "The substrates and the bolts are made of steel with an elastic modulus of 207$[GPa]$,\n",
    "The bolts are grade 9.8, the preload force on The M10 bolts is 32062.5$[N]$ and the preload force on The M5 bolt is 7850$[N]$\n"
   ]
  },
  {
   "cell_type": "markdown",
   "metadata": {},
   "source": [
    "Importing the relevant Classes"
   ]
  },
  {
   "cell_type": "code",
   "execution_count": 2,
   "metadata": {},
   "outputs": [],
   "source": [
    "from me_toolbox.fasteners import ThreadedFastener\n",
    "from me_toolbox.fasteners import Bolt\n",
    "from me_toolbox.fasteners import BoltPattern"
   ]
  },
  {
   "cell_type": "markdown",
   "metadata": {},
   "source": [
    "## Defining the substrate layers"
   ]
  },
  {
   "cell_type": "markdown",
   "metadata": {},
   "source": [
    "List of substrates thicknesses (in mm)"
   ]
  },
  {
   "cell_type": "code",
   "execution_count": 3,
   "metadata": {},
   "outputs": [],
   "source": [
    "thickness = [5, 10]"
   ]
  },
  {
   "cell_type": "markdown",
   "metadata": {},
   "source": [
    "List of substrates elasticity (in Mpa)"
   ]
  },
  {
   "cell_type": "code",
   "execution_count": 4,
   "metadata": {},
   "outputs": [],
   "source": [
    "elastic = [207e3, 207e3]"
   ]
  },
  {
   "cell_type": "markdown",
   "metadata": {},
   "source": [
    "Making a list made of the substrate thickness and elasticity pairs <br>\n",
    "$[[mm,MPa],[mm,MPa]]$"
   ]
  },
  {
   "cell_type": "code",
   "execution_count": 5,
   "metadata": {},
   "outputs": [
    {
     "name": "stdout",
     "output_type": "stream",
     "text": [
      "1st layer: 5mm , 207000.0 MPa\n",
      "2nd layer: 10mm , 207000.0 MPa\n"
     ]
    }
   ],
   "source": [
    "layers = [[t, E] for t, E in zip(thickness, elastic)]  # [[25,153e3], [7,128e3], [25,207e3]]\n",
    "\n",
    "import inflect\n",
    "p = inflect.engine()\n",
    "\n",
    "for i, layer in enumerate(layers):\n",
    "    print(f\"{p.ordinal(i+1)} layer: {layer[0]}mm , {layer[1]} MPa\")"
   ]
  },
  {
   "cell_type": "markdown",
   "metadata": {},
   "source": [
    "## Prepering an M10 Fastener"
   ]
  },
  {
   "cell_type": "markdown",
   "metadata": {},
   "source": [
    "M10 Bolt properties"
   ]
  },
  {
   "cell_type": "code",
   "execution_count": 6,
   "metadata": {},
   "outputs": [],
   "source": [
    "diameter = 10 # [mm]\n",
    "pitch = 1.5 # [mm]\n",
    "length = 33 # [mm]\n",
    "threaded_length = 26 # [mm]\n",
    "grade = '9.8'\n",
    "E = 207e3 # [MPa]"
   ]
  },
  {
   "cell_type": "markdown",
   "metadata": {},
   "source": [
    "Using Bolt's built-in method to get the strength properties (in MPa) out of the grade and diameter"
   ]
  },
  {
   "cell_type": "code",
   "execution_count": 7,
   "metadata": {},
   "outputs": [
    {
     "name": "stdout",
     "output_type": "stream",
     "text": [
      "Proof Strength - Sp = 650 [MPa]\n",
      "Ultimate Tensile Strength - Sut = 900 [MPa]\n",
      "Yield Strength - Sy = 720 [MPa]\n"
     ]
    }
   ],
   "source": [
    "M10_Sy, M10_Sut, M10_Sp = Bolt.get_strength_prop(diameter, grade)\n",
    "\n",
    "print(f\"Proof Strength - Sp = {M10_Sp} [MPa]\\n\"\n",
    "    f\"Ultimate Tensile Strength - Sut = {M10_Sut} [MPa]\\n\"\n",
    "    f\"Yield Strength - Sy = {M10_Sy} [MPa]\")\n"
   ]
  },
  {
   "cell_type": "markdown",
   "metadata": {},
   "source": [
    "Defining a bolt object"
   ]
  },
  {
   "cell_type": "code",
   "execution_count": 8,
   "metadata": {},
   "outputs": [],
   "source": [
    "M10 = Bolt(diameter, pitch, length, threaded_length, M10_Sy, M10_Sut, M10_Sp, E)"
   ]
  },
  {
   "cell_type": "markdown",
   "metadata": {},
   "source": [
    "Defining an M10 threaded fastener object"
   ]
  },
  {
   "cell_type": "code",
   "execution_count": 9,
   "metadata": {},
   "outputs": [],
   "source": [
    "M10_fastener = ThreadedFastener(M10, layers, nut=True, preload=32062.5)"
   ]
  },
  {
   "cell_type": "markdown",
   "metadata": {},
   "source": [
    "***"
   ]
  },
  {
   "cell_type": "markdown",
   "metadata": {},
   "source": [
    "***Estimating the preload***<br>\n",
    "**In this case the preload is specified** but we can also use the<br>\n",
    "Bolt's object built-in function to return an estimated preload.<br>\n",
    "If the bolt is ment to be reused then the estimated preload is 75% of the bolt's proof load,<br>\n",
    "If the bolt is not ment to be reused then the estimated preload is 90% of the bolt's proof load."
   ]
  },
  {
   "cell_type": "code",
   "execution_count": 10,
   "metadata": {},
   "outputs": [
    {
     "name": "stdout",
     "output_type": "stream",
     "text": [
      "M10 Estimated Preload = 28269.93[N]\n"
     ]
    }
   ],
   "source": [
    "M10_estimated_preload = M10.estimate_preload(reused=True)\n",
    "print(f\"M10 Estimated Preload = {M10_estimated_preload:.2f}[N]\")"
   ]
  },
  {
   "cell_type": "markdown",
   "metadata": {},
   "source": [
    "***"
   ]
  },
  {
   "cell_type": "markdown",
   "metadata": {},
   "source": [
    "## Prepering an M5 Fastener"
   ]
  },
  {
   "cell_type": "markdown",
   "metadata": {},
   "source": [
    "M5 Bolt properties"
   ]
  },
  {
   "cell_type": "code",
   "execution_count": 11,
   "metadata": {},
   "outputs": [],
   "source": [
    "diameter = 5 # [mm]\n",
    "pitch = 0.8 # [mm]\n",
    "length = 23 # [mm]\n",
    "threaded_length = 16 # [mm]\n",
    "grade = '9.8'\n",
    "E = 207e3 # [MPa]"
   ]
  },
  {
   "cell_type": "markdown",
   "metadata": {},
   "source": [
    "Using Bolt's built-in method to get the strength properties (in MPa) out of the grade and diameter"
   ]
  },
  {
   "cell_type": "code",
   "execution_count": 12,
   "metadata": {},
   "outputs": [
    {
     "name": "stdout",
     "output_type": "stream",
     "text": [
      "Proof Strength - Sp = 650 [MPa]\n",
      "Ultimate Tensile Strength - Sut = 900 [MPa]\n",
      "Yield Strength - Sy = 720 [MPa]\n"
     ]
    }
   ],
   "source": [
    "M5_Sy, M5_Sut, M5_Sp = Bolt.get_strength_prop(diameter, grade)\n",
    "\n",
    "print(f\"Proof Strength - Sp = {M5_Sp} [MPa]\\n\"\n",
    "    f\"Ultimate Tensile Strength - Sut = {M5_Sut} [MPa]\\n\"\n",
    "    f\"Yield Strength - Sy = {M5_Sy} [MPa]\")\n"
   ]
  },
  {
   "cell_type": "markdown",
   "metadata": {},
   "source": [
    "Defining a bolt object"
   ]
  },
  {
   "cell_type": "code",
   "execution_count": 13,
   "metadata": {},
   "outputs": [],
   "source": [
    "M5 = Bolt(diameter, pitch, length, threaded_length, M5_Sy, M5_Sut, M5_Sp, E)"
   ]
  },
  {
   "cell_type": "markdown",
   "metadata": {},
   "source": [
    "Defining an M5 threaded fastener object"
   ]
  },
  {
   "cell_type": "code",
   "execution_count": 14,
   "metadata": {},
   "outputs": [],
   "source": [
    "M5_fastener = ThreadedFastener(M5, layers, nut=True, preload=7850)"
   ]
  },
  {
   "cell_type": "markdown",
   "metadata": {},
   "source": [
    "## Creating the Bolt Pattern"
   ]
  },
  {
   "cell_type": "markdown",
   "metadata": {},
   "source": [
    "Making a list of the fasteners and another list of their locations in the pattern."
   ]
  },
  {
   "cell_type": "code",
   "execution_count": 15,
   "metadata": {},
   "outputs": [],
   "source": [
    "fasteners = [M10_fastener, M10_fastener, M5_fastener]\n",
    "fasteners_locations = [[20, 45, 0], [-20, 45, 0], [0, 15, 0]]"
   ]
  },
  {
   "cell_type": "markdown",
   "metadata": {},
   "source": [
    "The vector sum of the external forces"
   ]
  },
  {
   "cell_type": "code",
   "execution_count": 16,
   "metadata": {},
   "outputs": [],
   "source": [
    "force = [0, -8500, 0]  # [N]"
   ]
  },
  {
   "cell_type": "markdown",
   "metadata": {},
   "source": [
    "The location where the force is applied"
   ]
  },
  {
   "cell_type": "code",
   "execution_count": 17,
   "metadata": {},
   "outputs": [],
   "source": [
    "force_location = [0, 0, 100]"
   ]
  },
  {
   "cell_type": "markdown",
   "metadata": {},
   "source": [
    "List containing two points which discribs the position and direction of the axis of rotation,<br>\n",
    "That is the axis in which to bolted part want to rotate around when the force is applied."
   ]
  },
  {
   "cell_type": "code",
   "execution_count": 18,
   "metadata": {},
   "outputs": [],
   "source": [
    "axis_of_rotation = [[0, 0], [1, 0]]"
   ]
  },
  {
   "cell_type": "code",
   "execution_count": 19,
   "metadata": {},
   "outputs": [],
   "source": [
    "pattern = BoltPattern(fasteners, fasteners_locations, force, force_location, axis_of_rotation, 'shank')"
   ]
  },
  {
   "cell_type": "markdown",
   "metadata": {},
   "source": [
    "## Static Analysis"
   ]
  },
  {
   "cell_type": "markdown",
   "metadata": {},
   "source": [
    "### Some parameters"
   ]
  },
  {
   "cell_type": "code",
   "execution_count": 20,
   "metadata": {},
   "outputs": [
    {
     "name": "stdout",
     "output_type": "stream",
     "text": [
      "M5 Bolt: \n",
      "Shank Length - ld = 7[mm]\n",
      "Griped Thread length - lt = 8[mm]\n",
      "Nominal Area - Ad = 19.63[mm^2]\n",
      "Stress Area - At = 14.18[mm^2]\n",
      "Bolt Stiffness - kb = 224.86 [kN/mm]\n",
      "member stiffness - km = 967.97 [kN/mm]\n",
      "fastener stiffness - C = 0.189\n"
     ]
    }
   ],
   "source": [
    "print(f\"M5 Bolt: \\nShank Length - ld = {M5.shank_length}[mm]\\n\" \n",
    "      f\"Griped Thread length - lt = {M5_fastener.griped_thread_length}[mm]\\n\"\n",
    "      f\"Nominal Area - Ad = {M5.nominal_area:.2f}[mm^2]\\n\"\n",
    "      f\"Stress Area - At = {M5.stress_area:.2f}[mm^2]\\n\"\n",
    "      f\"Bolt Stiffness - kb = {M5_fastener.bolt_stiffness*1e-3:.2f} [kN/mm]\\n\"\n",
    "      f\"member stiffness - km = {M5_fastener.member_stiffness*1e-3:.2f} [kN/mm]\\n\"\n",
    "      f\"fastener stiffness - C = {M5_fastener.fastener_stiffness:.3f}\")"
   ]
  },
  {
   "cell_type": "code",
   "execution_count": 21,
   "metadata": {},
   "outputs": [
    {
     "name": "stdout",
     "output_type": "stream",
     "text": [
      "M10 Bolt: \n",
      "Shank Length - ld = 7[mm]\n",
      "Griped Thread length - lt = 8[mm]\n",
      "Nominal Area - Ad = 78.54[mm^2]\n",
      "Stress Area - At = 57.99[mm^2]\n",
      "Bolt Stiffness - kb = 911.56 [kN/mm]\n",
      "member stiffness - km = 2652.80 [kN/mm]\n",
      "fastener stiffness - C = 0.256\n"
     ]
    }
   ],
   "source": [
    "print(f\"M10 Bolt: \\nShank Length - ld = {M10.shank_length}[mm]\\n\" \n",
    "      f\"Griped Thread length - lt = {M10_fastener.griped_thread_length}[mm]\\n\"\n",
    "      f\"Nominal Area - Ad = {M10.nominal_area:.2f}[mm^2]\\n\"\n",
    "      f\"Stress Area - At = {M10.stress_area:.2f}[mm^2]\\n\"\n",
    "      f\"Bolt Stiffness - kb = {M10_fastener.bolt_stiffness*1e-3:.2f} [kN/mm]\\n\"\n",
    "      f\"member stiffness - km = {M10_fastener.member_stiffness*1e-3:.2f} [kN/mm]\\n\"\n",
    "      f\"fastener stiffness - C = {M10_fastener.fastener_stiffness:.3f}\")"
   ]
  },
  {
   "cell_type": "markdown",
   "metadata": {},
   "source": [
    "### Finding forces and stresses"
   ]
  },
  {
   "cell_type": "markdown",
   "metadata": {},
   "source": [
    "Total shear forces $(F_{i})$ and shear stress $(τ)$ in each fastener."
   ]
  },
  {
   "cell_type": "code",
   "execution_count": 22,
   "metadata": {},
   "outputs": [
    {
     "name": "stdout",
     "output_type": "stream",
     "text": [
      "Fastener(M10) - Fi_1 = [0.00, -3777.78, 0.00][N]\n",
      "Fastener(M10) - Fi_2 = [0.00, -3777.78, 0.00][N]\n",
      "Fastener(M5) - Fi_3 = [0.00, -944.44, 0.00][N]\n",
      "\n",
      "shear stress - τ = ['48.10', '48.10', '48.10'] [MPa]\n"
     ]
    }
   ],
   "source": [
    "for i, shear_force in enumerate(pattern.total_shear_force):\n",
    "    print(f\"{pattern.fasteners[i]} - Fi_{i+1} = [{shear_force[0]:.2f}, {shear_force[1]:.2f}, {shear_force[2]:.2f}][N]\")\n",
    "\n",
    "print(f\"\\nshear stress - τ = {[\"%.2f\" % stress for stress in pattern.shear_stress]} [MPa]\")"
   ]
  },
  {
   "cell_type": "markdown",
   "metadata": {},
   "source": [
    "Fastener Load $(P)$, Bolt Load $(F_{b})$, Normal stress $(σ)$ and Equivalent stress $(σ_{eq})$"
   ]
  },
  {
   "cell_type": "code",
   "execution_count": 23,
   "metadata": {},
   "outputs": [
    {
     "name": "stdout",
     "output_type": "stream",
     "text": [
      "Fastener Load     - P    = ['9272.06', '9272.06', '1034.31']\n",
      "Bolt Load         - Fb   = ['34433.77', '34433.77', '8044.98']\n",
      "Normal stress     - σ    = ['593.79', '593.79', '567.24']\n",
      "\n"
     ]
    }
   ],
   "source": [
    "print(f\"Fastener Load     - P    = {[\"%.2f\" % load for load in pattern.fastener_load]}\\n\"\n",
    "      f\"Bolt Load         - Fb   = {[\"%.2f\" % load for load in pattern.bolt_load]}\\n\"\n",
    "      f\"Normal stress     - σ    = {[\"%.2f\" % stress for stress in pattern.normal_stress]}\\n\")\n",
    "      "
   ]
  },
  {
   "cell_type": "markdown",
   "metadata": {},
   "source": [
    "The equivalent stresses on each bolt $( σ_{eq}^i=\\sqrt{σ_{i}^2+3τ_{i}^2} )$"
   ]
  },
  {
   "cell_type": "code",
   "execution_count": 24,
   "metadata": {},
   "outputs": [
    {
     "name": "stdout",
     "output_type": "stream",
     "text": [
      "Equivalent stress - σ_eq = ['599.61', '599.61', '573.33']\n",
      "\n",
      "just to clearify every item in the list is the equivalent stress for each fastener:\n",
      "Fastener(M10) - σ_eq_1 = 599.61[MPa]\n",
      "Fastener(M10) - σ_eq_2 = 599.61[MPa]\n",
      "Fastener(M5) - σ_eq_3 = 573.33[MPa]\n"
     ]
    }
   ],
   "source": [
    "print(f\"Equivalent stress - σ_eq = {[\"%.2f\" % stress for stress in pattern.equivalent_stresses]}\\n\")\n",
    "\n",
    "print(f\"just to clearify every item in the list is the equivalent stress for each fastener:\")\n",
    "for i, stress in enumerate(pattern.equivalent_stresses):\n",
    "    print(f\"{pattern.fasteners[i]} - σ_eq_{i+1} = {stress:.2f}[MPa]\")\n"
   ]
  },
  {
   "cell_type": "markdown",
   "metadata": {},
   "source": [
    "### Finding safty factors ###"
   ]
  },
  {
   "cell_type": "markdown",
   "metadata": {},
   "source": [
    "#### Seperation Safety Factor - $n_{0}$<br> ####\n",
    "Is the non-separation safety factor between the substrates,<br>\n",
    "which is a necessary condition for the fastener to function."
   ]
  },
  {
   "cell_type": "code",
   "execution_count": 25,
   "metadata": {},
   "outputs": [
    {
     "name": "stdout",
     "output_type": "stream",
     "text": [
      "Fastener(M10) - n0 = 4.65\n",
      "Fastener(M10) - n0 = 4.65\n",
      "Fastener(M5) - n0 = 9.35\n"
     ]
    }
   ],
   "source": [
    "for i, fastener in enumerate(pattern.fasteners):\n",
    "    print(f\"{fastener} - n0 = {fastener.separation_safety_factor(pattern.fastener_load[i]):.2f}\")"
   ]
  },
  {
   "cell_type": "markdown",
   "metadata": {},
   "source": [
    "#### Load Safety Factor - $n_{L}$ <br> ####\n",
    "Means how many times the external load (P) can be multiply until reaching<br>\n",
    "the proof strength (Sp) of the bolt."
   ]
  },
  {
   "cell_type": "code",
   "execution_count": 26,
   "metadata": {},
   "outputs": [
    {
     "name": "stdout",
     "output_type": "stream",
     "text": [
      "Fastener(M10) - nL = 2.08\n",
      "Fastener(M10) - nL = 2.08\n",
      "Fastener(M5) - nL = 4.87\n"
     ]
    }
   ],
   "source": [
    "for i, fastener in enumerate(pattern.fasteners):\n",
    "    print(f\"{fastener} - nL = {fastener.load_safety_factor(pattern.equivalent_stresses[i]):.2f}\")"
   ]
  },
  {
   "cell_type": "markdown",
   "metadata": {},
   "source": [
    "#### Proof Safety Factor - $n_{p}$ <br> ####\n",
    "Means how many times the Bolt load ($F_{b}$) can be multiply until reaching<br>\n",
    "the proof strength (Sp) of the bolt."
   ]
  },
  {
   "cell_type": "code",
   "execution_count": 27,
   "metadata": {},
   "outputs": [
    {
     "name": "stdout",
     "output_type": "stream",
     "text": [
      "Fastener(M10) - np = 1.08\n",
      "Fastener(M10) - np = 1.08\n",
      "Fastener(M5) - np = 1.13\n"
     ]
    }
   ],
   "source": [
    "for i, fastener in enumerate(pattern.fasteners):\n",
    "    print(f\"{fastener} - np = {fastener.proof_safety_factor(pattern.equivalent_stresses[i]):.2f}\")"
   ]
  },
  {
   "cell_type": "markdown",
   "metadata": {},
   "source": [
    "## Fatigue Analisys"
   ]
  },
  {
   "cell_type": "code",
   "execution_count": 28,
   "metadata": {},
   "outputs": [],
   "source": [
    " from me_toolbox.fatigue import EnduranceLimit, FatigueAnalysis"
   ]
  },
  {
   "cell_type": "code",
   "execution_count": 29,
   "metadata": {},
   "outputs": [],
   "source": [
    "Fmin = [0, -6500, 0]  # [N]\n",
    "Fmax = [0, -8500, 0]  # [N]"
   ]
  },
  {
   "cell_type": "markdown",
   "metadata": {},
   "source": [
    "Using the EnduranceLimit.unmodified_Se method to get the unmodified endurance limit,<br>\n",
    "**Note:** *The endurance limit can be found in the material property*"
   ]
  },
  {
   "cell_type": "code",
   "execution_count": 30,
   "metadata": {},
   "outputs": [
    {
     "name": "stdout",
     "output_type": "stream",
     "text": [
      "M10 - Unmodified Se=450.0,\n",
      "M5 - Unmodified Se=450.0\n"
     ]
    }
   ],
   "source": [
    "M10_unmodified_Se = EnduranceLimit.unmodified_Se(M10_Sut, 'steel')\n",
    "M5_unmodified_Se = EnduranceLimit.unmodified_Se(M5_Sut, 'steel')\n",
    "print(f\"M10 - Unmodified Se={M10_unmodified_Se},\\nM5 - Unmodified Se={M5_unmodified_Se}\")"
   ]
  },
  {
   "cell_type": "markdown",
   "metadata": {},
   "source": [
    "#### Calculating the modified endurance limit"
   ]
  },
  {
   "cell_type": "markdown",
   "metadata": {},
   "source": [
    "In the example I use the Bolt's endurance_limit methode to create an EnduranceLimit object to use in the variable equivalent stresses calculation,\n",
    "You can call the EnduranceLimit directly with the right parameters for a bolt:\n",
    "~~~\n",
    "Se = EnduranceLimit(unmodified_Se, Sut=self.tensile_strength,\n",
    "                    surface_finish=surface_finish,\n",
    "                    rotating=False, max_normal_stress=1, max_bending_stress=0,\n",
    "                    stress_type='multiple', temp=temp,\n",
    "                    reliability=reliability,\n",
    "                    diameter=sqrt((4*self.stress_area)/pi))\n",
    "~~~"
   ]
  },
  {
   "cell_type": "code",
   "execution_count": 31,
   "metadata": {},
   "outputs": [
    {
     "name": "stdout",
     "output_type": "stream",
     "text": [
      "M10 - Se=<me_toolbox.fatigue.endurance_limit.EnduranceLimit object at 0x0000026126BA15E0>,\n",
      "M5 - Se=<me_toolbox.fatigue.endurance_limit.EnduranceLimit object at 0x0000026126EA0800>\n"
     ]
    }
   ],
   "source": [
    "M10_Se = M10.endurance_limit(M10_unmodified_Se, surface_finish='cold-drawn', temp=300, reliability=0.9)\n",
    "M5_Se = M10.endurance_limit(M5_unmodified_Se, surface_finish='cold-drawn', temp=300, reliability=0.9)\n",
    "print(f\"M10 - Se={M10_Se},\\nM5 - Se={M5_Se}\")"
   ]
  },
  {
   "cell_type": "markdown",
   "metadata": {},
   "source": [
    "#### The mean (&sigma;$_{m}$, &tau;$_{m}$) and alternating (&sigma;$_{a}$, &tau;$_{a}$) stresses for each bolt"
   ]
  },
  {
   "cell_type": "code",
   "execution_count": 32,
   "metadata": {},
   "outputs": [
    {
     "name": "stdout",
     "output_type": "stream",
     "text": [
      "variable stresses in each bolt:\n",
      "σa = [4.81073616 4.81073616 1.61736502],\n",
      "τa=[5.65884242 5.65884242 5.65884242],\n",
      "σm=[588.98141572 588.98141572 565.62739024],\n",
      "τm=[42.44131816 42.44131816 42.44131816]\n"
     ]
    }
   ],
   "source": [
    "σa, τa, σm, τm = pattern.variable_loading_stresses(Fmin, Fmax).values()\n",
    "print(f\"variable stresses in each bolt:\")\n",
    "print(f\"σa = {σa},\\nτa={τa},\\nσm={σm},\\nτm={τm}\")"
   ]
  },
  {
   "cell_type": "markdown",
   "metadata": {},
   "source": [
    "#### Adding the stress concentration factor(Kf) to the bolt object"
   ]
  },
  {
   "cell_type": "code",
   "execution_count": 33,
   "metadata": {},
   "outputs": [],
   "source": [
    "Kf = FatigueAnalysis.calc_thread_kf(9.8, 'Rolled Threads')\n",
    "M10.Kf = Kf\n",
    "M5.Kf = Kf"
   ]
  },
  {
   "cell_type": "markdown",
   "metadata": {},
   "source": [
    "#### The mean and alternating equivalent stress (&sigma;$_{eq}^m$ and &sigma;$_{eq}^a$) for each bolt"
   ]
  },
  {
   "cell_type": "code",
   "execution_count": 34,
   "metadata": {},
   "outputs": [],
   "source": [
    "variable_eq_stress = pattern.variable_equivalent_stresses([M10_Se, M10_Se, M5_Se], Fmin, Fmax)"
   ]
  },
  {
   "cell_type": "code",
   "execution_count": 35,
   "metadata": {},
   "outputs": [
    {
     "name": "stdout",
     "output_type": "stream",
     "text": [
      "variable equivalent stresses:\n",
      "\n",
      "Fastener(M10) - Mean stress:593.55 - Alternating stress:33.95\n",
      "Fastener(M10) - Mean stress:593.55 - Alternating stress:33.95\n",
      "Fastener(M5) - Mean stress:570.38 - Alternating stress:29.95\n"
     ]
    }
   ],
   "source": [
    "print(f\"variable equivalent stresses:\\n\")\n",
    "for bolt,eq in zip(pattern.fasteners, variable_eq_stress):\n",
    "    print(f\"{bolt} - Mean stress:{eq['mean']:.2f} - Alternating stress:{eq['alt']:.2f}\")"
   ]
  },
  {
   "cell_type": "markdown",
   "metadata": {},
   "source": [
    "#### The Fatigue safety factor (Goodman) and the static safety factor (Langar) for each bolt"
   ]
  },
  {
   "cell_type": "code",
   "execution_count": 36,
   "metadata": {},
   "outputs": [
    {
     "name": "stdout",
     "output_type": "stream",
     "text": [
      "fatigue safety factor:\n",
      "\n",
      "Fastener(M10) - fatigue safety factor: 2.58 - static safety factor: 1.04\n",
      "Fastener(M10) - fatigue safety factor: 2.58 - static safety factor: 1.04\n",
      "Fastener(M5) - fatigue safety factor: 3.48 - static safety factor: 1.08\n"
     ]
    }
   ],
   "source": [
    "safety_factors = pattern.fatigue_safety_factor([M10_Se, M10_Se, M5_Se], Fmin, Fmax)\n",
    "print(f\"fatigue safety factor:\\n\")\n",
    "for bolt,pair in zip(pattern.fasteners, safety_factors):\n",
    "    print(f\"{bolt} - fatigue safety factor: {pair['fatigue']:.2f} - static safety factor: {pair['static']:.2f}\")"
   ]
  }
 ],
 "metadata": {
  "kernelspec": {
   "display_name": "Python 3",
   "language": "python",
   "name": "python3"
  },
  "language_info": {
   "codemirror_mode": {
    "name": "ipython",
    "version": 3
   },
   "file_extension": ".py",
   "mimetype": "text/x-python",
   "name": "python",
   "nbconvert_exporter": "python",
   "pygments_lexer": "ipython3",
   "version": "3.9.1"
  }
 },
 "nbformat": 4,
 "nbformat_minor": 5
}
