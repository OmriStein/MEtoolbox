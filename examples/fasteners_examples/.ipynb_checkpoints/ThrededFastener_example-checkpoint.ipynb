{
 "cells": [
  {
   "cell_type": "markdown",
   "metadata": {},
   "source": [
    "__Single threaded fastener__<br>\n",
    "The folowing picture depicts an M12 Bolt with a strength class of 8.8<br>\n",
    "with a substrate arange in this order:<br>\n",
    "The first layer is 25mm thick with an eleastic modulus of 153GPa,<br>\n",
    "the second layer is 7mm thick with an eleastic modulus 128GPa,<br>\n",
    "and the third layer is 25mm thick with an eleastic mosulus of 207GPa<br>\n",
    "<img src=\"img/one_threaded_Fastener.jpg\" width=\"300\"/>"
   ]
  },
  {
   "cell_type": "markdown",
   "metadata": {},
   "source": [
    "import os\n",
    "os.chdir('..')\n",
    "os.chdir('..')"
   ]
  },
  {
   "cell_type": "markdown",
   "metadata": {},
   "source": [
    "__Defining the Bolt__"
   ]
  },
  {
   "cell_type": "code",
   "execution_count": 55,
   "metadata": {},
   "outputs": [
    {
     "name": "stdout",
     "output_type": "stream",
     "text": [
      "Estimated Pre-Load(Fi) for both static and fatigue loading:\n",
      "for reused fasteners Fi = 0.75 * Fp = 37919.94 [N]\n",
      "for permanent connections Fi = 0.90 * Fp = 45503.93 [N]\n",
      "\n"
     ]
    }
   ],
   "source": [
    "from me_toolbox.fasteners import MetricBolt\n",
    "\n",
    "diameter, pitch, length, grade = 12, 1.75, 75, \"8.8\" # length in [mm]\n",
    "M3 = MetricBolt(diameter, pitch, length, grade)\n",
    "\n",
    "M3.estimate_pre_load()"
   ]
  },
  {
   "cell_type": "markdown",
   "metadata": {},
   "source": [
    "__Defining the Fastener__"
   ]
  },
  {
   "cell_type": "code",
   "execution_count": 56,
   "metadata": {},
   "outputs": [],
   "source": [
    "from me_toolbox.fasteners import ThreadedFastener\n",
    "bolt=M3\n",
    "layers = [[25,153e3], [7,128e3], [25,207e3]]  # [[mm,MPa],...]\n",
    "pre_load=25e3 # [N]\n",
    "load = 18.12e3 # [N]\n",
    "fastener = ThreadedFastener(bolt, layers, pre_load, load)"
   ]
  },
  {
   "cell_type": "markdown",
   "metadata": {},
   "source": [
    "__Bolt geometry__"
   ]
  },
  {
   "cell_type": "code",
   "execution_count": 49,
   "metadata": {},
   "outputs": [
    {
     "name": "stdout",
     "output_type": "stream",
     "text": [
      "Bolt length: L=75\n",
      "Bolt threaded length: LT=30\n",
      "Bolt unthreaded length: ld=45\n",
      "Nominal area: Ad=113.10\n",
      "Stress area: At=84.27\n"
     ]
    }
   ],
   "source": [
    "print(f\"Bolt length: L={bolt.length}\")\n",
    "print(f\"Bolt threaded length: LT={bolt.thread_length}\")\n",
    "print(f\"Bolt unthreaded length: ld={bolt.unthreaded_length}\")\n",
    "print(f\"Nominal area: Ad={bolt.nominal_area:.2f}\")\n",
    "print(f\"Stress area: At={bolt.stress_area:.2f}\")"
   ]
  },
  {
   "cell_type": "markdown",
   "metadata": {},
   "source": [
    "__Fastner geometry__"
   ]
  },
  {
   "cell_type": "code",
   "execution_count": 51,
   "metadata": {},
   "outputs": [
    {
     "name": "stdout",
     "output_type": "stream",
     "text": [
      "Substrate thickness: l=57\n",
      "Gripped threads length: lt=12\n"
     ]
    }
   ],
   "source": [
    "print(f\"Substrate thickness: l={fastener.grip_length}\")\n",
    "print(f\"Gripped threads length: lt={fastener.griped_threads}\")"
   ]
  },
  {
   "cell_type": "markdown",
   "metadata": {},
   "source": [
    "__Resulting bolt stifness__"
   ]
  },
  {
   "cell_type": "code",
   "execution_count": 57,
   "metadata": {},
   "outputs": [
    {
     "name": "stdout",
     "output_type": "stream",
     "text": [
      "The bolt stiffness: Kb=388678.26[N/mm]\n"
     ]
    }
   ],
   "source": [
    "print(f\"The bolt stiffness: Kb={fastener.bolt_stiffness:.2f}[N/mm]\")"
   ]
  },
  {
   "cell_type": "markdown",
   "metadata": {},
   "source": [
    "__Resulting substrate stiffness__"
   ]
  },
  {
   "cell_type": "code",
   "execution_count": 58,
   "metadata": {},
   "outputs": [
    {
     "name": "stdout",
     "output_type": "stream",
     "text": [
      "The substrate stiffness: Km=1672066.92[N/mm]\n"
     ]
    }
   ],
   "source": [
    "print(f\"The substrate stiffness: Km={fastener.substrate_stiffness:.2f}[N/mm]\")"
   ]
  },
  {
   "cell_type": "markdown",
   "metadata": {},
   "source": [
    "__Stiffness constant of the joint__"
   ]
  },
  {
   "cell_type": "code",
   "execution_count": 60,
   "metadata": {},
   "outputs": [
    {
     "name": "stdout",
     "output_type": "stream",
     "text": [
      "stiffness constant: C=0.19\n"
     ]
    }
   ],
   "source": [
    "print(f\"stiffness constant: C={fastener.fastener_stiffness:.2f}\")"
   ]
  },
  {
   "cell_type": "markdown",
   "metadata": {},
   "source": [
    "__Forces__"
   ]
  },
  {
   "cell_type": "code",
   "execution_count": 69,
   "metadata": {},
   "outputs": [
    {
     "name": "stdout",
     "output_type": "stream",
     "text": [
      "The force of seperation: Fs=18120.00 [N]\n",
      "The force on the bolt: Fb=28417.62 [N]\n",
      "The force on the substrate: Fb=-10297.62 [N]\n"
     ]
    }
   ],
   "source": [
    "print(f\"The force of seperation: Fs={fastener.load:.2f} [N]\")\n",
    "print(f\"The force on the bolt: Fb={fastener.bolt_load:.2f} [N]\")\n",
    "print(f\"The force on the substrate: Fb={fastener.substrate_load:.2f} [N]\")"
   ]
  },
  {
   "cell_type": "code",
   "execution_count": 36,
   "metadata": {},
   "outputs": [
    {
     "name": "stdout",
     "output_type": "stream",
     "text": [
      "n0=1.70\n",
      "nL=7.48\n",
      "np=1.78\n"
     ]
    }
   ],
   "source": [
    "print(f\"n0={fastener.separation_safety_factor:.2f}\")\n",
    "print(f\"nL={fastener.load_safety_factor:.2f}\")\n",
    "print(f\"np={fastener.proof_safety_factor:.2f}\")"
   ]
  }
 ],
 "metadata": {
  "kernelspec": {
   "display_name": "Python 3",
   "language": "python",
   "name": "python3"
  },
  "language_info": {
   "codemirror_mode": {
    "name": "ipython",
    "version": 3
   },
   "file_extension": ".py",
   "mimetype": "text/x-python",
   "name": "python",
   "nbconvert_exporter": "python",
   "pygments_lexer": "ipython3",
   "version": "3.9.1"
  }
 },
 "nbformat": 4,
 "nbformat_minor": 4
}
