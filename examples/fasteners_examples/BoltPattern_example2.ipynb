{
 "cells": [
  {
   "cell_type": "markdown",
   "metadata": {},
   "source": [
    "# Multipul Bolts strength calculations"
   ]
  },
  {
   "cell_type": "markdown",
   "metadata": {},
   "source": [
    "<table><tr>\n",
    "<td> <img src=\"./img/example-2-a.png\" width=200\"/> </td>\n",
    "<td> <img src=\"./img/example-2-b.png\" width=280\"/> </td>\n",
    "<td> <img src=\"./img/example-2-c.png\" width=215\"/> </td>\n",
    "</tr></table>\n",
    "\n",
    "A force P of 8140$[N]$ is applied as shown in the images above,\n",
    "The bracket and the bolts are made of steel with an elastic modulus of 207$[GPa]$,\n",
    "The bottom substrate is made out of Aluminum with am elastic modulus of 76$[GPa]$,\n",
    "The bolts are grade 5.8, the preload force on The M10 bolts is 18750$[N]$ and the preload force on The M8 bolt is 11812.5$[N]$, the length of the M10 bolts is 33$[mm]$\n",
    "and the length of the M8 bolts is 30$[mm]$"
   ]
  },
  {
   "cell_type": "markdown",
   "metadata": {},
   "source": [
    "Importing the relevant Classes"
   ]
  },
  {
   "cell_type": "code",
   "execution_count": 30,
   "metadata": {},
   "outputs": [],
   "source": [
    "from me_toolbox.fasteners import ThreadedFastener\n",
    "from me_toolbox.fasteners import Bolt\n",
    "from me_toolbox.fasteners import BoltPattern"
   ]
  },
  {
   "cell_type": "markdown",
   "metadata": {},
   "source": [
    "## Defining the substrate layers"
   ]
  },
  {
   "cell_type": "markdown",
   "metadata": {},
   "source": [
    "List of substrates thicknesses (in mm)"
   ]
  },
  {
   "cell_type": "code",
   "execution_count": 31,
   "metadata": {},
   "outputs": [],
   "source": [
    "thickness = [10, 50]"
   ]
  },
  {
   "cell_type": "markdown",
   "metadata": {},
   "source": [
    "List of substrates elasticity (in Mpa)"
   ]
  },
  {
   "cell_type": "code",
   "execution_count": 32,
   "metadata": {},
   "outputs": [],
   "source": [
    "elastic = [207e3, 76e3]"
   ]
  },
  {
   "cell_type": "markdown",
   "metadata": {},
   "source": [
    "Making a list made of the substrate thickness and elasticity pairs <br>\n",
    "$[[mm,MPa],[mm,MPa]]$"
   ]
  },
  {
   "cell_type": "code",
   "execution_count": 33,
   "metadata": {},
   "outputs": [
    {
     "name": "stdout",
     "output_type": "stream",
     "text": [
      "1st layer: 10mm , 207000.0 MPa\n",
      "2nd layer: 50mm , 76000.0 MPa\n"
     ]
    }
   ],
   "source": [
    "layers = [[t, E] for t, E in zip(thickness, elastic)]  # [[25,153e3], [7,128e3], [25,207e3]]\n",
    "\n",
    "import inflect\n",
    "p = inflect.engine()\n",
    "\n",
    "for i, layer in enumerate(layers):\n",
    "    print(f\"{p.ordinal(i+1)} layer: {layer[0]}mm , {layer[1]} MPa\")"
   ]
  },
  {
   "cell_type": "markdown",
   "metadata": {},
   "source": [
    "## Prepering an M10 Fastener"
   ]
  },
  {
   "cell_type": "markdown",
   "metadata": {},
   "source": [
    "M10 Bolt properties"
   ]
  },
  {
   "cell_type": "code",
   "execution_count": 34,
   "metadata": {},
   "outputs": [],
   "source": [
    "diameter = 10 # [mm]\n",
    "pitch = 1.5 # [mm]\n",
    "length = 33 # [mm]\n",
    "threaded_length = 26 # [mm]\n",
    "grade = '5.8'\n",
    "E = 207e3 # [MPa]"
   ]
  },
  {
   "cell_type": "markdown",
   "metadata": {},
   "source": [
    "Using Bolt's built-in method to get the strength properties (in MPa) out of the grade and diameter"
   ]
  },
  {
   "cell_type": "code",
   "execution_count": 35,
   "metadata": {},
   "outputs": [
    {
     "name": "stdout",
     "output_type": "stream",
     "text": [
      "Proof Strength - Sp = 380 [MPa]\n",
      "Ultimate Tensile Strength - Sut = 520 [MPa]\n",
      "Yield Strength - Sy = 420 [MPa]\n"
     ]
    }
   ],
   "source": [
    "Sy, Sut, Sp = Bolt.get_strength_prop(diameter, grade)\n",
    "\n",
    "print(f\"Proof Strength - Sp = {Sp} [MPa]\\n\"\n",
    "    f\"Ultimate Tensile Strength - Sut = {Sut} [MPa]\\n\"\n",
    "    f\"Yield Strength - Sy = {Sy} [MPa]\")\n"
   ]
  },
  {
   "cell_type": "markdown",
   "metadata": {},
   "source": [
    "Defining a bolt object"
   ]
  },
  {
   "cell_type": "code",
   "execution_count": 36,
   "metadata": {},
   "outputs": [],
   "source": [
    "M10 = Bolt(diameter, pitch, length, threaded_length, Sy, Sut, Sp, E)"
   ]
  },
  {
   "cell_type": "markdown",
   "metadata": {},
   "source": [
    "Defining an M10 threaded fastener object"
   ]
  },
  {
   "cell_type": "code",
   "execution_count": 37,
   "metadata": {},
   "outputs": [],
   "source": [
    "M10_fastener = ThreadedFastener(M10, layers, nut=False, preload=18750)"
   ]
  },
  {
   "cell_type": "markdown",
   "metadata": {},
   "source": [
    "***"
   ]
  },
  {
   "cell_type": "markdown",
   "metadata": {},
   "source": [
    "***Estimating the preload***<br>\n",
    "**In this case the preload is specified** but we can also use the<br>\n",
    "Bolt's object built-in function to return an estimated preload.<br>\n",
    "If the bolt is ment to be reused then the estimated preload is 75% of the bolt's proof load,<br>\n",
    "If the bolt is not ment to be reused then the estimated preload is 90% of the bolt's proof load."
   ]
  },
  {
   "cell_type": "code",
   "execution_count": 38,
   "metadata": {},
   "outputs": [
    {
     "name": "stdout",
     "output_type": "stream",
     "text": [
      "M10 Estimated Preload for a reused bolt = 16527.04[N]\n",
      "M10 Estimated Preload for a permenant bolt= 19832.44[N]\n"
     ]
    }
   ],
   "source": [
    "M10_estimated_preload = M10.estimate_preload(reused=True)\n",
    "print(f\"M10 Estimated Preload for a reused bolt = {M10_estimated_preload:.2f}[N]\")\n",
    "M10_estimated_preload = M10.estimate_preload(reused=False)\n",
    "print(f\"M10 Estimated Preload for a permenant bolt= {M10_estimated_preload:.2f}[N]\")"
   ]
  },
  {
   "cell_type": "markdown",
   "metadata": {},
   "source": [
    "***"
   ]
  },
  {
   "cell_type": "markdown",
   "metadata": {},
   "source": [
    "## Prepering an M8 Fastener"
   ]
  },
  {
   "cell_type": "markdown",
   "metadata": {},
   "source": [
    "M8 Bolt properties"
   ]
  },
  {
   "cell_type": "code",
   "execution_count": 39,
   "metadata": {},
   "outputs": [],
   "source": [
    "diameter = 8 # [mm]\n",
    "pitch = 1.25 # [mm]\n",
    "length = 30 # [mm]\n",
    "threaded_length = 22 # [mm]\n",
    "grade = '5.8'\n",
    "E = 207e3 # [MPa]"
   ]
  },
  {
   "cell_type": "markdown",
   "metadata": {},
   "source": [
    "Using Bolt's built-in method to get the strength properties (in MPa) out of the grade and diameter"
   ]
  },
  {
   "cell_type": "code",
   "execution_count": 40,
   "metadata": {},
   "outputs": [
    {
     "name": "stdout",
     "output_type": "stream",
     "text": [
      "Proof Strength - Sp = 380 [MPa]\n",
      "Ultimate Tensile Strength - Sut = 520 [MPa]\n",
      "Yield Strength - Sy = 420 [MPa]\n"
     ]
    }
   ],
   "source": [
    "Sy, Sut, Sp = Bolt.get_strength_prop(diameter, grade)\n",
    "\n",
    "print(f\"Proof Strength - Sp = {Sp} [MPa]\\n\"\n",
    "    f\"Ultimate Tensile Strength - Sut = {Sut} [MPa]\\n\"\n",
    "    f\"Yield Strength - Sy = {Sy} [MPa]\")\n"
   ]
  },
  {
   "cell_type": "markdown",
   "metadata": {},
   "source": [
    "Defining a bolt object"
   ]
  },
  {
   "cell_type": "code",
   "execution_count": 41,
   "metadata": {},
   "outputs": [],
   "source": [
    "M8 = Bolt(diameter, pitch, length, threaded_length, Sy, Sut, Sp, E)"
   ]
  },
  {
   "cell_type": "markdown",
   "metadata": {},
   "source": [
    "Defining an M8 threaded fastener object"
   ]
  },
  {
   "cell_type": "code",
   "execution_count": 42,
   "metadata": {},
   "outputs": [],
   "source": [
    "M8_fastener = ThreadedFastener(M8, layers, nut=False, preload=11812.5)"
   ]
  },
  {
   "cell_type": "markdown",
   "metadata": {},
   "source": [
    "## Creating the Bolt Pattern"
   ]
  },
  {
   "cell_type": "markdown",
   "metadata": {},
   "source": [
    "Making a list of the fasteners and another list of their locations in the pattern."
   ]
  },
  {
   "cell_type": "code",
   "execution_count": 43,
   "metadata": {},
   "outputs": [],
   "source": [
    "fasteners = [M10_fastener, M10_fastener, M8_fastener, M8_fastener]\n",
    "fasteners_locations = [[-20, 20, 0], [-20, -20, 0], [-61, 0, 0], [-85, 0, 0]]"
   ]
  },
  {
   "cell_type": "markdown",
   "metadata": {},
   "source": [
    "The vector sum of the external forces"
   ]
  },
  {
   "cell_type": "code",
   "execution_count": 44,
   "metadata": {},
   "outputs": [],
   "source": [
    "force = [0, 0, -8140]  # [N]"
   ]
  },
  {
   "cell_type": "markdown",
   "metadata": {},
   "source": [
    "The location where the force is applied"
   ]
  },
  {
   "cell_type": "code",
   "execution_count": 45,
   "metadata": {},
   "outputs": [],
   "source": [
    "force_location = [40, 0, 0]"
   ]
  },
  {
   "cell_type": "markdown",
   "metadata": {},
   "source": [
    "List containing two points which discribs the position and direction of the axis of rotation,<br>\n",
    "That is the axis in which to bolted part want to rotate around when the force is applied."
   ]
  },
  {
   "cell_type": "code",
   "execution_count": 46,
   "metadata": {},
   "outputs": [],
   "source": [
    "axis_of_rotation = [[0, 0], [0, 1]]"
   ]
  },
  {
   "cell_type": "code",
   "execution_count": 47,
   "metadata": {},
   "outputs": [],
   "source": [
    "pattern = BoltPattern(fasteners, fasteners_locations, force, force_location, axis_of_rotation, 'shank')"
   ]
  },
  {
   "cell_type": "markdown",
   "metadata": {},
   "source": [
    "## Analysis"
   ]
  },
  {
   "cell_type": "markdown",
   "metadata": {},
   "source": [
    "### Some parameters"
   ]
  },
  {
   "cell_type": "code",
   "execution_count": 48,
   "metadata": {},
   "outputs": [
    {
     "name": "stdout",
     "output_type": "stream",
     "text": [
      "M8 Bolt: \n",
      "Shank Length - ld = 8[mm]\n",
      "Griped Thread length - lt = 6.0[mm]\n",
      "Nominal Area - Ad = 50.27[mm^2]\n",
      "Stress Area - At = 36.61[mm^2]\n",
      "Bolt Stiffness - kb = 640.77 [kN/mm]\n",
      "member stiffness - km = 1202.73 [kN/mm]\n",
      "fastener stiffness - C = 0.348\n"
     ]
    }
   ],
   "source": [
    "print(f\"M8 Bolt: \\nShank Length - ld = {M8.shank_length}[mm]\\n\" \n",
    "      f\"Griped Thread length - lt = {M8_fastener.griped_thread_length}[mm]\\n\"\n",
    "      f\"Nominal Area - Ad = {M8.nominal_area:.2f}[mm^2]\\n\"\n",
    "      f\"Stress Area - At = {M8.stress_area:.2f}[mm^2]\\n\"\n",
    "      f\"Bolt Stiffness - kb = {M8_fastener.bolt_stiffness*1e-3:.2f} [kN/mm]\\n\"\n",
    "      f\"member stiffness - km = {M8_fastener.member_stiffness*1e-3:.2f} [kN/mm]\\n\"\n",
    "      f\"fastener stiffness - C = {M8_fastener.fastener_stiffness:.3f}\")"
   ]
  },
  {
   "cell_type": "code",
   "execution_count": 49,
   "metadata": {},
   "outputs": [
    {
     "name": "stdout",
     "output_type": "stream",
     "text": [
      "M10 Bolt: \n",
      "Shank Length - ld = 7[mm]\n",
      "Griped Thread length - lt = 8.0[mm]\n",
      "Nominal Area - Ad = 78.54[mm^2]\n",
      "Stress Area - At = 57.99[mm^2]\n",
      "Bolt Stiffness - kb = 911.56 [kN/mm]\n",
      "member stiffness - km = 1577.26 [kN/mm]\n",
      "fastener stiffness - C = 0.366\n"
     ]
    }
   ],
   "source": [
    "print(f\"M10 Bolt: \\nShank Length - ld = {M10.shank_length}[mm]\\n\" \n",
    "      f\"Griped Thread length - lt = {M10_fastener.griped_thread_length}[mm]\\n\"\n",
    "      f\"Nominal Area - Ad = {M10.nominal_area:.2f}[mm^2]\\n\"\n",
    "      f\"Stress Area - At = {M10.stress_area:.2f}[mm^2]\\n\"\n",
    "      f\"Bolt Stiffness - kb = {M10_fastener.bolt_stiffness*1e-3:.2f} [kN/mm]\\n\"\n",
    "      f\"member stiffness - km = {M10_fastener.member_stiffness*1e-3:.2f} [kN/mm]\\n\"\n",
    "      f\"fastener stiffness - C = {M10_fastener.fastener_stiffness:.3f}\")"
   ]
  },
  {
   "cell_type": "markdown",
   "metadata": {},
   "source": [
    "### Finding forces and stresses"
   ]
  },
  {
   "cell_type": "markdown",
   "metadata": {},
   "source": [
    "Total shear forces $(F_{i})$ and shear stress $(τ)$ in each fastener."
   ]
  },
  {
   "cell_type": "code",
   "execution_count": 50,
   "metadata": {},
   "outputs": [
    {
     "name": "stdout",
     "output_type": "stream",
     "text": [
      "Fastener(M10) - Fi_1 = [0.00, 0.00, 0.00][N]\n",
      "Fastener(M10) - Fi_2 = [0.00, 0.00, 0.00][N]\n",
      "Fastener(M8) - Fi_3 = [0.00, 0.00, 0.00][N]\n",
      "Fastener(M8) - Fi_4 = [0.00, 0.00, 0.00][N]\n",
      "\n",
      "shear stress - τ = ['0.00', '0.00', '0.00', '0.00'] [MPa]\n"
     ]
    }
   ],
   "source": [
    "for i, shear_force in enumerate(pattern.total_shear_force):\n",
    "    print(f\"{pattern.fasteners[i]} - Fi_{i+1} = [{shear_force[0]:.2f}, {shear_force[1]:.2f}, {shear_force[2]:.2f}][N]\")\n",
    "\n",
    "print(f\"\\nshear stress - τ = {[\"%.2f\" % stress for stress in pattern.shear_stress]} [MPa]\")"
   ]
  },
  {
   "cell_type": "markdown",
   "metadata": {},
   "source": [
    "Fastener Load $(P)$, Bolt Load $(F_{b})$, Normal stress $(σ)$ and Equivalent stress $(σ_{eq})$"
   ]
  },
  {
   "cell_type": "code",
   "execution_count": 51,
   "metadata": {},
   "outputs": [
    {
     "name": "stdout",
     "output_type": "stream",
     "text": [
      "Fastener Load     - P    = ['829.39', '829.39', '1676.62', '3017.67']\n",
      "Bolt Load         - Fb   = ['19053.77', '19053.77', '12395.26', '12861.38']\n",
      "Normal stress     - σ    = ['328.57', '328.57', '338.59', '351.32']\n",
      "\n"
     ]
    }
   ],
   "source": [
    "print(f\"Fastener Load     - P    = {[\"%.2f\" % load for load in pattern.fastener_load]}\\n\"\n",
    "      f\"Bolt Load         - Fb   = {[\"%.2f\" % load for load in pattern.bolt_load]}\\n\"\n",
    "      f\"Normal stress     - σ    = {[\"%.2f\" % stress for stress in pattern.normal_stress]}\\n\")\n",
    "      "
   ]
  },
  {
   "cell_type": "markdown",
   "metadata": {},
   "source": [
    "The equivalent stresses on each bolt $( σ_{eq}^i=\\sqrt{σ_{i}^2+3τ_{i}^2} )$"
   ]
  },
  {
   "cell_type": "code",
   "execution_count": 52,
   "metadata": {},
   "outputs": [
    {
     "name": "stdout",
     "output_type": "stream",
     "text": [
      "Equivalent stress - σ_eq = ['328.57', '328.57', '338.59', '351.32']\n",
      "\n",
      "just to clearify every item in the list is the equivalent stress for each fastener:\n",
      "Fastener(M10) - σ_eq_1 = 328.57[MPa]\n",
      "Fastener(M10) - σ_eq_2 = 328.57[MPa]\n",
      "Fastener(M8) - σ_eq_3 = 338.59[MPa]\n",
      "Fastener(M8) - σ_eq_4 = 351.32[MPa]\n"
     ]
    }
   ],
   "source": [
    "print(f\"Equivalent stress - σ_eq = {[\"%.2f\" % stress for stress in pattern.equivalent_stresses]}\\n\")\n",
    "\n",
    "print(f\"just to clearify every item in the list is the equivalent stress for each fastener:\")\n",
    "for i, stress in enumerate(pattern.equivalent_stresses):\n",
    "    print(f\"{pattern.fasteners[i]} - σ_eq_{i+1} = {stress:.2f}[MPa]\")\n"
   ]
  },
  {
   "cell_type": "markdown",
   "metadata": {},
   "source": [
    "### Finding safty factors ###"
   ]
  },
  {
   "cell_type": "markdown",
   "metadata": {},
   "source": [
    "#### Seperation Safety Factor - $n_{0}$\n",
    "Is the non-separation safety factor between the substrates,<br>\n",
    "which is a necessary condition for the fastener to function."
   ]
  },
  {
   "cell_type": "code",
   "execution_count": 53,
   "metadata": {},
   "outputs": [
    {
     "name": "stdout",
     "output_type": "stream",
     "text": [
      "Seperation safty factors:\n",
      "Fastener(M10) - n0 = 35.67\n",
      "Fastener(M10) - n0 = 35.67\n",
      "Fastener(M8) - n0 = 10.80\n",
      "Fastener(M8) - n0 = 6.00\n",
      "\n",
      "The lowest np value: 6.0\n"
     ]
    }
   ],
   "source": [
    "print(f\"Seperation safty factors:\")\n",
    "n0_min = pattern.separation_safety_factor(minimal_value=True, verbose=True)\n",
    "print(f\"The lowest np value: {round(n0_min,2)}\")"
   ]
  },
  {
   "cell_type": "markdown",
   "metadata": {},
   "source": [
    "#### Load Safety Factor - $n_{L}$\n",
    "Means how many times the external load (P) can be multiply until reaching<br>\n",
    "the proof strength (Sp) of the bolt."
   ]
  },
  {
   "cell_type": "code",
   "execution_count": 54,
   "metadata": {},
   "outputs": [
    {
     "name": "stdout",
     "output_type": "stream",
     "text": [
      "Load safty factors:\n",
      "Fastener(M10) - nL = 10.82\n",
      "Fastener(M10) - nL = 10.82\n",
      "Fastener(M8) - nL = 3.60\n",
      "Fastener(M8) - nL = 2.00\n",
      "\n",
      "The lowest nL value: 2.0\n"
     ]
    }
   ],
   "source": [
    "print(f\"Load safty factors:\")\n",
    "nL_min = pattern.load_safety_factor(minimal_value=True, verbose=True)\n",
    "print(f\"The lowest nL value: {round(nL_min,2)}\")"
   ]
  },
  {
   "cell_type": "markdown",
   "metadata": {},
   "source": [
    "#### Proof Safety Factor - $n_{p}$\n",
    "Means how many times the Bolt load ($F_{b}$) can be multiply until reaching<br>\n",
    "the proof strength (Sp) of the bolt."
   ]
  },
  {
   "cell_type": "code",
   "execution_count": 55,
   "metadata": {},
   "outputs": [
    {
     "name": "stdout",
     "output_type": "stream",
     "text": [
      "Proof safty factors:\n",
      "Fastener(M10) - np = 1.16\n",
      "Fastener(M10) - np = 1.16\n",
      "Fastener(M8) - np = 1.12\n",
      "Fastener(M8) - np = 1.08\n",
      "\n",
      "The lowest np value: 1.08\n"
     ]
    }
   ],
   "source": [
    "print(f\"Proof safty factors:\")\n",
    "np_min = pattern.proof_safety_factor(minimal_value=True, verbose=True)\n",
    "print(f\"The lowest np value: {round(np_min,2)}\")"
   ]
  },
  {
   "cell_type": "markdown",
   "metadata": {},
   "source": [
    "### Location of neutral point"
   ]
  },
  {
   "cell_type": "code",
   "execution_count": 59,
   "metadata": {},
   "outputs": [
    {
     "name": "stdout",
     "output_type": "stream",
     "text": [
      "If the force is applied at the neutral point there are no eccentric moments\n",
      "neutral point location: x=-42.55,y=0.0,z=0.0\n"
     ]
    }
   ],
   "source": [
    "print(\"If the force is applied at the neutral point there are no eccentric moments\")\n",
    "print(f\"neutral point location: \"\n",
    "      f\"x={pattern.neutral_point[0]:.2f},\"\n",
    "      f\"y={pattern.neutral_point[1]},\"\n",
    "      f\"z={pattern.neutral_point[2]}\")"
   ]
  }
 ],
 "metadata": {
  "kernelspec": {
   "display_name": "Python 3",
   "language": "python",
   "name": "python3"
  },
  "language_info": {
   "codemirror_mode": {
    "name": "ipython",
    "version": 3
   },
   "file_extension": ".py",
   "mimetype": "text/x-python",
   "name": "python",
   "nbconvert_exporter": "python",
   "pygments_lexer": "ipython3",
   "version": "3.9.1"
  }
 },
 "nbformat": 4,
 "nbformat_minor": 5
}
